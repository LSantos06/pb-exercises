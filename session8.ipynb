{
 "cells": [
  {
   "cell_type": "code",
   "execution_count": 1,
   "metadata": {},
   "outputs": [],
   "source": [
    "# import everything and define a test runner function\n",
    "from importlib import reload\n",
    "from helper import run_test\n",
    "\n",
    "import block\n",
    "import ecc\n",
    "import helper\n",
    "import network\n",
    "import script\n",
    "import tx"
   ]
  },
  {
   "cell_type": "code",
   "execution_count": null,
   "metadata": {},
   "outputs": [],
   "source": []
  },
  {
   "cell_type": "markdown",
   "metadata": {},
   "source": [
    "### Exercise 8\n",
    "\n",
    "#### 8.1. Verify a Merkle Proof\n",
    "Transaction Hash:\n",
    "```\n",
    "e8270fb475763bc8d855cfe45ed98060988c1bdcad2ffc8364f783c98999a208\n",
    "```\n",
    "\n",
    "Index:\n",
    "```\n",
    "6\n",
    "```\n",
    "\n",
    "Merkle Root:\n",
    "```\n",
    "4297fb95a0168b959d1469410c7527da5d6243d99699e7d041b7f3916ba93301\n",
    "```\n",
    "\n",
    "Merkle Proof:\n",
    "```\n",
    "9ed0a5430b5b530822b1ce1b2b9a03d513c888aaa3f028f041bf143efd8c1b92\n",
    "1dc4b438b3a842bcdd46b6ea5a4aac8d66be858b0ba412578027a1f1fe838c51\n",
    "156f3662b07aaa4a0d9762faaa8c18afe4c211ff92eb1eae1952aa66627bbf2e\n",
    "524c93c6dd0874c5fd9e4e57cfe83176e3c2841c973afb4043d225c22cc52983\n",
    "```\n",
    "\n",
    "#### 8.2. Make [this test](/edit/session7/block.py) pass.\n",
    "```\n",
    "block.py:BlockTest:test_verify_merkle_proof\n",
    "```"
   ]
  },
  {
   "cell_type": "code",
   "execution_count": 23,
   "metadata": {},
   "outputs": [
    {
     "name": "stdout",
     "output_type": "stream",
     "text": [
      "True\n"
     ]
    }
   ],
   "source": [
    "# Exercise 8.1\n",
    "\n",
    "from block import Proof\n",
    "from helper import double_sha256, merkle_root, merkle_path, merkle_parent\n",
    "\n",
    "tx_hash = bytes.fromhex('e8270fb475763bc8d855cfe45ed98060988c1bdcad2ffc8364f783c98999a208')\n",
    "merkle_root = bytes.fromhex('4297fb95a0168b959d1469410c7527da5d6243d99699e7d041b7f3916ba93301')\n",
    "proof_hex_hashes = [\n",
    "    '9ed0a5430b5b530822b1ce1b2b9a03d513c888aaa3f028f041bf143efd8c1b92',\n",
    "    '1dc4b438b3a842bcdd46b6ea5a4aac8d66be858b0ba412578027a1f1fe838c51',\n",
    "    '156f3662b07aaa4a0d9762faaa8c18afe4c211ff92eb1eae1952aa66627bbf2e',\n",
    "    '524c93c6dd0874c5fd9e4e57cfe83176e3c2841c973afb4043d225c22cc52983',\n",
    "]\n",
    "proof_hashes = [bytes.fromhex(x) for x in proof_hex_hashes]\n",
    "index = 6\n",
    "\n",
    "# get the current hash (reverse tx_hash as it needs to be little endian)\n",
    "current = tx_hash[::-1]\n",
    "# initialize the current_index to the index\n",
    "current_index = index\n",
    "# loop through proof hashes\n",
    "for proof_hash in proof_hashes:\n",
    "    # if current_index is odd, proof_hash is on the left\n",
    "    if current_index % 2 == 1:\n",
    "        current = merkle_parent(proof_hash, current)\n",
    "    # if current_index is even, proof_hash is on the right\n",
    "    else:\n",
    "        current = merkle_parent(current, proof_hash)\n",
    "    # update current_index to be integer divide by 2\n",
    "    current_index //= 2\n",
    "# see if the current one reversed is the same as merkle root\n",
    "print(current[::-1] == merkle_root)"
   ]
  },
  {
   "cell_type": "code",
   "execution_count": 24,
   "metadata": {},
   "outputs": [
    {
     "name": "stderr",
     "output_type": "stream",
     "text": [
      ".\n",
      "----------------------------------------------------------------------\n",
      "Ran 1 test in 0.001s\n",
      "\n",
      "OK\n"
     ]
    }
   ],
   "source": [
    "# Exercise 8.2\n",
    "\n",
    "reload(block)\n",
    "run_test(block.BlockTest('test_verify_merkle_proof'))"
   ]
  },
  {
   "cell_type": "markdown",
   "metadata": {},
   "source": [
    "### Exercise 9\n",
    "\n",
    "#### Check the cheat sheet for the network message structure.\n",
    "\n",
    "#### 9.1. Parse this message\n",
    "```\n",
    "f9beb4d976657261636b000000000000000000005df6e0e2\n",
    "```\n",
    "\n",
    "#### 9.2. Make [these test](/edit/session7/network.py) pass.\n",
    "```\n",
    "network.py:NetworkTest:test_parse\n",
    "network.py:NetworkTest:test_serialize\n",
    "```"
   ]
  },
  {
   "cell_type": "code",
   "execution_count": 25,
   "metadata": {},
   "outputs": [
    {
     "name": "stdout",
     "output_type": "stream",
     "text": [
      "b'verack\\x00\\x00\\x00\\x00\\x00\\x00'\n"
     ]
    }
   ],
   "source": [
    "# Exercise 9.1\n",
    "\n",
    "msg = bytes.fromhex('f9beb4d976657261636b000000000000000000005df6e0e2')\n",
    "\n",
    "# first 4 are network magic\n",
    "magic = msg[:4]\n",
    "# next 12 are command\n",
    "command = msg[4:16]\n",
    "# next 4 are payload length\n",
    "payload_length = msg[16:20]\n",
    "# next 4 are checksum\n",
    "checksum = msg[20:24]\n",
    "# rest is payload\n",
    "payload = msg[24:]\n",
    "print(command)"
   ]
  },
  {
   "cell_type": "code",
   "execution_count": 26,
   "metadata": {},
   "outputs": [
    {
     "name": "stderr",
     "output_type": "stream",
     "text": [
      ".\n",
      "----------------------------------------------------------------------\n",
      "Ran 1 test in 0.001s\n",
      "\n",
      "OK\n",
      ".\n",
      "----------------------------------------------------------------------\n",
      "Ran 1 test in 0.002s\n",
      "\n",
      "OK\n"
     ]
    }
   ],
   "source": [
    "# Exercise 9.2\n",
    "\n",
    "reload(network)\n",
    "run_test(network.NetworkEnvelopeTest('test_parse'))\n",
    "run_test(network.NetworkEnvelopeTest('test_serialize'))"
   ]
  },
  {
   "cell_type": "markdown",
   "metadata": {},
   "source": [
    "### Exercise 10\n",
    "\n",
    "#### 10.1. Parse this message\n",
    "```\n",
    "f9beb4d974780000000000000000000002010000e293cdbe01000000016dbddb085b1d8af75184f0bc01fad58d1266e9b63b50881990e4b40d6aee3629000000008b483045022100f3581e1972ae8ac7c7367a7a253bc1135223adb9a468bb3a59233f45bc578380022059af01ca17d00e41837a1d58e97aa31bae584edec28d35bd96923690913bae9a0141049c02bfc97ef236ce6d8fe5d94013c721e915982acd2b12b65d9b7d59e20a842005f8fc4e02532e873d37b96f09d6d4511ada8f14042f46614a4c70c0f14beff5ffffffff02404b4c00000000001976a9141aa0cd1cbea6e7458a7abad512a9d9ea1afb225e88ac80fae9c7000000001976a9140eab5bea436a0484cfab12485efda0b78b4ecc5288ac00000000\n",
    "```\n"
   ]
  },
  {
   "cell_type": "code",
   "execution_count": 27,
   "metadata": {},
   "outputs": [
    {
     "name": "stdout",
     "output_type": "stream",
     "text": [
      "tx\u0000\u0000\u0000\u0000\u0000\u0000\u0000\u0000\u0000\u0000: 01000000016dbddb085b1d8af75184f0bc01fad58d1266e9b63b50881990e4b40d6aee3629000000008b483045022100f3581e1972ae8ac7c7367a7a253bc1135223adb9a468bb3a59233f45bc578380022059af01ca17d00e41837a1d58e97aa31bae584edec28d35bd96923690913bae9a0141049c02bfc97ef236ce6d8fe5d94013c721e915982acd2b12b65d9b7d59e20a842005f8fc4e02532e873d37b96f09d6d4511ada8f14042f46614a4c70c0f14beff5ffffffff02404b4c00000000001976a9141aa0cd1cbea6e7458a7abad512a9d9ea1afb225e88ac80fae9c7000000001976a9140eab5bea436a0484cfab12485efda0b78b4ecc5288ac00000000\n"
     ]
    }
   ],
   "source": [
    "# Exercise 10.1\n",
    "\n",
    "from io import BytesIO\n",
    "\n",
    "from network import NetworkEnvelope\n",
    "\n",
    "stream = BytesIO(bytes.fromhex('f9beb4d974780000000000000000000002010000e293cdbe01000000016dbddb085b1d8af75184f0bc01fad58d1266e9b63b50881990e4b40d6aee3629000000008b483045022100f3581e1972ae8ac7c7367a7a253bc1135223adb9a468bb3a59233f45bc578380022059af01ca17d00e41837a1d58e97aa31bae584edec28d35bd96923690913bae9a0141049c02bfc97ef236ce6d8fe5d94013c721e915982acd2b12b65d9b7d59e20a842005f8fc4e02532e873d37b96f09d6d4511ada8f14042f46614a4c70c0f14beff5ffffffff02404b4c00000000001976a9141aa0cd1cbea6e7458a7abad512a9d9ea1afb225e88ac80fae9c7000000001976a9140eab5bea436a0484cfab12485efda0b78b4ecc5288ac00000000'))\n",
    "# parse the stream in a NetworkEnvelope\n",
    "# print the object\n",
    "print(NetworkEnvelope.parse(stream))"
   ]
  },
  {
   "cell_type": "markdown",
   "metadata": {},
   "source": [
    "### Exercise 11\n",
    "\n",
    "Use https://bitnodes.earn.com/nodes/ to find nodes to connect to.\n",
    "\n",
    "#### 11.1. Run the code below and parse some messages\n",
    "\n",
    "#### Bonus: Run the connect.py script in the terminal to see how asynchronous connections can work"
   ]
  },
  {
   "cell_type": "code",
   "execution_count": 28,
   "metadata": {},
   "outputs": [
    {
     "name": "stdout",
     "output_type": "stream",
     "text": [
      "f9beb4d976657273696f6e00000000006600000038e841567f1101000d040000000000002183215b00000000010000000000000000000000000000000000ffffc61b6409208d0d04000000000000000000000000000000000000000000000000461af2d217758f72102f5361746f7368693a302e31362e302fd40b080001f9beb4d976657261636b000000000000000000005df6e0e2\n"
     ]
    }
   ],
   "source": [
    "import socket\n",
    "s = socket.socket(socket.AF_INET, socket.SOCK_STREAM)\n",
    "msg = bytes.fromhex('f9beb4d976657273696f6e0000000000650000005f1a69d2721101000100000000000000bc8f5e5400000000010000000000000000000000000000000000ffffc61b6409208d010000000000000000000000000000000000ffffcb0071c0208d128035cbc97953f80f2f5361746f7368693a302e392e332fcf05050001')\n",
    "s.connect(('46.101.99.121', 8333))\n",
    "s.sendall(msg)\n",
    "data = s.recv(200)\n",
    "print(data.hex())"
   ]
  }
 ],
 "metadata": {
  "kernelspec": {
   "display_name": "Python 3",
   "language": "python",
   "name": "python3"
  },
  "language_info": {
   "codemirror_mode": {
    "name": "ipython",
    "version": 3
   },
   "file_extension": ".py",
   "mimetype": "text/x-python",
   "name": "python",
   "nbconvert_exporter": "python",
   "pygments_lexer": "ipython3",
   "version": "3.5.2"
  }
 },
 "nbformat": 4,
 "nbformat_minor": 2
}
