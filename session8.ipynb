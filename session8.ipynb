{
 "cells": [
  {
   "cell_type": "code",
   "execution_count": 2,
   "metadata": {},
   "outputs": [],
   "source": [
    "# import everything and define a test runner function\n",
    "from importlib import reload\n",
    "from helper import run_test\n",
    "\n",
    "import bloomfilter\n",
    "import block\n",
    "import ecc\n",
    "import helper\n",
    "import merkleblock\n",
    "import network\n",
    "import script\n",
    "import tx"
   ]
  },
  {
   "cell_type": "markdown",
   "metadata": {},
   "source": [
    "### Exercise 1\n",
    "\n",
    "1. Given a Bloom Filter with these parameters: size=20, function count=5, tweak=99, which bits are set after adding these items? \n",
    "\n",
    " * `b'Hello World'`\n",
    " * `b'Goodbye!'`\n",
    "\n",
    "2. Make this test pass."
   ]
  },
  {
   "cell_type": "code",
   "execution_count": 13,
   "metadata": {},
   "outputs": [
    {
     "name": "stdout",
     "output_type": "stream",
     "text": [
      "0000000a080000000140\n",
      "4000600a080000010940\n"
     ]
    }
   ],
   "source": [
    "# Exercise 1.1\n",
    "\n",
    "from bloomfilter import BloomFilter, BIP37_CONSTANT\n",
    "from helper import murmur3\n",
    "\n",
    "size = 10\n",
    "function_count = 5\n",
    "tweak = 99\n",
    "\n",
    "items = (b'Hello World',  b'Goodbye!')\n",
    "\n",
    "# first the actual filter which is a bytearray of size size\n",
    "f = bytearray(size)\n",
    "\n",
    "# for each item you want to add to the filter\n",
    "for item in items:\n",
    "    # iterate function_count number of times\n",
    "    for i in range(function_count):\n",
    "        # BIP0037 spec seed is i*BIP37_CONSTANT + tweak\n",
    "        seed = i * BIP37_CONSTANT + tweak\n",
    "        # get the murmur3 hash given that seed\n",
    "        h = murmur3(item, seed=seed)\n",
    "        # set the bit at the hash mod the total number of bits in the filter\n",
    "        bit = h % (size * 8)\n",
    "        # get the byte index and bit index\n",
    "        filter_index, bit_index = divmod(bit, 8)\n",
    "        # the filter's byte index needs the bit at the bit_index set\n",
    "        f[filter_index] |= (1 << bit_index)\n",
    "    print(bytes(f).hex())"
   ]
  },
  {
   "cell_type": "code",
   "execution_count": 17,
   "metadata": {},
   "outputs": [
    {
     "name": "stderr",
     "output_type": "stream",
     "text": [
      ".\n",
      "----------------------------------------------------------------------\n",
      "Ran 1 test in 0.001s\n",
      "\n",
      "OK\n"
     ]
    }
   ],
   "source": [
    "# Exercise 1.2\n",
    "\n",
    "reload(bloomfilter)\n",
    "run_test(bloomfilter.BloomFilterTest('test_add'))"
   ]
  },
  {
   "cell_type": "markdown",
   "metadata": {},
   "source": [
    "### Exercise 2\n",
    "\n",
    "1. Make this test pass."
   ]
  },
  {
   "cell_type": "code",
   "execution_count": 19,
   "metadata": {},
   "outputs": [
    {
     "name": "stderr",
     "output_type": "stream",
     "text": [
      ".\n",
      "----------------------------------------------------------------------\n",
      "Ran 1 test in 0.001s\n",
      "\n",
      "OK\n"
     ]
    }
   ],
   "source": [
    "# Exercise 2.1\n",
    "\n",
    "reload(bloomfilter)\n",
    "run_test(bloomfilter.BloomFilterTest('test_filterload'))"
   ]
  },
  {
   "cell_type": "code",
   "execution_count": 24,
   "metadata": {},
   "outputs": [
    {
     "name": "stderr",
     "output_type": "stream",
     "text": [
      ".\n",
      "----------------------------------------------------------------------\n",
      "Ran 1 test in 0.002s\n",
      "\n",
      "OK\n"
     ]
    }
   ],
   "source": [
    "reload(merkleblock)\n",
    "run_test(merkleblock.MerkleBlockTest('test_is_valid'))"
   ]
  },
  {
   "cell_type": "code",
   "execution_count": null,
   "metadata": {},
   "outputs": [],
   "source": [
    "reload(tx)\n",
    "reload(network)\n",
    "reload(bloomfilter)\n",
    "reload(merkleblock)\n",
    "\n",
    "import time\n",
    "\n",
    "from random import randint\n",
    "from io import BytesIO\n",
    "\n",
    "from block import Block\n",
    "from bloomfilter import BloomFilter\n",
    "from helper import double_sha256, int_to_little_endian, encode_varint, read_varint, decode_base58, p2pkh_script, SIGHASH_ALL\n",
    "from merkleblock import MerkleBlock\n",
    "from network import NetworkEnvelope, SimpleNode, GetHeadersMessage\n",
    "from tx import Tx, TxIn, TxOut\n",
    "from ecc import PrivateKey\n",
    "\n",
    "private_key = PrivateKey(secret=int.from_bytes(double_sha256(b'Jimmy Song'), 'big'))\n",
    "\n",
    "addr = 'mtShBfBH9LFyHmqJFuKjmAPfv6jJmwpbeV'\n",
    "h160 = decode_base58(addr)\n",
    "bf = BloomFilter(30, 6, 42)\n",
    "bf.add(h160)\n",
    "\n",
    "target_address = 'muvpVznkBtk8rRSxLRVQRdUhsMjS7aKRne'\n",
    "target_h160 = decode_base58(target_address)\n",
    "target_script = p2pkh_script(target_h160)\n",
    "fee = 50000  # fee in satoshis\n",
    "\n",
    "node = SimpleNode('tbtc.programmingblockchain.com', testnet=True)\n",
    "\n",
    "# complete the handshake\n",
    "node.handshake()\n",
    "node.send(b'filterclear',b'')\n",
    "# load the bloom filter with the filterload command\n",
    "node.send(b'filterload', bf.filterload())\n",
    "\n",
    "# ask for blocks since block X\n",
    "starting_block = bytes.fromhex('0000000000000020ec00e9a5e463d9d61ca848c59ad1f37cc671bf8775c4884f')\n",
    "getheaders_message = GetHeadersMessage(starting_block=starting_block)\n",
    "node.send(b'getheaders', getheaders_message.serialize())\n",
    "\n",
    "# wait for headers\n",
    "headers_envelope = node.wait_for_commands({b'headers'})\n",
    "\n",
    "# loop through each header and ask for the merkleblock\n",
    "stream = BytesIO(headers_envelope.payload)\n",
    "num_headers = read_varint(stream)\n",
    "payload = encode_varint(num_headers)\n",
    "last_block = None\n",
    "for _ in range(num_headers):\n",
    "    b = Block.parse(stream)\n",
    "    if not b.check_pow():\n",
    "        raise RuntimeError('proof of work is invalid')\n",
    "    num_txs = read_varint(stream)\n",
    "    if num_txs != 0:\n",
    "        raise RuntimeError('got more than 0 txs')\n",
    "    if last_block is not None and b.prev_block != last_block:\n",
    "        raise RuntimeErrer('chain broken')\n",
    "    # ask for merkleblock\n",
    "    payload += int_to_little_endian(3, 4)\n",
    "    payload += b.hash()[::-1]\n",
    "    # set the last block\n",
    "    last_block = b.hash()\n",
    "node.send(b'getdata', payload)\n",
    "\n",
    "# look for merkleblock or tx commands and validate them\n",
    "txos = {}\n",
    "count = 0\n",
    "while True:\n",
    "    envelope = node.wait_for_commands({b'merkleblock', b'tx'})\n",
    "    stream = BytesIO(envelope.payload)\n",
    "    if envelope.command.startswith(b'merkleblock'):\n",
    "        continue\n",
    "        mb = MerkleBlock.parse(stream)\n",
    "        if not mb.is_valid():\n",
    "            raise RuntimeError('invalid merkle proof')\n",
    "    else:\n",
    "        count += 1\n",
    "        t = Tx.parse(stream, testnet=True)\n",
    "        for tx_in in t.tx_ins:\n",
    "            key = '{}:{}'.format(tx_in.prev_tx.hex(), tx_in.prev_index)\n",
    "            if txos.get(key):\n",
    "                txos.pop(key)\n",
    "\n",
    "        for i, tx_out in enumerate(t.tx_outs):\n",
    "            try:\n",
    "                if tx_out.hash160() == h160:\n",
    "                    txos['{}:{}'.format(t.hash().hex(),i)] = t\n",
    "            except:\n",
    "                pass\n",
    "        if count == 3:\n",
    "            break\n",
    "# create tx_ins\n",
    "tx_ins = []\n",
    "total = 0\n",
    "for key, pt in txos.items():\n",
    "    _, prev_index = key.split(':')\n",
    "    prev_index = int(prev_index)\n",
    "    tx_ins.append(TxIn(pt.hash(), prev_index, b'', 0xffffff))\n",
    "    total += pt.tx_outs[prev_index].amount\n",
    "    \n",
    "tx_outs = [TxOut(total-fee, target_script)]\n",
    "t = Tx(1, tx_ins, tx_outs, 0, testnet=True)\n",
    "for i in range(len(tx_ins)):\n",
    "    t.sign_input(i, private_key, SIGHASH_ALL)\n",
    "print(t.serialize().hex())\n",
    "# first, add this transaction to our bloom filter\n",
    "# send this signed transaction on the network\n",
    "node.send(b'tx', t.serialize())\n",
    "# now wait for a response\n",
    "envelope = node.wait_for_commands({b'inv', b'reject'})\n",
    "print(envelope.command)\n",
    "print(envelope.payload.hex())"
   ]
  },
  {
   "cell_type": "code",
   "execution_count": null,
   "metadata": {},
   "outputs": [],
   "source": []
  }
 ],
 "metadata": {
  "kernelspec": {
   "display_name": "Python 3",
   "language": "python",
   "name": "python3"
  },
  "language_info": {
   "codemirror_mode": {
    "name": "ipython",
    "version": 3
   },
   "file_extension": ".py",
   "mimetype": "text/x-python",
   "name": "python",
   "nbconvert_exporter": "python",
   "pygments_lexer": "ipython3",
   "version": "3.5.2"
  }
 },
 "nbformat": 4,
 "nbformat_minor": 2
}
