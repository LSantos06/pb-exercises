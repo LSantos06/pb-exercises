{
 "cells": [
  {
   "cell_type": "code",
   "execution_count": 2,
   "metadata": {},
   "outputs": [],
   "source": [
    "# import everything and define a test runner function\n",
    "from importlib import reload\n",
    "from helper import run_test\n",
    "\n",
    "import bloomfilter\n",
    "import block\n",
    "import ecc\n",
    "import helper\n",
    "import merkleblock\n",
    "import network\n",
    "import script\n",
    "import tx"
   ]
  },
  {
   "cell_type": "code",
   "execution_count": 17,
   "metadata": {},
   "outputs": [
    {
     "name": "stdout",
     "output_type": "stream",
     "text": [
      "4dbf3ade1ed6595de5f9b4ab4a17a80d4bcc53227ac0b0eedbb237b595a73737\n"
     ]
    }
   ],
   "source": [
    "# Empty Merkle Block example\n",
    "import math\n",
    "\n",
    "from helper import merkle_parent\n",
    "\n",
    "total = 1833\n",
    "max_depth = math.ceil(math.log(total, 2))\n",
    "hashes = [bytes.fromhex(h) for h in hex_hashes]\n",
    "merkle_tree = []\n",
    "for depth in range(max_depth+1):\n",
    "    num_items = math.ceil(total / 2**(max_depth - depth))\n",
    "    level_hashes = [None] * num_items\n",
    "    merkle_tree.append(level_hashes)"
   ]
  },
  {
   "cell_type": "code",
   "execution_count": null,
   "metadata": {},
   "outputs": [],
   "source": [
    "flag_bits = [1, 0, 1, 1, 1, 0, 1, 0, 1, 0, 1, 0, 1, 1, 1, 0, 1, 0, 1, 0, 0, 0, 0, 0]\n",
    "hex_hashes = [\n",
    "    '96979db23ca3f0dbf3e4d748b3e845cfbed09c843967374969e1b703cd358458',\n",
    "    'c9f0112d8a7fbb3b7364f14a5d0ba8e311a918dc735d9933df7912782bbf82fe',\n",
    "    '6e6ce882f409e99d5763fd6afa02fbabb4b5f047ef0969ba6619a69fcc54d2c3',\n",
    "    'c797c2248b270b28f35b530aefbaa0c5edb4f12343b44def58382496a93e8699',\n",
    "    '46b4bdbe6ea1a845abff2bf36f6f39507c7eea292312bee36bc4bd96363871e9',\n",
    "    '5a5b5f1268eb00dd47046a115a228d3c76cf0414bedf4e187b37918d5715bfb6',\n",
    "    '8a0b9f69baaec595a7d9c00d1443f721ade27e99e4190511e1b24812d3f964d6',\n",
    "    'd03d6f5cb9c308a2b795d44e1638a7aa5d0eb59e9c4eb5c313aca49ed3eb2619',\n",
    "    '49e035addfe3c8cfc264eb34ebc9ad40609d9d53a03f3a7929f81dbf4f2e974f',\n",
    "    '15ba5e2a376d9b269c1b99eec3d037c8228b25e33142aed6c00f2fedce8027db',\n",
    "    '30fad74273b6ed865deae7eb30158d9a0fc1459e6d212a91c865ccaf59092d74',\n",
    "    '1d09dd247812fcf2a1f95e31947abc3184f836aab904860ede28d4a5a072033c',\n",
    "]\n",
    "current_depth, current_index = 0, 0\n",
    "while merkle_tree[0][0] is None:\n",
    "    if current_depth == max_depth:\n",
    "        current_bit = flag_bits.pop(0)\n",
    "        merkle_tree[current_depth][current_index] = hashes.pop(0)\n",
    "        next_depth, next_index = current_depth - 1, current_index // 2\n",
    "    else:\n",
    "        left_index = current_index * 2\n",
    "        right_index = left_index + 1\n",
    "        left_hash = merkle_tree[current_depth+1][left_index]\n",
    "        if left_hash is None:\n",
    "            if flag_bits.pop(0) == 0:\n",
    "                merkle_tree[current_depth][current_index] = hashes.pop(0)\n",
    "                next_depth, next_index = current_depth - 1, current_index // 2\n",
    "            else:\n",
    "                next_depth, next_index = current_depth + 1, left_index\n",
    "        else:\n",
    "            if right_index >= len(merkle_tree[current_depth+1]):\n",
    "                merkle_tree[current_depth][current_index] = merkle_parent(left_hash, left_hash)\n",
    "                next_depth, next_index = current_depth - 1, current_index // 2\n",
    "            elif merkle_tree[current_depth+1][right_index]:\n",
    "                right_hash = merkle_tree[current_depth+1][right_index]\n",
    "                merkle_tree[current_depth][current_index] = merkle_parent(left_hash, right_hash)\n",
    "                next_depth, next_index = current_depth - 1, current_index // 2\n",
    "            else:\n",
    "                next_depth, next_index = current_depth + 1, right_index\n",
    "    current_depth, current_index = next_depth, next_index\n",
    "print(merkle_tree[0][0].hex())"
   ]
  },
  {
   "cell_type": "code",
   "execution_count": 28,
   "metadata": {},
   "outputs": [
    {
     "name": "stderr",
     "output_type": "stream",
     "text": [
      ".\n",
      "----------------------------------------------------------------------\n",
      "Ran 1 test in 0.001s\n",
      "\n",
      "OK\n"
     ]
    }
   ],
   "source": [
    "reload(merkleblock)\n",
    "run_test(merkleblock.MerkleBlockTest('test_is_valid'))"
   ]
  },
  {
   "cell_type": "markdown",
   "metadata": {},
   "source": [
    "### Exercise 1\n",
    "\n",
    "1. Given a Bloom Filter with these parameters: size=20, function count=5, tweak=99, which bits are set after adding these items? \n",
    "\n",
    " * `b'Hello World'`\n",
    " * `b'Goodbye!'`\n",
    "\n",
    "2. Make this test pass."
   ]
  },
  {
   "cell_type": "code",
   "execution_count": 13,
   "metadata": {},
   "outputs": [
    {
     "name": "stdout",
     "output_type": "stream",
     "text": [
      "0000000a080000000140\n",
      "4000600a080000010940\n"
     ]
    }
   ],
   "source": [
    "# Exercise 1.1\n",
    "\n",
    "from bloomfilter import BloomFilter, BIP37_CONSTANT\n",
    "from helper import murmur3\n",
    "\n",
    "size = 10\n",
    "function_count = 5\n",
    "tweak = 99\n",
    "\n",
    "items = (b'Hello World',  b'Goodbye!')\n",
    "\n",
    "# first the actual filter which is a bytearray of size size\n",
    "f = bytearray(size)\n",
    "\n",
    "# for each item you want to add to the filter\n",
    "for item in items:\n",
    "    # iterate function_count number of times\n",
    "    for i in range(function_count):\n",
    "        # BIP0037 spec seed is i*BIP37_CONSTANT + tweak\n",
    "        seed = i * BIP37_CONSTANT + tweak\n",
    "        # get the murmur3 hash given that seed\n",
    "        h = murmur3(item, seed=seed)\n",
    "        # set the bit at the hash mod the total number of bits in the filter\n",
    "        bit = h % (size * 8)\n",
    "        # get the byte index and bit index\n",
    "        filter_index, bit_index = divmod(bit, 8)\n",
    "        # the filter's byte index needs the bit at the bit_index set\n",
    "        f[filter_index] |= (1 << bit_index)\n",
    "    print(bytes(f).hex())"
   ]
  },
  {
   "cell_type": "code",
   "execution_count": 17,
   "metadata": {},
   "outputs": [
    {
     "name": "stderr",
     "output_type": "stream",
     "text": [
      ".\n",
      "----------------------------------------------------------------------\n",
      "Ran 1 test in 0.001s\n",
      "\n",
      "OK\n"
     ]
    }
   ],
   "source": [
    "# Exercise 1.2\n",
    "\n",
    "reload(bloomfilter)\n",
    "run_test(bloomfilter.BloomFilterTest('test_add'))"
   ]
  },
  {
   "cell_type": "markdown",
   "metadata": {},
   "source": [
    "### Exercise 2\n",
    "\n",
    "1. Make this test pass."
   ]
  },
  {
   "cell_type": "code",
   "execution_count": 19,
   "metadata": {},
   "outputs": [
    {
     "name": "stderr",
     "output_type": "stream",
     "text": [
      ".\n",
      "----------------------------------------------------------------------\n",
      "Ran 1 test in 0.001s\n",
      "\n",
      "OK\n"
     ]
    }
   ],
   "source": [
    "# Exercise 2.1\n",
    "\n",
    "reload(bloomfilter)\n",
    "run_test(bloomfilter.BloomFilterTest('test_filterload'))"
   ]
  },
  {
   "cell_type": "code",
   "execution_count": 24,
   "metadata": {},
   "outputs": [
    {
     "name": "stderr",
     "output_type": "stream",
     "text": [
      ".\n",
      "----------------------------------------------------------------------\n",
      "Ran 1 test in 0.002s\n",
      "\n",
      "OK\n"
     ]
    }
   ],
   "source": [
    "reload(merkleblock)\n",
    "run_test(merkleblock.MerkleBlockTest('test_is_valid'))"
   ]
  },
  {
   "cell_type": "code",
   "execution_count": null,
   "metadata": {},
   "outputs": [],
   "source": [
    "reload(tx)\n",
    "reload(network)\n",
    "reload(bloomfilter)\n",
    "reload(merkleblock)\n",
    "\n",
    "import time\n",
    "\n",
    "from random import randint\n",
    "from io import BytesIO\n",
    "\n",
    "from block import Block\n",
    "from bloomfilter import BloomFilter\n",
    "from helper import double_sha256, int_to_little_endian, encode_varint, read_varint, decode_base58, p2pkh_script, SIGHASH_ALL\n",
    "from merkleblock import MerkleBlock\n",
    "from network import NetworkEnvelope, SimpleNode, GetHeadersMessage\n",
    "from tx import Tx, TxIn, TxOut\n",
    "from ecc import PrivateKey\n",
    "\n",
    "private_key = PrivateKey(secret=int.from_bytes(double_sha256(b'Jimmy Song'), 'big'))\n",
    "\n",
    "addr = 'mtShBfBH9LFyHmqJFuKjmAPfv6jJmwpbeV'\n",
    "h160 = decode_base58(addr)\n",
    "bf = BloomFilter(30, 6, 42)\n",
    "bf.add(h160)\n",
    "\n",
    "target_address = 'muvpVznkBtk8rRSxLRVQRdUhsMjS7aKRne'\n",
    "target_h160 = decode_base58(target_address)\n",
    "target_script = p2pkh_script(target_h160)\n",
    "fee = 50000  # fee in satoshis\n",
    "\n",
    "node = SimpleNode('tbtc.programmingblockchain.com', testnet=True)\n",
    "\n",
    "# complete the handshake\n",
    "node.handshake()\n",
    "node.send(b'filterclear',b'')\n",
    "# load the bloom filter with the filterload command\n",
    "node.send(b'filterload', bf.filterload())\n",
    "\n",
    "# ask for blocks since block X\n",
    "starting_block = bytes.fromhex('0000000000000020ec00e9a5e463d9d61ca848c59ad1f37cc671bf8775c4884f')\n",
    "getheaders_message = GetHeadersMessage(starting_block=starting_block)\n",
    "node.send(b'getheaders', getheaders_message.serialize())\n",
    "\n",
    "# wait for headers\n",
    "headers_envelope = node.wait_for_commands({b'headers'})\n",
    "\n",
    "# loop through each header and ask for the merkleblock\n",
    "stream = BytesIO(headers_envelope.payload)\n",
    "num_headers = read_varint(stream)\n",
    "payload = encode_varint(num_headers)\n",
    "last_block = None\n",
    "for _ in range(num_headers):\n",
    "    b = Block.parse(stream)\n",
    "    if not b.check_pow():\n",
    "        raise RuntimeError('proof of work is invalid')\n",
    "    num_txs = read_varint(stream)\n",
    "    if num_txs != 0:\n",
    "        raise RuntimeError('got more than 0 txs')\n",
    "    if last_block is not None and b.prev_block != last_block:\n",
    "        raise RuntimeErrer('chain broken')\n",
    "    # ask for merkleblock\n",
    "    payload += int_to_little_endian(3, 4)\n",
    "    payload += b.hash()[::-1]\n",
    "    # set the last block\n",
    "    last_block = b.hash()\n",
    "node.send(b'getdata', payload)\n",
    "\n",
    "# look for merkleblock or tx commands and validate them\n",
    "txos = {}\n",
    "count = 0\n",
    "while True:\n",
    "    envelope = node.wait_for_commands({b'merkleblock', b'tx'})\n",
    "    stream = BytesIO(envelope.payload)\n",
    "    if envelope.command.startswith(b'merkleblock'):\n",
    "        continue\n",
    "        mb = MerkleBlock.parse(stream)\n",
    "        if not mb.is_valid():\n",
    "            raise RuntimeError('invalid merkle proof')\n",
    "    else:\n",
    "        count += 1\n",
    "        t = Tx.parse(stream, testnet=True)\n",
    "        for tx_in in t.tx_ins:\n",
    "            key = '{}:{}'.format(tx_in.prev_tx.hex(), tx_in.prev_index)\n",
    "            if txos.get(key):\n",
    "                txos.pop(key)\n",
    "\n",
    "        for i, tx_out in enumerate(t.tx_outs):\n",
    "            try:\n",
    "                if tx_out.hash160() == h160:\n",
    "                    txos['{}:{}'.format(t.hash().hex(),i)] = t\n",
    "            except:\n",
    "                pass\n",
    "        if count == 3:\n",
    "            break\n",
    "# create tx_ins\n",
    "tx_ins = []\n",
    "total = 0\n",
    "for key, pt in txos.items():\n",
    "    _, prev_index = key.split(':')\n",
    "    prev_index = int(prev_index)\n",
    "    tx_ins.append(TxIn(pt.hash(), prev_index, b'', 0xffffff))\n",
    "    total += pt.tx_outs[prev_index].amount\n",
    "    \n",
    "tx_outs = [TxOut(total-fee, target_script)]\n",
    "t = Tx(1, tx_ins, tx_outs, 0, testnet=True)\n",
    "for i in range(len(tx_ins)):\n",
    "    t.sign_input(i, private_key, SIGHASH_ALL)\n",
    "print(t.serialize().hex())\n",
    "# first, add this transaction to our bloom filter\n",
    "# send this signed transaction on the network\n",
    "node.send(b'tx', t.serialize())\n",
    "# now wait for a response\n",
    "envelope = node.wait_for_commands({b'inv', b'reject'})\n",
    "print(envelope.command)\n",
    "print(envelope.payload.hex())"
   ]
  },
  {
   "cell_type": "code",
   "execution_count": null,
   "metadata": {},
   "outputs": [],
   "source": []
  }
 ],
 "metadata": {
  "kernelspec": {
   "display_name": "Python 3",
   "language": "python",
   "name": "python3"
  },
  "language_info": {
   "codemirror_mode": {
    "name": "ipython",
    "version": 3
   },
   "file_extension": ".py",
   "mimetype": "text/x-python",
   "name": "python",
   "nbconvert_exporter": "python",
   "pygments_lexer": "ipython3",
   "version": "3.5.2"
  }
 },
 "nbformat": 4,
 "nbformat_minor": 2
}
