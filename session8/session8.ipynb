{
 "cells": [
  {
   "cell_type": "code",
   "execution_count": null,
   "metadata": {},
   "outputs": [],
   "source": [
    "# import everything and define a test runner function\n",
    "from importlib import reload\n",
    "from helper import run_test\n",
    "\n",
    "import bloomfilter\n",
    "import block\n",
    "import ecc\n",
    "import helper\n",
    "import merkleblock\n",
    "import network\n",
    "import script\n",
    "import tx"
   ]
  },
  {
   "cell_type": "code",
   "execution_count": null,
   "metadata": {},
   "outputs": [],
   "source": [
    "# Example Bloom Filter\n",
    "\n",
    "from helper import double_sha256\n",
    "\n",
    "bit_field_size = 10\n",
    "bit_field = [0] * bit_field_size\n",
    "\n",
    "h = double_sha256(b'hello world')\n",
    "bit = int.from_bytes(h, 'big') % bit_field_size\n",
    "bit_field[bit] = 1\n",
    "print(bit_field)"
   ]
  },
  {
   "cell_type": "code",
   "execution_count": null,
   "metadata": {},
   "outputs": [],
   "source": [
    "# Example Bloom Filter 2\n",
    "\n",
    "from helper import double_sha256\n",
    "\n",
    "bit_field_size = 10\n",
    "bit_field = [0] * bit_field_size\n",
    "\n",
    "h = double_sha256(b'hello world')\n",
    "bit = int.from_bytes(h, 'big') % bit_field_size\n",
    "bit_field[bit] = 1\n",
    "h = double_sha256(b'goodbye')\n",
    "bit = int.from_bytes(h, 'big') % bit_field_size\n",
    "bit_field[bit] = 1\n",
    "print(bit_field)"
   ]
  },
  {
   "cell_type": "code",
   "execution_count": null,
   "metadata": {},
   "outputs": [],
   "source": [
    "# Example Bloom Filter 3\n",
    "\n",
    "from helper import double_sha256, hash160\n",
    "\n",
    "bit_field_size = 10\n",
    "bit_field = [0] * bit_field_size\n",
    "\n",
    "phrase1 = b'hello world'\n",
    "h1 = double_sha256(phrase1)\n",
    "bit1 = int.from_bytes(h1, 'big') % bit_field_size\n",
    "bit_field[bit1] = 1\n",
    "h2 = hash160(phrase1)\n",
    "bit2 = int.from_bytes(h2, 'big') % bit_field_size\n",
    "bit_field[bit2] = 1\n",
    "phrase2 = b'goodbye'\n",
    "h1 = double_sha256(phrase2)\n",
    "bit1 = int.from_bytes(h1, 'big') % bit_field_size\n",
    "bit_field[bit1] = 1\n",
    "h2 = hash160(phrase2)\n",
    "bit2 = int.from_bytes(h2, 'big') % bit_field_size\n",
    "bit_field[bit2] = 1\n",
    "print(bit_field)"
   ]
  },
  {
   "cell_type": "code",
   "execution_count": null,
   "metadata": {},
   "outputs": [],
   "source": [
    "# Example BIP0037 Bloom Filter\n",
    "\n",
    "from helper import murmur3\n",
    "from bloomfilter import BIP37_CONSTANT\n",
    "\n",
    "field_size = 2\n",
    "num_functions = 2\n",
    "tweak = 42\n",
    "\n",
    "bit_field_size = field_size * 8\n",
    "bit_field = [0] * bit_field_size\n",
    "\n",
    "for phrase in (b'hello world', b'goodbye'):\n",
    "    for i in range(num_functions):\n",
    "        seed = i * BIP37_CONSTANT + tweak\n",
    "        h = murmur3(phrase, seed=seed)\n",
    "        bit = h % bit_field_size\n",
    "        bit_field[bit] = 1\n",
    "print(bit_field)"
   ]
  },
  {
   "cell_type": "markdown",
   "metadata": {},
   "source": [
    "### Exercise 1\n",
    "\n",
    "#### 1.1 Given a Bloom Filter with these parameters: size=10, function count=5, tweak=99, which bits are set after adding these items? \n",
    "\n",
    " * `b'Hello World'`\n",
    " * `b'Goodbye!'`\n",
    "\n",
    "#### 1.2. Make [this test](/edit/session8/bloomfilter.py) pass:\n",
    "\n",
    "```\n",
    "bloomfilter.py:BloomFilterTest:test_add\n",
    "```"
   ]
  },
  {
   "cell_type": "code",
   "execution_count": null,
   "metadata": {},
   "outputs": [],
   "source": [
    "# Exercise 1.1\n",
    "from bloomfilter import BloomFilter, BIP37_CONSTANT\n",
    "from helper import bit_field_to_bytes, murmur3\n",
    "\n",
    "field_size = 10\n",
    "function_count = 5\n",
    "tweak = 99\n",
    "items = (b'Hello World',  b'Goodbye!')\n",
    "\n",
    "# bit_field_size is 8 * field_size\n",
    "# create a bit field with the appropriate size\n",
    "\n",
    "# for each item you want to add to the filter\n",
    "    # iterate function_count number of times\n",
    "        # BIP0037 spec seed is i*BIP37_CONSTANT + tweak\n",
    "        # get the murmur3 hash given that seed\n",
    "        # set the bit to be h mod the bit_field_size\n",
    "        # set the bit_field at the index bit to be 1\n",
    "# print the bit field converted to bytes using bit_field_to_bytes in hex"
   ]
  },
  {
   "cell_type": "code",
   "execution_count": null,
   "metadata": {},
   "outputs": [],
   "source": [
    "# Exercise 1.2\n",
    "\n",
    "reload(bloomfilter)\n",
    "run_test(bloomfilter.BloomFilterTest('test_add'))"
   ]
  },
  {
   "cell_type": "markdown",
   "metadata": {},
   "source": [
    "### Exercise 2\n",
    "\n",
    "#### 2.1. Make [this test](/edit/session8/bloomfilter.py) pass.\n",
    "\n",
    "```\n",
    "bloomfilter.py:BloomFilterTest:test_filterload\n",
    "```"
   ]
  },
  {
   "cell_type": "code",
   "execution_count": null,
   "metadata": {},
   "outputs": [],
   "source": [
    "# Exercise 2.1\n",
    "\n",
    "reload(bloomfilter)\n",
    "run_test(bloomfilter.BloomFilterTest('test_filterload'))"
   ]
  },
  {
   "cell_type": "markdown",
   "metadata": {},
   "source": [
    "### Exercise 3\n",
    "\n",
    "#### 3.1. Make [this test](/edit/session8/merkleblock.py) pass.\n",
    "```\n",
    "merkleblock.py:MerkleBlockTest:test_parse\n",
    "```"
   ]
  },
  {
   "cell_type": "code",
   "execution_count": null,
   "metadata": {},
   "outputs": [],
   "source": [
    "# Exercise 3.1\n",
    "\n",
    "reload(merkleblock)\n",
    "run_test(merkleblock.MerkleBlockTest('test_parse'))"
   ]
  },
  {
   "cell_type": "markdown",
   "metadata": {},
   "source": [
    "### Exercise 4\n",
    "\n",
    "#### 4.1. Make [this test](/edit/session8/network.py) pass.\n",
    "\n",
    "```\n",
    "network.py:GetDataTest:test_serialize\n",
    "```"
   ]
  },
  {
   "cell_type": "code",
   "execution_count": null,
   "metadata": {},
   "outputs": [],
   "source": [
    "# Exercise 4.1\n",
    "\n",
    "reload(network)\n",
    "run_test(network.GetDataMessageTest('test_serialize'))"
   ]
  },
  {
   "cell_type": "markdown",
   "metadata": {},
   "source": [
    "### Exercise 5\n",
    "\n",
    "#### 5.1. Make [this test](/edit/session8/merkleblock.py) pass.\n",
    "```\n",
    "merkleblock.py:MerkleBlockTest:test_is_valid\n",
    "```"
   ]
  },
  {
   "cell_type": "code",
   "execution_count": null,
   "metadata": {},
   "outputs": [],
   "source": [
    "reload(merkleblock)\n",
    "run_test(merkleblock.MerkleBlockTest('test_is_valid'))"
   ]
  },
  {
   "cell_type": "markdown",
   "metadata": {},
   "source": [
    "### Exercise 6\n",
    "\n",
    "#### 6.1. You have been sent some unknown amount of testnet bitcoins to your address. \n",
    "\n",
    "Send all of it back (minus fees) to `mwJn1YPMq7y5F8J3LkC5Hxg9PHyZ5K4cFv` using only the networking protocol."
   ]
  },
  {
   "cell_type": "code",
   "execution_count": null,
   "metadata": {},
   "outputs": [],
   "source": [
    "# Exercise 6.1\n",
    "\n",
    "import time\n",
    "\n",
    "from block import Block\n",
    "from bloomfilter import BloomFilter\n",
    "from ecc import PrivateKey\n",
    "from helper import double_sha256, little_endian_to_int, encode_varint, read_varint, decode_base58, p2pkh_script, SIGHASH_ALL\n",
    "from merkleblock import MerkleBlock\n",
    "from network import (\n",
    "    GetDataMessage,\n",
    "    GetHeadersMessage,\n",
    "    HeadersMessage,\n",
    "    NetworkEnvelope,\n",
    "    SimpleNode,\n",
    "    TX_DATA_TYPE,\n",
    "    FILTERED_BLOCK_DATA_TYPE,\n",
    ")\n",
    "from tx import Tx, TxIn, TxOut\n",
    "\n",
    "last_block_hex = '000000000f99f894574cb8361bf4127af7df872973a4d7797e159c5e580c9cfb'\n",
    "secret = -1  # fill this in\n",
    "\n",
    "private_key = PrivateKey(secret=secret)\n",
    "addr = private_key.point.address(testnet=True)\n",
    "print(addr)\n",
    "h160 = decode_base58(addr)\n",
    "\n",
    "target_address = 'mwJn1YPMq7y5F8J3LkC5Hxg9PHyZ5K4cFv'\n",
    "target_h160 = decode_base58(target_address)\n",
    "target_script = p2pkh_script(target_h160)\n",
    "fee = 5000  # fee in satoshis\n",
    "\n",
    "# connect to tbtc.programmingblockchain.com in testnet mode, logging True\n",
    "\n",
    "# create a bloom filter of size 30 and 5 functions. Add a tweak that you like\n",
    "# add the h160 to the bloom filter\n",
    "\n",
    "# complete the handshake\n",
    "# load the bloom filter with the filterload command\n",
    "\n",
    "# set start block to last_block from above\n",
    "# create GetHeadersMessage with this start block\n",
    "# send a getheaders message with the start block\n",
    "\n",
    "# wait for the headers message\n",
    "\n",
    "# get the stream from the headers\n",
    "# parse the headers message\n",
    "# store the last block as None\n",
    "# initialize the GetDataMessage\n",
    "# loop through the blocks in the headers\n",
    "    # check that the proof of work on the block is valid\n",
    "    # check that this block's prev_block is the last block\n",
    "    # add FILTERED_BLOCK_DATA_TYPE block.hash() to GetDataMessage\n",
    "    # set the last block to the current hash\n",
    "# send the getdata message\n",
    "\n",
    "# initialize prev_tx and prev_index to None\n",
    "# initialize prev_amount to None\n",
    "# while prev_tx is None \n",
    "    # wait for the merkleblock or tx commands\n",
    "    # initialize the stream from the envelope\n",
    "    # if we have the merkleblock command\n",
    "        # parse the MerkleBlock\n",
    "        # check that the MerkleBlock is valid\n",
    "    # else we have the tx command\n",
    "        # parse the tx\n",
    "        # loop through the enumerated tx outs (enumerate(t.tx_outs))\n",
    "            # if our output has the same address as our address (addr) we found it\n",
    "                # we found our utxo. set prev_tx, prev_index, prev_amount\n",
    "# create tx_in\n",
    "# calculate the output amount (prev_amount - fee)\n",
    "# create a new TxOut to output amount to target_script \n",
    "# create a new transaction (testnet=True)\n",
    "# sign the transaction at input 0 with your private key and SIGHASH_ALL\n",
    "# serialize and hex to see what it looks like\n",
    "# send this signed transaction on the network\n",
    "# wait a sec so this message goes through to the other node time.sleep(1) \n",
    "# now ask for this transaction from the other node\n",
    "# create a GetDataMessage\n",
    "# ask for our transaction by adding its hash and TX_DATATYPE to the message\n",
    "# send the message\n",
    "# wait a sec so this message goes through to the other node time.sleep(1) \n",
    "# now wait for a response\n",
    "envelope = node.wait_for_commands({b'tx', b'reject'})\n",
    "if envelope.command == b'tx':\n",
    "    print(envelope.payload.hex())\n",
    "else:\n",
    "    print(envelope.payload)"
   ]
  }
 ],
 "metadata": {
  "kernelspec": {
   "display_name": "Python 3",
   "language": "python",
   "name": "python3"
  },
  "language_info": {
   "codemirror_mode": {
    "name": "ipython",
    "version": 3
   },
   "file_extension": ".py",
   "mimetype": "text/x-python",
   "name": "python",
   "nbconvert_exporter": "python",
   "pygments_lexer": "ipython3",
   "version": "3.6.5"
  }
 },
 "nbformat": 4,
 "nbformat_minor": 2
}
