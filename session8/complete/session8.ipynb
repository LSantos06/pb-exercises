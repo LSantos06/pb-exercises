{
 "cells": [
  {
   "cell_type": "code",
   "execution_count": 1,
   "metadata": {},
   "outputs": [],
   "source": [
    "# import everything and define a test runner function\n",
    "from importlib import reload\n",
    "from helper import run_test\n",
    "\n",
    "import bloomfilter\n",
    "import block\n",
    "import ecc\n",
    "import helper\n",
    "import merkleblock\n",
    "import network\n",
    "import script\n",
    "import tx"
   ]
  },
  {
   "cell_type": "code",
   "execution_count": 2,
   "metadata": {},
   "outputs": [
    {
     "name": "stdout",
     "output_type": "stream",
     "text": [
      "[0, 0, 0, 0, 0, 0, 0, 0, 0, 1]\n"
     ]
    }
   ],
   "source": [
    "# Example Bloom Filter\n",
    "\n",
    "from helper import double_sha256\n",
    "\n",
    "bit_field_size = 10\n",
    "bit_field = [0] * bit_field_size\n",
    "\n",
    "h = double_sha256(b'hello world')\n",
    "bit = int.from_bytes(h, 'big') % bit_field_size\n",
    "bit_field[bit] = 1\n",
    "print(bit_field)"
   ]
  },
  {
   "cell_type": "code",
   "execution_count": 3,
   "metadata": {},
   "outputs": [
    {
     "name": "stdout",
     "output_type": "stream",
     "text": [
      "[0, 0, 1, 0, 0, 0, 0, 0, 0, 1]\n"
     ]
    }
   ],
   "source": [
    "# Example Bloom Filter 2\n",
    "\n",
    "from helper import double_sha256\n",
    "\n",
    "bit_field_size = 10\n",
    "bit_field = [0] * bit_field_size\n",
    "\n",
    "h = double_sha256(b'hello world')\n",
    "bit = int.from_bytes(h, 'big') % bit_field_size\n",
    "bit_field[bit] = 1\n",
    "h = double_sha256(b'goodbye')\n",
    "bit = int.from_bytes(h, 'big') % bit_field_size\n",
    "bit_field[bit] = 1\n",
    "print(bit_field)"
   ]
  },
  {
   "cell_type": "code",
   "execution_count": 4,
   "metadata": {},
   "outputs": [
    {
     "name": "stdout",
     "output_type": "stream",
     "text": [
      "[1, 1, 1, 0, 0, 0, 0, 0, 0, 1]\n"
     ]
    }
   ],
   "source": [
    "# Example Bloom Filter 3\n",
    "\n",
    "from helper import double_sha256, hash160\n",
    "\n",
    "bit_field_size = 10\n",
    "bit_field = [0] * bit_field_size\n",
    "\n",
    "phrase1 = b'hello world'\n",
    "h1 = double_sha256(phrase1)\n",
    "bit1 = int.from_bytes(h1, 'big') % bit_field_size\n",
    "bit_field[bit1] = 1\n",
    "h2 = hash160(phrase1)\n",
    "bit2 = int.from_bytes(h2, 'big') % bit_field_size\n",
    "bit_field[bit2] = 1\n",
    "phrase2 = b'goodbye'\n",
    "h1 = double_sha256(phrase2)\n",
    "bit1 = int.from_bytes(h1, 'big') % bit_field_size\n",
    "bit_field[bit1] = 1\n",
    "h2 = hash160(phrase2)\n",
    "bit2 = int.from_bytes(h2, 'big') % bit_field_size\n",
    "bit_field[bit2] = 1\n",
    "print(bit_field)"
   ]
  },
  {
   "cell_type": "code",
   "execution_count": 5,
   "metadata": {},
   "outputs": [
    {
     "name": "stdout",
     "output_type": "stream",
     "text": [
      "[0, 0, 0, 0, 0, 1, 1, 0, 0, 1, 1, 0, 0, 0, 0, 0]\n"
     ]
    }
   ],
   "source": [
    "# Example BIP0037 Bloom Filter\n",
    "\n",
    "from helper import murmur3\n",
    "from bloomfilter import BIP37_CONSTANT\n",
    "\n",
    "field_size = 2\n",
    "num_functions = 2\n",
    "tweak = 42\n",
    "\n",
    "bit_field_size = field_size * 8\n",
    "bit_field = [0] * bit_field_size\n",
    "\n",
    "for phrase in (b'hello world', b'goodbye'):\n",
    "    for i in range(num_functions):\n",
    "        seed = i * BIP37_CONSTANT + tweak\n",
    "        h = murmur3(phrase, seed=seed)\n",
    "        bit = h % bit_field_size\n",
    "        bit_field[bit] = 1\n",
    "print(bit_field)"
   ]
  },
  {
   "cell_type": "markdown",
   "metadata": {},
   "source": [
    "### Exercise 1\n",
    "\n",
    "#### 1.1 Given a Bloom Filter with these parameters: size=10, function count=5, tweak=99, which bits are set after adding these items? \n",
    "\n",
    " * `b'Hello World'`\n",
    " * `b'Goodbye!'`\n",
    "\n",
    "#### 1.2. Make [this test](/edit/session8/bloomfilter.py) pass."
   ]
  },
  {
   "cell_type": "code",
   "execution_count": 6,
   "metadata": {},
   "outputs": [
    {
     "name": "stdout",
     "output_type": "stream",
     "text": [
      "4000600a080000010940\n"
     ]
    }
   ],
   "source": [
    "# Exercise 1.1\n",
    "from bloomfilter import BloomFilter, BIP37_CONSTANT\n",
    "from helper import bit_field_to_bytes, murmur3\n",
    "\n",
    "field_size = 10\n",
    "function_count = 5\n",
    "tweak = 99\n",
    "items = (b'Hello World',  b'Goodbye!')\n",
    "\n",
    "# bit_field_size is 8 * field_size\n",
    "bit_field_size = field_size * 8\n",
    "# create a bit field with the appropriate size\n",
    "bit_field = [0] * bit_field_size\n",
    "\n",
    "# for each item you want to add to the filter\n",
    "for item in items:\n",
    "    # iterate function_count number of times\n",
    "    for i in range(function_count):\n",
    "        # BIP0037 spec seed is i*BIP37_CONSTANT + tweak\n",
    "        seed = i * BIP37_CONSTANT + tweak\n",
    "        # get the murmur3 hash given that seed\n",
    "        h = murmur3(item, seed=seed)\n",
    "        # set the bit to be h mod the bit_field_size\n",
    "        bit = h % bit_field_size\n",
    "        # set the bit_field at the index bit to be 1\n",
    "        bit_field[bit] = 1\n",
    "# print the bit field converted to bytes using bit_field_to_bytes in hex\n",
    "print(bit_field_to_bytes(bit_field).hex())"
   ]
  },
  {
   "cell_type": "code",
   "execution_count": 7,
   "metadata": {},
   "outputs": [
    {
     "name": "stderr",
     "output_type": "stream",
     "text": [
      ".\n",
      "----------------------------------------------------------------------\n",
      "Ran 1 test in 0.002s\n",
      "\n",
      "OK\n"
     ]
    }
   ],
   "source": [
    "# Exercise 1.2\n",
    "\n",
    "reload(bloomfilter)\n",
    "run_test(bloomfilter.BloomFilterTest('test_add'))"
   ]
  },
  {
   "cell_type": "markdown",
   "metadata": {},
   "source": [
    "### Exercise 2\n",
    "\n",
    "#### 2.1. Make [this test](/edit/session8/bloomfilter.py) pass."
   ]
  },
  {
   "cell_type": "code",
   "execution_count": 8,
   "metadata": {},
   "outputs": [
    {
     "name": "stderr",
     "output_type": "stream",
     "text": [
      ".\n",
      "----------------------------------------------------------------------\n",
      "Ran 1 test in 0.003s\n",
      "\n",
      "OK\n"
     ]
    }
   ],
   "source": [
    "# Exercise 2.1\n",
    "\n",
    "reload(bloomfilter)\n",
    "run_test(bloomfilter.BloomFilterTest('test_filterload'))"
   ]
  },
  {
   "cell_type": "markdown",
   "metadata": {},
   "source": [
    "### Exercise 3\n",
    "\n",
    "#### 3.1. Make [this test](/edit/session8/merkleblock.py) pass."
   ]
  },
  {
   "cell_type": "code",
   "execution_count": 9,
   "metadata": {},
   "outputs": [
    {
     "name": "stderr",
     "output_type": "stream",
     "text": [
      ".\n",
      "----------------------------------------------------------------------\n",
      "Ran 1 test in 0.003s\n",
      "\n",
      "OK\n"
     ]
    }
   ],
   "source": [
    "# Exercise 3.1\n",
    "\n",
    "reload(merkleblock)\n",
    "run_test(merkleblock.MerkleBlockTest('test_parse'))"
   ]
  },
  {
   "cell_type": "markdown",
   "metadata": {},
   "source": [
    "### Exercise 4\n",
    "\n",
    "#### 4.1. Make [this test](/edit/session8/network.py) pass."
   ]
  },
  {
   "cell_type": "code",
   "execution_count": 10,
   "metadata": {},
   "outputs": [
    {
     "name": "stderr",
     "output_type": "stream",
     "text": [
      ".\n",
      "----------------------------------------------------------------------\n",
      "Ran 1 test in 0.003s\n",
      "\n",
      "OK\n"
     ]
    }
   ],
   "source": [
    "# Exercise 4.1\n",
    "\n",
    "reload(network)\n",
    "run_test(network.GetDataMessageTest('test_serialize'))"
   ]
  },
  {
   "cell_type": "markdown",
   "metadata": {},
   "source": [
    "### Exercise 5\n",
    "\n",
    "#### 5.1. Make [this test](/edit/session8/merkleblock.py) pass."
   ]
  },
  {
   "cell_type": "code",
   "execution_count": 11,
   "metadata": {},
   "outputs": [
    {
     "name": "stderr",
     "output_type": "stream",
     "text": [
      ".\n",
      "----------------------------------------------------------------------\n",
      "Ran 1 test in 0.002s\n",
      "\n",
      "OK\n"
     ]
    }
   ],
   "source": [
    "reload(merkleblock)\n",
    "run_test(merkleblock.MerkleBlockTest('test_is_valid'))"
   ]
  },
  {
   "cell_type": "markdown",
   "metadata": {},
   "source": [
    "### Exercise 6\n",
    "\n",
    "#### 6.1. You have been sent some unknown amount of testnet bitcoins to your address. \n",
    "\n",
    "Send all of it back (minus fees) to `mwJn1YPMq7y5F8J3LkC5Hxg9PHyZ5K4cFv` using only the networking protocol."
   ]
  },
  {
   "cell_type": "code",
   "execution_count": 12,
   "metadata": {},
   "outputs": [
    {
     "name": "stdout",
     "output_type": "stream",
     "text": [
      "mwJn1YPMq7y5F8J3LkC5Hxg9PHyZ5K4cFv\n",
      "sending: version: 7f11010000000000000000001a8faa5b00000000000000000000000000000000000000000000ffff000000008d20000000000000000000000000000000000000ffff000000008d20da32ae4800a5697a1b2f70726f6772616d6d696e67626c6f636b636861696e3a302e312f0000000001\n",
      "receiving: version: 7f1101000d040000000000001c8faa5b00000000000000000000000000000000000000000000ffff4830fd33cabd0d040000000000000000000000000000000000000000000000009e0e3c9ec75106a3102f5361746f7368693a302e31362e332fad94150001\n",
      "sending: verack: \n",
      "receiving: verack: \n",
      "sending: filterload: 1e000000000448000000000004000000000200000000000000000000000000050000006260010001\n",
      "sending: getheaders: 7f1101000129bd27fc4a223a7b0093ccd8462b885501fe8e6578986aff02000000000000000000000000000000000000000000000000000000000000000000000000000000\n",
      "receiving: sendheaders: \n",
      "receiving: sendcmpct: 000200000000000000\n",
      "receiving: sendcmpct: 000100000000000000\n",
      "receiving: ping: e46ed5a9cf7b7d24\n",
      "sending: pong: e46ed5a9cf7b7d24\n",
      "receiving: addr: 011c8faa5b0d0400000000000000000000000000000000ffffa2d49eac479d\n",
      "receiving: feefilter: e803000000000000\n",
      "receiving: headers: 010000002029bd27fc4a223a7b0093ccd8462b885501fe8e6578986aff0200000000000000d725b77b16dca3f8d682cce3461e3add26b39a3350989934fc003641cc37253c4b8eaa5bffff001d428767d100\n",
      "sending: getdata: 0103000000192e91ea55ec59872747ba44fb1a5556499a4f64366324c2d538050000000000\n",
      "receiving: merkleblock: 0000002029bd27fc4a223a7b0093ccd8462b885501fe8e6578986aff0200000000000000d725b77b16dca3f8d682cce3461e3add26b39a3350989934fc003641cc37253c4b8eaa5bffff001d428767d16200000008be0b3c863fd931559db1e2d88f903743c4f17e561c28bbc92b7de787e0fd54d80d7a77fed23cf86a2421eb4dc079b827745965a3099caa1201531074ef1b3063908069018ee891a33fd3e6be8bd7e697cb475a1fd63a2fa37fd44aeb75a0ae8da85679ad70f0cdeacf935724b7e501a1055bc334ca097266f84804eac7ee5a6e2ec7780147c3c30e5d5fc50bdf11c8b4c15c149b5063e128fd2e843654da5f43d70801b02a586887192618141e53ce638be7e52e2011a9f4e6fb1dad2933756efca1f4de379a0427cf8d5f68c73fdb3c8ae3aa64db9ed20a8ea784534809533faa9ad5df8ea71fa64bfb436e1584fa0dd7853fe5fbcf7f420f4d18eba0b3af2302b705\n",
      "receiving: tx: 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\n",
      "found: 6e5aeec7ea0448f8667209ca34c35b05a101e5b7245793cfeacdf070ad7956a8:1\n",
      "0100000001a85679ad70f0cdeacf935724b7e501a1055bc334ca097266f84804eac7ee5a6e010000006b483045022100cb4404d4efc3f9cf1633c4d06db909839f2e1773caade52994d6ca07207317790220762bd216b8a5a6aed23bab559a3d3e57a5c74918487f238035b6d4aee6a7c9a50121021cdd761c7eb1c90c0af0a5963e94bf0203176b4662778d32bd6d7ab5d8628b32ffffff000129769ef5000000001976a914ad346f8eb57dee9a37981716e498120ae80e44f788ac00000000\n",
      "sending: tx: 0100000001a85679ad70f0cdeacf935724b7e501a1055bc334ca097266f84804eac7ee5a6e010000006b483045022100cb4404d4efc3f9cf1633c4d06db909839f2e1773caade52994d6ca07207317790220762bd216b8a5a6aed23bab559a3d3e57a5c74918487f238035b6d4aee6a7c9a50121021cdd761c7eb1c90c0af0a5963e94bf0203176b4662778d32bd6d7ab5d8628b32ffffff000129769ef5000000001976a914ad346f8eb57dee9a37981716e498120ae80e44f788ac00000000\n",
      "sending: getdata: 0101000000f1dddc18fe1c664bbd221d2d18e147f50776cb9aebb0535db7a96c561e0e93e3\n",
      "receiving: tx: 0100000001a85679ad70f0cdeacf935724b7e501a1055bc334ca097266f84804eac7ee5a6e010000006b483045022100cb4404d4efc3f9cf1633c4d06db909839f2e1773caade52994d6ca07207317790220762bd216b8a5a6aed23bab559a3d3e57a5c74918487f238035b6d4aee6a7c9a50121021cdd761c7eb1c90c0af0a5963e94bf0203176b4662778d32bd6d7ab5d8628b32ffffff000129769ef5000000001976a914ad346f8eb57dee9a37981716e498120ae80e44f788ac00000000\n",
      "0100000001a85679ad70f0cdeacf935724b7e501a1055bc334ca097266f84804eac7ee5a6e010000006b483045022100cb4404d4efc3f9cf1633c4d06db909839f2e1773caade52994d6ca07207317790220762bd216b8a5a6aed23bab559a3d3e57a5c74918487f238035b6d4aee6a7c9a50121021cdd761c7eb1c90c0af0a5963e94bf0203176b4662778d32bd6d7ab5d8628b32ffffff000129769ef5000000001976a914ad346f8eb57dee9a37981716e498120ae80e44f788ac00000000\n"
     ]
    }
   ],
   "source": [
    "# Exercise 6.1\n",
    "\n",
    "import time\n",
    "\n",
    "from block import Block\n",
    "from bloomfilter import BloomFilter\n",
    "from ecc import PrivateKey\n",
    "from helper import double_sha256, little_endian_to_int, encode_varint, read_varint, decode_base58, p2pkh_script, SIGHASH_ALL\n",
    "from merkleblock import MerkleBlock\n",
    "from network import (\n",
    "    GetDataMessage,\n",
    "    GetHeadersMessage,\n",
    "    HeadersMessage,\n",
    "    NetworkEnvelope,\n",
    "    SimpleNode,\n",
    "    TX_DATA_TYPE,\n",
    "    FILTERED_BLOCK_DATA_TYPE,\n",
    ")\n",
    "from tx import Tx, TxIn, TxOut\n",
    "\n",
    "last_block_hex = '0000000000000002ff6a9878658efe0155882b46d8cc93007b3a224afc27bd29'\n",
    "\n",
    "secret = little_endian_to_int(double_sha256(b''))\n",
    "private_key = PrivateKey(secret=secret)\n",
    "addr = private_key.point.address(testnet=True)\n",
    "print(addr)\n",
    "h160 = decode_base58(addr)\n",
    "\n",
    "target_address = 'mwJn1YPMq7y5F8J3LkC5Hxg9PHyZ5K4cFv'\n",
    "target_h160 = decode_base58(target_address)\n",
    "target_script = p2pkh_script(target_h160)\n",
    "fee = 5000  # fee in satoshis\n",
    "\n",
    "# connect to tbtc.programmingblockchain.com in testnet mode\n",
    "node = SimpleNode('tbtc.programmingblockchain.com', testnet=True, logging=True)\n",
    "\n",
    "# create a bloom filter of size 30 and 5 functions. Add a tweak that you like\n",
    "bf = BloomFilter(30, 5, 90210)\n",
    "# add the h160 to the bloom filter\n",
    "bf.add(h160)\n",
    "\n",
    "# complete the handshake\n",
    "node.handshake()\n",
    "# load the bloom filter with the filterload command\n",
    "node.send(b'filterload', bf.filterload())\n",
    "\n",
    "# set start block to last_block from above\n",
    "start_block = bytes.fromhex(last_block_hex)\n",
    "# send a getheaders message with the starting block\n",
    "getheaders_message = GetHeadersMessage(start_block=start_block)\n",
    "node.send(getheaders_message.command, getheaders_message.serialize())\n",
    "\n",
    "# wait for the headers message\n",
    "headers_envelope = node.wait_for_commands({HeadersMessage.command})\n",
    "\n",
    "# get the stream from the headers\n",
    "stream = headers_envelope.stream()\n",
    "# parse the headers message\n",
    "headers = HeadersMessage.parse(stream)\n",
    "# store the last block as None\n",
    "last_block = None\n",
    "# initialize the GetDataMessage\n",
    "get_data_message = GetDataMessage()\n",
    "# loop through the blocks in the headers\n",
    "for b in headers.blocks:\n",
    "    # check that the proof of work on the block is valid\n",
    "    if not b.check_pow():\n",
    "        raise RuntimeError('proof of work is invalid')\n",
    "    # check that this block's prev_block is the last block\n",
    "    if last_block is not None and b.prev_block != last_block:\n",
    "        raise RuntimeErrer('chain broken')\n",
    "    # add a new item to the get_data_message\n",
    "    # should be FILTERED_BLOCK_DATA_TYPE and block hash\n",
    "    get_data_message.add_data(FILTERED_BLOCK_DATA_TYPE, b.hash())\n",
    "    # set the last block to the current hash\n",
    "    last_block = b.hash()\n",
    "# send the getdata message\n",
    "node.send(get_data_message.command, get_data_message.serialize())\n",
    "\n",
    "# initialize prev_tx, prev_index and pt to None\n",
    "prev_tx, prev_index, prev_tx_obj = None, None, None\n",
    "# loop while prev_tx is None \n",
    "while prev_tx is None:\n",
    "    # wait for the merkleblock or tx commands\n",
    "    envelope = node.wait_for_commands({b'merkleblock', b'tx'})\n",
    "    # initialize the stream from the envelope\n",
    "    stream = envelope.stream()\n",
    "    # if we have the merkleblock command\n",
    "    if envelope.command == b'merkleblock':\n",
    "        # parse the MerkleBlock\n",
    "        mb = MerkleBlock.parse(stream)\n",
    "        # check that the MerkleBlock is valid\n",
    "        if not mb.is_valid():\n",
    "            raise RuntimeError('invalid merkle proof')\n",
    "    # else we have the tx command\n",
    "    else:\n",
    "        # parse the tx\n",
    "        prev_tx_obj = Tx.parse(stream, testnet=True)\n",
    "        # loop through the tx outs\n",
    "        for i, tx_out in enumerate(prev_tx_obj.tx_outs):\n",
    "            # if our output has the same address as our address we found it\n",
    "            if tx_out.script_pubkey.address(testnet=True) == addr:\n",
    "                # we found our utxo. set prev_tx, prev_index, and transaction\n",
    "                prev_tx = prev_tx_obj.hash()\n",
    "                prev_index = i\n",
    "                print('found: {}:{}'.format(prev_tx.hex(), prev_index))\n",
    "# create tx_in\n",
    "tx_in = TxIn(prev_tx, prev_index, b'', 0xffffff)\n",
    "# set the cache of the previous tx to prev_tx_obj so we don't talk to a block explorer\n",
    "tx_in.cache[prev_tx] = prev_tx_obj\n",
    "# create the tx_ins array\n",
    "tx_ins = [tx_in]\n",
    "# calculate how much is in this UTXO\n",
    "total = prev_tx_obj.tx_outs[prev_index].amount\n",
    "# create a new transaction out to the right address with the right amount (subtract fee)\n",
    "tx_outs = [TxOut(total-fee, target_script)]\n",
    "# create a new transaction\n",
    "tx_obj = Tx(1, tx_ins, tx_outs, 0, testnet=True)\n",
    "# sign the transaction\n",
    "tx_obj.sign_input(0, private_key, SIGHASH_ALL)\n",
    "# serialize and hex to see what it looks like\n",
    "print(tx_obj.serialize().hex())\n",
    "# send this signed transaction on the network\n",
    "node.send(b'tx', tx_obj.serialize())\n",
    "# wait a sec so this message goes through to the other node time.sleep(1) \n",
    "time.sleep(1)\n",
    "# now ask for this transaction from the other node\n",
    "# create a GetDataMessage\n",
    "get_data_message = GetDataMessage()\n",
    "# ask for our transaction by adding it to the message\n",
    "get_data_message.add_data(TX_DATA_TYPE, tx_obj.hash())\n",
    "# send the message\n",
    "node.send(get_data_message.command, get_data_message.serialize())\n",
    "# now wait for a response\n",
    "envelope = node.wait_for_commands({b'tx', b'reject'})\n",
    "if envelope.command == b'tx':\n",
    "    print(envelope.payload.hex())\n",
    "else:\n",
    "    print(envelope.payload)"
   ]
  }
 ],
 "metadata": {
  "kernelspec": {
   "display_name": "Python 3",
   "language": "python",
   "name": "python3"
  },
  "language_info": {
   "codemirror_mode": {
    "name": "ipython",
    "version": 3
   },
   "file_extension": ".py",
   "mimetype": "text/x-python",
   "name": "python",
   "nbconvert_exporter": "python",
   "pygments_lexer": "ipython3",
   "version": "3.6.5"
  }
 },
 "nbformat": 4,
 "nbformat_minor": 2
}
