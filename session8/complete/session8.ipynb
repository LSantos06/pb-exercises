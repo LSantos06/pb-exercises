{
 "cells": [
  {
   "cell_type": "code",
   "execution_count": 1,
   "metadata": {},
   "outputs": [],
   "source": [
    "# import everything and define a test runner function\n",
    "from importlib import reload\n",
    "from helper import run_test\n",
    "\n",
    "import bloomfilter\n",
    "import block\n",
    "import ecc\n",
    "import helper\n",
    "import merkleblock\n",
    "import network\n",
    "import script\n",
    "import tx"
   ]
  },
  {
   "cell_type": "code",
   "execution_count": 2,
   "metadata": {},
   "outputs": [
    {
     "name": "stdout",
     "output_type": "stream",
     "text": [
      "[0, 0, 0, 0, 0, 0, 0, 0, 0, 1]\n"
     ]
    }
   ],
   "source": [
    "# Example Bloom Filter\n",
    "\n",
    "from helper import double_sha256\n",
    "\n",
    "bit_field_size = 10\n",
    "bit_field = [0] * bit_field_size\n",
    "\n",
    "h = double_sha256(b'hello world')\n",
    "bit = int.from_bytes(h, 'big') % bit_field_size\n",
    "bit_field[bit] = 1\n",
    "print(bit_field)"
   ]
  },
  {
   "cell_type": "code",
   "execution_count": 3,
   "metadata": {},
   "outputs": [
    {
     "name": "stdout",
     "output_type": "stream",
     "text": [
      "[0, 0, 1, 0, 0, 0, 0, 0, 0, 1]\n"
     ]
    }
   ],
   "source": [
    "# Example Bloom Filter 2\n",
    "\n",
    "from helper import double_sha256\n",
    "\n",
    "bit_field_size = 10\n",
    "bit_field = [0] * bit_field_size\n",
    "\n",
    "h = double_sha256(b'hello world')\n",
    "bit = int.from_bytes(h, 'big') % bit_field_size\n",
    "bit_field[bit] = 1\n",
    "h = double_sha256(b'goodbye')\n",
    "bit = int.from_bytes(h, 'big') % bit_field_size\n",
    "bit_field[bit] = 1\n",
    "print(bit_field)"
   ]
  },
  {
   "cell_type": "code",
   "execution_count": 4,
   "metadata": {},
   "outputs": [
    {
     "name": "stdout",
     "output_type": "stream",
     "text": [
      "[1, 1, 1, 0, 0, 0, 0, 0, 0, 1]\n"
     ]
    }
   ],
   "source": [
    "# Example Bloom Filter 3\n",
    "\n",
    "from helper import double_sha256, hash160\n",
    "\n",
    "bit_field_size = 10\n",
    "bit_field = [0] * bit_field_size\n",
    "\n",
    "phrase1 = b'hello world'\n",
    "h1 = double_sha256(phrase1)\n",
    "bit1 = int.from_bytes(h1, 'big') % bit_field_size\n",
    "bit_field[bit1] = 1\n",
    "h2 = hash160(phrase1)\n",
    "bit2 = int.from_bytes(h2, 'big') % bit_field_size\n",
    "bit_field[bit2] = 1\n",
    "phrase2 = b'goodbye'\n",
    "h1 = double_sha256(phrase2)\n",
    "bit1 = int.from_bytes(h1, 'big') % bit_field_size\n",
    "bit_field[bit1] = 1\n",
    "h2 = hash160(phrase2)\n",
    "bit2 = int.from_bytes(h2, 'big') % bit_field_size\n",
    "bit_field[bit2] = 1\n",
    "print(bit_field)"
   ]
  },
  {
   "cell_type": "code",
   "execution_count": 5,
   "metadata": {},
   "outputs": [
    {
     "name": "stdout",
     "output_type": "stream",
     "text": [
      "[0, 0, 0, 0, 0, 1, 1, 0, 0, 1, 1, 0, 0, 0, 0, 0]\n"
     ]
    }
   ],
   "source": [
    "# Example BIP0037 Bloom Filter\n",
    "\n",
    "from helper import murmur3\n",
    "from bloomfilter import BIP37_CONSTANT\n",
    "\n",
    "field_size = 2\n",
    "num_functions = 2\n",
    "tweak = 42\n",
    "\n",
    "bit_field_size = field_size * 8\n",
    "bit_field = [0] * bit_field_size\n",
    "\n",
    "for phrase in (b'hello world', b'goodbye'):\n",
    "    for i in range(num_functions):\n",
    "        seed = i * BIP37_CONSTANT + tweak\n",
    "        h = murmur3(phrase, seed=seed)\n",
    "        bit = h % bit_field_size\n",
    "        bit_field[bit] = 1\n",
    "print(bit_field)"
   ]
  },
  {
   "cell_type": "markdown",
   "metadata": {},
   "source": [
    "### Exercise 1\n",
    "\n",
    "#### 1.1 Given a Bloom Filter with these parameters: size=10, function count=5, tweak=99, which bits are set after adding these items? \n",
    "\n",
    " * `b'Hello World'`\n",
    " * `b'Goodbye!'`\n",
    "\n",
    "#### 1.2. Make [this test](/edit/session8/bloomfilter.py) pass."
   ]
  },
  {
   "cell_type": "code",
   "execution_count": 6,
   "metadata": {},
   "outputs": [
    {
     "name": "stdout",
     "output_type": "stream",
     "text": [
      "4000600a080000010940\n"
     ]
    }
   ],
   "source": [
    "# Exercise 1.1\n",
    "from bloomfilter import BloomFilter, BIP37_CONSTANT\n",
    "from helper import bit_field_to_bytes, murmur3\n",
    "\n",
    "field_size = 10\n",
    "function_count = 5\n",
    "tweak = 99\n",
    "items = (b'Hello World',  b'Goodbye!')\n",
    "\n",
    "# bit_field_size is 8 * field_size\n",
    "bit_field_size = field_size * 8\n",
    "# create a bit field with the appropriate size\n",
    "bit_field = [0] * bit_field_size\n",
    "\n",
    "# for each item you want to add to the filter\n",
    "for item in items:\n",
    "    # iterate function_count number of times\n",
    "    for i in range(function_count):\n",
    "        # BIP0037 spec seed is i*BIP37_CONSTANT + tweak\n",
    "        seed = i * BIP37_CONSTANT + tweak\n",
    "        # get the murmur3 hash given that seed\n",
    "        h = murmur3(item, seed=seed)\n",
    "        # set the bit to be h mod the bit_field_size\n",
    "        bit = h % bit_field_size\n",
    "        # set the bit_field at the index bit to be 1\n",
    "        bit_field[bit] = 1\n",
    "# print the bit field converted to bytes using bit_field_to_bytes in hex\n",
    "print(bit_field_to_bytes(bit_field).hex())"
   ]
  },
  {
   "cell_type": "code",
   "execution_count": 7,
   "metadata": {},
   "outputs": [
    {
     "name": "stderr",
     "output_type": "stream",
     "text": [
      ".\n",
      "----------------------------------------------------------------------\n",
      "Ran 1 test in 0.001s\n",
      "\n",
      "OK\n"
     ]
    }
   ],
   "source": [
    "# Exercise 1.2\n",
    "\n",
    "reload(bloomfilter)\n",
    "run_test(bloomfilter.BloomFilterTest('test_add'))"
   ]
  },
  {
   "cell_type": "markdown",
   "metadata": {},
   "source": [
    "### Exercise 2\n",
    "\n",
    "#### 2.1. Make [this test](/edit/session8/bloomfilter.py) pass."
   ]
  },
  {
   "cell_type": "code",
   "execution_count": 8,
   "metadata": {},
   "outputs": [
    {
     "name": "stderr",
     "output_type": "stream",
     "text": [
      ".\n",
      "----------------------------------------------------------------------\n",
      "Ran 1 test in 0.001s\n",
      "\n",
      "OK\n"
     ]
    }
   ],
   "source": [
    "# Exercise 2.1\n",
    "\n",
    "reload(bloomfilter)\n",
    "run_test(bloomfilter.BloomFilterTest('test_filterload'))"
   ]
  },
  {
   "cell_type": "markdown",
   "metadata": {},
   "source": [
    "### Exercise 3\n",
    "\n",
    "#### 3.1. Make [this test](/edit/session8/merkleblock.py) pass."
   ]
  },
  {
   "cell_type": "code",
   "execution_count": 9,
   "metadata": {},
   "outputs": [
    {
     "name": "stderr",
     "output_type": "stream",
     "text": [
      ".\n",
      "----------------------------------------------------------------------\n",
      "Ran 1 test in 0.001s\n",
      "\n",
      "OK\n"
     ]
    }
   ],
   "source": [
    "# Exercise 3.1\n",
    "\n",
    "reload(merkleblock)\n",
    "run_test(merkleblock.MerkleBlockTest('test_parse'))"
   ]
  },
  {
   "cell_type": "markdown",
   "metadata": {},
   "source": [
    "### Exercise 4\n",
    "\n",
    "#### 4.1. Make [this test](/edit/session8/network.py) pass."
   ]
  },
  {
   "cell_type": "code",
   "execution_count": 10,
   "metadata": {},
   "outputs": [
    {
     "name": "stderr",
     "output_type": "stream",
     "text": [
      ".\n",
      "----------------------------------------------------------------------\n",
      "Ran 1 test in 0.001s\n",
      "\n",
      "OK\n"
     ]
    }
   ],
   "source": [
    "# Exercise 4.1\n",
    "\n",
    "reload(network)\n",
    "run_test(network.HeadersMessageTest('test_parse'))"
   ]
  },
  {
   "cell_type": "markdown",
   "metadata": {},
   "source": [
    "### Exercise 5\n",
    "\n",
    "#### 5.1. Make [this test](/edit/session8/network.py) pass."
   ]
  },
  {
   "cell_type": "code",
   "execution_count": 11,
   "metadata": {},
   "outputs": [
    {
     "name": "stderr",
     "output_type": "stream",
     "text": [
      ".\n",
      "----------------------------------------------------------------------\n",
      "Ran 1 test in 0.001s\n",
      "\n",
      "OK\n"
     ]
    }
   ],
   "source": [
    "# Exercise 5.1\n",
    "\n",
    "reload(network)\n",
    "run_test(network.GetDataMessageTest('test_serialize'))"
   ]
  },
  {
   "cell_type": "markdown",
   "metadata": {},
   "source": [
    "### Exercise 6\n",
    "\n",
    "#### 6.1. Make [this test](/edit/session8/merkleblock.py) pass."
   ]
  },
  {
   "cell_type": "code",
   "execution_count": 12,
   "metadata": {},
   "outputs": [
    {
     "name": "stderr",
     "output_type": "stream",
     "text": [
      ".\n",
      "----------------------------------------------------------------------\n",
      "Ran 1 test in 0.001s\n",
      "\n",
      "OK\n"
     ]
    }
   ],
   "source": [
    "reload(merkleblock)\n",
    "run_test(merkleblock.MerkleBlockTest('test_is_valid'))"
   ]
  },
  {
   "cell_type": "markdown",
   "metadata": {},
   "source": [
    "### Exercise 7\n",
    "\n",
    "#### 7.1. You have been sent some unknown amount of testnet bitcoins to your address. \n",
    "\n",
    "Send all of it back (minus fees) to `mwJn1YPMq7y5F8J3LkC5Hxg9PHyZ5K4cFv` using only the networking protocol."
   ]
  },
  {
   "cell_type": "code",
   "execution_count": 13,
   "metadata": {},
   "outputs": [
    {
     "name": "stdout",
     "output_type": "stream",
     "text": [
      "mseRGXB89UTFVkWJhTRTzzZ9Ujj4ZPbGK5\n",
      "sending: version: 7f110100000000000000000014f3855b00000000000000000000000000000000000000000000ffff000000008d20000000000000000000000000000000000000ffff000000008d20802808e5c744dc8d1b2f70726f6772616d6d696e67626c6f636b636861696e3a302e312f0000000001\n",
      "receiving: version: 7f1101000d0400000000000014f3855b00000000000000000000000000000000000000000000ffff4830fd33f7f50d040000000000000000000000000000000000000000000000008d11426c673cb8fd102f5361746f7368693a302e31362e302f7e86150001\n",
      "sending: verack: \n",
      "receiving: verack: \n",
      "sending: filterload: 1e010000000000000040000000100100000000000200000000000000000000050000006260010001\n",
      "sending: getheaders: 7f11010001d89530995098e16cf4512552d4bf2548b64b757dd4027e2285000000000000000000000000000000000000000000000000000000000000000000000000000000\n",
      "receiving: sendheaders: \n",
      "receiving: sendcmpct: 000200000000000000\n",
      "receiving: sendcmpct: 000100000000000000\n",
      "receiving: ping: 21ba50e6642b558b\n",
      "sending: pong: 21ba50e6642b558b\n",
      "receiving: addr: 0114f3855b0d0400000000000000000000000000000000ffffa2d49eac479d\n",
      "receiving: feefilter: e803000000000000\n",
      "receiving: headers: 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\n",
      "sending: getdata: 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\n"
     ]
    },
    {
     "name": "stdout",
     "output_type": "stream",
     "text": [
      "receiving: merkleblock: 00000020d89530995098e16cf4512552d4bf2548b64b757dd4027e2285000000000000001a5a6b10cc6f7f88e2299f0315ff86f53743aa699bbc6c9cf1e9284db007f4cd4ace855b67d8001ab19f7c07cf0d00000d9fe4106b0d6d10f126d8e73a1333019a37c2b32bde5d99f6ebbaecaccdf43b612d095a26e0941e48c7943759e5ee8df89bbdc2bca0c080e0d1f3cadf4290e2435dd34a2ebab38cd331fdf61a1d4992ca1209d3c885b2aad194074aa33c0ac160fd819c39d8387cc0c925b78163ff993d7618b1c8f497d5c52cd323808563095302fd7357d9dd374c708d89dcfdade17ba64290e9889b51bcf6a014bd506b83b0f673dccc713650c03aade5bfc7c31c9be9199777c6463f90a4141920d2499c928fad0ed4a7e9bd789243366ef771ff71be9194ad4526261940ca2cd90ea756de617a0fbee3357d38f681875a1eb10d1367e9c64adf0a2d3d5fb8f1bc43f8e2d0f14c23cc5eafbd56febb6f9a3e6b04fefe84b3c74015fc5169bd04e9a484c0c3aa7707325157841a14a6722e9c93c43c5d278f73fbb1a496d13347ff3a454f361887e42e53ddcbe77cb8434fd9d4d7c54b90837db9ea1c9d69e1052e86d01e784f5ec3878ad71155fff7238418be5508015b588e635f4db4247a9cfb3fbf5e3d1ddc3976a4751123076e494e290079a8ed007387eb701c620cc4a30d56a62d6904db7e0100\n",
      "receiving: tx: 0100000001dcfd250245c506060b512ca11b5ffe33b474094cbb83783c10978c5578ab001a000000006a47304402203171b2062e5d4d8bce380fcc357644d9e0d96dffffcb1f4c1ec532246e5f7e1d022002723fb6409f4f94e0e2aa74a999af92e78faa41b2e93b99303aa7a32a0dc1ab012103f96f3a1efd31e1a8d7078118ee56bff7355d58907ce0f865f5f0b3dbe34e55beffffffff02163bf100000000001976a914850af0029eb376691c3eef244c25eceb4e50c50388acbb6b0400000000001976a9149e153ce5de3689901301309b9e8d804ab4804d4b88ac00000000\n",
      "found: b0836b50bd14a0f6bc519b88e99042a67be1adfddc898d704c37ddd95773fd02:0\n",
      "010000000102fd7357d9dd374c708d89dcfdade17ba64290e9889b51bcf6a014bd506b83b0000000006a473044022040a6247559eabb340b892a16fb5849757342707102f0e0743d8b704330856ca002205134a87eeaa3c24e5e407a88755821a318d16cfbd33aa36ace9cde7097bae688012103dc585d46cfca73f3a75ba1ef0c5756a21c1924587480700c6eb64e3f75d22083ffffff00018e27f100000000001976a9149e153ce5de3689901301309b9e8d804ab4804d4b88ac00000000\n",
      "sending: tx: 010000000102fd7357d9dd374c708d89dcfdade17ba64290e9889b51bcf6a014bd506b83b0000000006a473044022040a6247559eabb340b892a16fb5849757342707102f0e0743d8b704330856ca002205134a87eeaa3c24e5e407a88755821a318d16cfbd33aa36ace9cde7097bae688012103dc585d46cfca73f3a75ba1ef0c5756a21c1924587480700c6eb64e3f75d22083ffffff00018e27f100000000001976a9149e153ce5de3689901301309b9e8d804ab4804d4b88ac00000000\n",
      "sending: getdata: 01010000009fff82c7706b1aff830f048b7884862ced5442f7d29012b4d720e77cf98ea0bd\n",
      "receiving: merkleblock: 00000020b6c66e8fa1ac38b9d4ccfe6c135a256a1159eb1fe15439f09f0000000000000081b8fa2ab0e369612e8cf0f1d22b5a1fce65bae33e48fb65a17d99457a470c1578cf855b67d8001ab6405366c50d00000181b8fa2ab0e369612e8cf0f1d22b5a1fce65bae33e48fb65a17d99457a470c150100\n",
      "receiving: merkleblock: 00000020eb3ddf19a4d9fa2f498c9939f823d5d57ac51bc400049874c000000000000000780d692ce780e19ebed1b59e6fd89de96d24fe058475daf2a7d184fc682892cd96cf855b67d8001a0cc5b614960d000001780d692ce780e19ebed1b59e6fd89de96d24fe058475daf2a7d184fc682892cd0100\n",
      "receiving: merkleblock: 00000020df1227721cb0887258ce985a600b85d23efe36853b35f2831d000000000000007ea0337b47ec4f446d0a24372663a7b1985729d0534ef989174b7da5e0bf70692ed0855b67d8001a70a234e63e080000017ea0337b47ec4f446d0a24372663a7b1985729d0534ef989174b7da5e0bf70690100\n",
      "receiving: merkleblock: 000000200883dbd3b6d221861f1948657dea3f75d0ec7a3b96ba814e4100000000000000cbd098b669a81ae6dbf14f6a200fd74463001af7bbba919b95f2825e9cb57e7a75d0855b67d8001a41d1752bdf04000001cbd098b669a81ae6dbf14f6a200fd74463001af7bbba919b95f2825e9cb57e7a0100\n",
      "receiving: merkleblock: 0000002022f231fb971499d6354b7c94f1195059a46fbfdf3045feb56f00000000000000cd6955e35e27b0e8b76d4a8aeaf2bb8b60622cba39a7b262072eece98aecb9508dd1855b67d8001aed821985210d000001cd6955e35e27b0e8b76d4a8aeaf2bb8b60622cba39a7b262072eece98aecb9500100\n",
      "receiving: merkleblock: 00000020f840caeb7427af25d747ec2898b05e246701c33f928a868f54000000000000003022f8618238ba47306c994d5f110c6d3afdfb9ef767ca9d54b5a09f2774f440e2d1855b67d8001ae649458310040000013022f8618238ba47306c994d5f110c6d3afdfb9ef767ca9d54b5a09f2774f4400100\n",
      "receiving: merkleblock: 00000020eb90584823ef665007a58ba2c7cc8f9eeb337e91a0dd01f27600000000000000eaa743f55dad69d562e4f27dd7235471584cb197bfabf54798dd6210c8079d6fc2d4855b67d8001a798b2d0ec10d000001eaa743f55dad69d562e4f27dd7235471584cb197bfabf54798dd6210c8079d6f0100\n",
      "receiving: merkleblock: 0000002077229467c8026bde34ffb1e9fb59f4e7e8c8610efcd28008d100000000000000cee982ae36b69ee736c62a651ed05a59228db4434a8d9fa8d2fb4507553173c0d2d5855b67d8001a75ba64a6be0d000001cee982ae36b69ee736c62a651ed05a59228db4434a8d9fa8d2fb4507553173c00100\n",
      "receiving: merkleblock: 00000020643c33660c6cf6aa80ab47880d1aa809243f860e1ae26c737600000000000000a7814cbb29c669e2a21155f6e989233885758349b92f8d61b8b7fbdb1bd8768910d6855b67d8001aa92c4978d206000001a7814cbb29c669e2a21155f6e989233885758349b92f8d61b8b7fbdb1bd876890100\n",
      "receiving: merkleblock: 000000203acaaa92478270027e98896a50bbf78238b02b5a2568b59a5600000000000000625eebabb3dd2722f4aae8b961148a5aff9c8b89efd6ef7e7860b1b379cb1937c2d6855b67d8001ae0430321c305000001625eebabb3dd2722f4aae8b961148a5aff9c8b89efd6ef7e7860b1b379cb19370100\n",
      "receiving: merkleblock: 00000020182c5c3917373cf7a37b1031746ff3e81edae088d62e07499300000000000000bda313372f085e83666f045685bde6ef04010484c5b73ff4c509642e6988975535d8855b67d8001a700a22ac9f0d000001bda313372f085e83666f045685bde6ef04010484c5b73ff4c509642e698897550100\n",
      "receiving: merkleblock: 000000207e655d40d779eb34904619fe51623687143a1881ac09e4fc22000000000000000e981f7c01d5359e7d3230a516b713e88d9b82c5b9a46aad7558c6c0df89b5114bd9855b67d8001a05af3b905c080000010e981f7c01d5359e7d3230a516b713e88d9b82c5b9a46aad7558c6c0df89b5110100\n",
      "receiving: merkleblock: 0000002043f1d240602b16cf5e5e679b6a88688da14e2bc14edd51bb020000000000000027dcfb53bd3f3cd998721d1ceb734541a37f08f06f6e4f3793b9041fcb9d078a6bd9855b67d8001ae1ce2bd4a60100000127dcfb53bd3f3cd998721d1ceb734541a37f08f06f6e4f3793b9041fcb9d078a0100\n",
      "receiving: merkleblock: 00000020f97d1b3e9afb4fd32428a92520440fb5c87147a8caa01d1877000000000000006b5276c33ed3294378ce43218cc4737b3527045673c6b559442c94237c5b9556afd9855b67d8001af8acbe5132030000016b5276c33ed3294378ce43218cc4737b3527045673c6b559442c94237c5b95560100\n",
      "receiving: merkleblock: 00e0ff3f71e7dcd7c9d5a3574298a1cfb6c52d06cbcb15103f287f022a00000000000000a58cee1fe081bd1c6bd1ac2c4966f641158e49f9155069ce85824d41ba1c64868cdb855b67d8001a6029706abb0d00000d448d4d193116d97697b04aa0955277d66ffde944a4ae3c8835ff6efa6087dfb713e5ef36daa3c3aa66c8e09be329b6e21856662e078a258b1f2eeffc8ff751f1b40962ae86d06c5f9ae0a94081a28b11caf5b20b783a0b4d2f15f7ff924fed8f77cb202c5b05da5ff8024f34c5624ec8f676a9ba76851fbba810335b897aca22fb9a86c83c7d4967624cc59facf8af5deb406fbc86e862d1704d0bb8e321105632a1916584e0435e9ff6fe27ae102518bd555ca38e4385283194deb7fe03064158b33a73f174d9a40d10f8f69a7edda2f388739167050528d24b26daebdf10abf70cc0d733dda8cea3a468177be0562d20f50966334afa271500974a2f1672c1664cfc7da8b4db31fd256b051aa2cfd22136d519303151a4c5580fc0c9006b0d1c0b9f27d0e94276dbba25c29c0abad1724d9fba5d1792e2299bc9c3bff9b405f8014b6530ee54b536025d4bd2be216716390aefab3d40233603a342cf5a7644f2949ce9e41790add4436392491f95262feec54acec4e9f2204c0fd6f801a4d6929db71b280dd3e8eae28476bb1afb933ae2371ef78c46f15c2a300b52943886047beb0100\n",
      "receiving: tx: 01000000011e26ff7c1a03d12d713ccacb9adf60f30786935ff358eef642e931f401ccd312010000006a47304402207c1159fca1222e368132a570a812204376ffdb55f23eebd03dfead9506ed5e96022054a3127dba4d8da4feec676d20d5aaead6889e6bfff5ea38e5632ce5e5bd46a70121030cbb4711a775522d6cd9c082c7d85b27ddb981934b655cd085f55c1813f94647ffffffff0200aef45d040000001976a914b0a95d53b1ab509b39dfbb336f42a2ce16e1b64a88ac0000000000000000536a4c500001fd3600016d64e9f0d3121cbf83d16ceb0bc0d8beb462298c44f07a8027c3ef2ccc737eacb73349c92bb70a4adbb6f9fc29595b85d9d9060519e49d61562d01a9b5dee1a5be8c3f0207f30eee6ce000000000\n",
      "01000000011e26ff7c1a03d12d713ccacb9adf60f30786935ff358eef642e931f401ccd312010000006a47304402207c1159fca1222e368132a570a812204376ffdb55f23eebd03dfead9506ed5e96022054a3127dba4d8da4feec676d20d5aaead6889e6bfff5ea38e5632ce5e5bd46a70121030cbb4711a775522d6cd9c082c7d85b27ddb981934b655cd085f55c1813f94647ffffffff0200aef45d040000001976a914b0a95d53b1ab509b39dfbb336f42a2ce16e1b64a88ac0000000000000000536a4c500001fd3600016d64e9f0d3121cbf83d16ceb0bc0d8beb462298c44f07a8027c3ef2ccc737eacb73349c92bb70a4adbb6f9fc29595b85d9d9060519e49d61562d01a9b5dee1a5be8c3f0207f30eee6ce000000000\n"
     ]
    }
   ],
   "source": [
    "# Exercise 7.1\n",
    "\n",
    "import time\n",
    "\n",
    "from block import Block\n",
    "from bloomfilter import BloomFilter\n",
    "from ecc import PrivateKey\n",
    "from helper import double_sha256, little_endian_to_int, encode_varint, read_varint, decode_base58, p2pkh_script, SIGHASH_ALL\n",
    "from merkleblock import MerkleBlock\n",
    "from network import (\n",
    "    GetDataMessage,\n",
    "    GetHeadersMessage,\n",
    "    HeadersMessage,\n",
    "    NetworkEnvelope,\n",
    "    SimpleNode,\n",
    "    TX_DATA_TYPE,\n",
    "    FILTERED_BLOCK_DATA_TYPE,\n",
    ")\n",
    "from tx import Tx, TxIn, TxOut\n",
    "\n",
    "last_block_hex = '0000000000000085227e02d47d754bb64825bfd4522551f46ce19850993095d8'\n",
    "\n",
    "secret = little_endian_to_int(double_sha256(b'Jimmy Song'))\n",
    "private_key = PrivateKey(secret=secret)\n",
    "addr = private_key.point.address(testnet=True)\n",
    "print(addr)\n",
    "h160 = decode_base58(addr)\n",
    "\n",
    "target_address = 'mwJn1YPMq7y5F8J3LkC5Hxg9PHyZ5K4cFv'\n",
    "target_h160 = decode_base58(target_address)\n",
    "target_script = p2pkh_script(target_h160)\n",
    "fee = 5000  # fee in satoshis\n",
    "\n",
    "# connect to tbtc.programmingblockchain.com in testnet mode\n",
    "node = SimpleNode('tbtc.programmingblockchain.com', testnet=True, logging=True)\n",
    "\n",
    "# create a bloom filter of size 30 and 5 functions. Add a tweak that you like\n",
    "bf = BloomFilter(30, 5, 90210)\n",
    "# add the h160 to the bloom filter\n",
    "bf.add(h160)\n",
    "\n",
    "# complete the handshake\n",
    "node.handshake()\n",
    "# load the bloom filter with the filterload command\n",
    "node.send(b'filterload', bf.filterload())\n",
    "\n",
    "# set starting block to last_block from above\n",
    "starting_block = bytes.fromhex(last_block_hex)\n",
    "# send a getheaders message with the starting block\n",
    "getheaders_message = GetHeadersMessage(starting_block=starting_block)\n",
    "node.send(b'getheaders', getheaders_message.serialize())\n",
    "\n",
    "# wait for the headers message\n",
    "headers_envelope = node.wait_for_commands({b'headers'})\n",
    "\n",
    "# get the stream from the headers\n",
    "stream = headers_envelope.stream()\n",
    "# parse the headers message\n",
    "headers = HeadersMessage.parse(stream)\n",
    "# store the last block as None\n",
    "last_block = None\n",
    "# initialize the GetDataMessage\n",
    "get_data_message = GetDataMessage()\n",
    "# loop through the blocks in the headers\n",
    "for b in headers.blocks:\n",
    "    # check that the proof of work on the block is valid\n",
    "    if not b.check_pow():\n",
    "        raise RuntimeError('proof of work is invalid')\n",
    "    # check that this block's prev_block is the last block\n",
    "    if last_block is not None and b.prev_block != last_block:\n",
    "        raise RuntimeErrer('chain broken')\n",
    "    # add a new item to the get_data_message\n",
    "    # should be FILTERED_BLOCK_DATA_TYPE and block hash\n",
    "    get_data_message.add_data(FILTERED_BLOCK_DATA_TYPE, b.hash())\n",
    "    # set the last block to the current hash\n",
    "    last_block = b.hash()\n",
    "# send the getdata message\n",
    "node.send(b'getdata', get_data_message.serialize())\n",
    "\n",
    "# initialize prev_tx, prev_index and pt to None\n",
    "prev_tx, prev_index, prev_tx_obj = None, None, None\n",
    "# looup while prev_tx is None \n",
    "while prev_tx is None:\n",
    "    # wait for the merkleblock or tx commands\n",
    "    envelope = node.wait_for_commands({b'merkleblock', b'tx'})\n",
    "    # initialize the stream from the envelope\n",
    "    stream = envelope.stream()\n",
    "    # if we have the merkleblock command\n",
    "    if envelope.command == b'merkleblock':\n",
    "        # parse the MerkleBlock\n",
    "        mb = MerkleBlock.parse(stream)\n",
    "        # check that the MerkleBlock is valid\n",
    "        if not mb.is_valid():\n",
    "            raise RuntimeError('invalid merkle proof')\n",
    "    # else we have the tx command\n",
    "    else:\n",
    "        # parse the tx\n",
    "        prev_tx_obj = Tx.parse(stream, testnet=True)\n",
    "        # loop through the tx outs\n",
    "        for i, tx_out in enumerate(prev_tx_obj.tx_outs):\n",
    "            # if our output has the same address as our address we found it\n",
    "            if tx_out.script_pubkey.address(testnet=True) == addr:\n",
    "                # we found our utxo. set prev_tx, prev_index, and transaction\n",
    "                prev_tx = prev_tx_obj.hash()\n",
    "                prev_index = i\n",
    "                print('found: {}:{}'.format(prev_tx.hex(), prev_index))\n",
    "# create tx_in\n",
    "tx_in = TxIn(prev_tx, prev_index, b'', 0xffffff)\n",
    "# set the cache of the previous tx to prev_tx_obj so we don't talk to a block explorer\n",
    "tx_in.cache[prev_tx] = prev_tx_obj\n",
    "# create the tx_ins array\n",
    "tx_ins = [tx_in]\n",
    "# calculate how much is in this UTXO\n",
    "total = prev_tx_obj.tx_outs[prev_index].amount\n",
    "# create a new transaction out to the right address with the right amount (subtract fee)\n",
    "tx_outs = [TxOut(total-fee, target_script)]\n",
    "# create a new transaction\n",
    "tx_obj = Tx(1, tx_ins, tx_outs, 0, testnet=True)\n",
    "# sign the transaction\n",
    "tx_obj.sign_input(0, private_key, SIGHASH_ALL)\n",
    "# serialize and hex to see what it looks like\n",
    "print(tx_obj.serialize().hex())\n",
    "# send this signed transaction on the network\n",
    "node.send(b'tx', tx_obj.serialize())\n",
    "# wait a sec so this message goes through to the other node time.sleep(1) \n",
    "time.sleep(1)\n",
    "# now ask for this transaction from the other node\n",
    "# create a GetDataMessage\n",
    "get_data_message = GetDataMessage()\n",
    "# ask for our transaction by adding it to the message\n",
    "get_data_message.add_data(TX_DATA_TYPE, tx_obj.hash())\n",
    "# send the message\n",
    "node.send(b'getdata', get_data_message.serialize())\n",
    "# now wait for a response\n",
    "envelope = node.wait_for_commands({b'tx', b'reject'})\n",
    "if envelope.command == b'tx':\n",
    "    print(envelope.payload.hex())\n",
    "else:\n",
    "    print(envelope.payload)"
   ]
  }
 ],
 "metadata": {
  "kernelspec": {
   "display_name": "Python 3",
   "language": "python",
   "name": "python3"
  },
  "language_info": {
   "codemirror_mode": {
    "name": "ipython",
    "version": 3
   },
   "file_extension": ".py",
   "mimetype": "text/x-python",
   "name": "python",
   "nbconvert_exporter": "python",
   "pygments_lexer": "ipython3",
   "version": "3.6.5"
  }
 },
 "nbformat": 4,
 "nbformat_minor": 2
}
