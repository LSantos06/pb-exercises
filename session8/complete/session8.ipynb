{
 "cells": [
  {
   "cell_type": "code",
   "execution_count": 1,
   "metadata": {},
   "outputs": [],
   "source": [
    "# import everything and define a test runner function\n",
    "from importlib import reload\n",
    "from helper import run_test\n",
    "\n",
    "import bloomfilter\n",
    "import block\n",
    "import ecc\n",
    "import helper\n",
    "import merkleblock\n",
    "import network\n",
    "import script\n",
    "import tx"
   ]
  },
  {
   "cell_type": "code",
   "execution_count": 2,
   "metadata": {},
   "outputs": [
    {
     "name": "stdout",
     "output_type": "stream",
     "text": [
      "[0, 0, 0, 0, 0, 0, 0, 0, 0, 1]\n"
     ]
    }
   ],
   "source": [
    "# Example Bloom Filter\n",
    "\n",
    "from helper import double_sha256\n",
    "\n",
    "bit_field_size = 10\n",
    "bit_field = [0] * bit_field_size\n",
    "\n",
    "h = double_sha256(b'hello world')\n",
    "bit = int.from_bytes(h, 'big') % bit_field_size\n",
    "bit_field[bit] = 1\n",
    "print(bit_field)"
   ]
  },
  {
   "cell_type": "code",
   "execution_count": 3,
   "metadata": {},
   "outputs": [
    {
     "name": "stdout",
     "output_type": "stream",
     "text": [
      "[0, 0, 1, 0, 0, 0, 0, 0, 0, 1]\n"
     ]
    }
   ],
   "source": [
    "# Example Bloom Filter 2\n",
    "\n",
    "from helper import double_sha256\n",
    "\n",
    "bit_field_size = 10\n",
    "bit_field = [0] * bit_field_size\n",
    "\n",
    "h = double_sha256(b'hello world')\n",
    "bit = int.from_bytes(h, 'big') % bit_field_size\n",
    "bit_field[bit] = 1\n",
    "h = double_sha256(b'goodbye')\n",
    "bit = int.from_bytes(h, 'big') % bit_field_size\n",
    "bit_field[bit] = 1\n",
    "print(bit_field)"
   ]
  },
  {
   "cell_type": "code",
   "execution_count": 4,
   "metadata": {},
   "outputs": [
    {
     "name": "stdout",
     "output_type": "stream",
     "text": [
      "[1, 1, 1, 0, 0, 0, 0, 0, 0, 1]\n"
     ]
    }
   ],
   "source": [
    "# Example Bloom Filter 3\n",
    "\n",
    "from helper import double_sha256, hash160\n",
    "\n",
    "bit_field_size = 10\n",
    "bit_field = [0] * bit_field_size\n",
    "\n",
    "phrase1 = b'hello world'\n",
    "h1 = double_sha256(phrase1)\n",
    "bit1 = int.from_bytes(h1, 'big') % bit_field_size\n",
    "bit_field[bit1] = 1\n",
    "h2 = hash160(phrase1)\n",
    "bit2 = int.from_bytes(h2, 'big') % bit_field_size\n",
    "bit_field[bit2] = 1\n",
    "phrase2 = b'goodbye'\n",
    "h1 = double_sha256(phrase2)\n",
    "bit1 = int.from_bytes(h1, 'big') % bit_field_size\n",
    "bit_field[bit1] = 1\n",
    "h2 = hash160(phrase2)\n",
    "bit2 = int.from_bytes(h2, 'big') % bit_field_size\n",
    "bit_field[bit2] = 1\n",
    "print(bit_field)"
   ]
  },
  {
   "cell_type": "code",
   "execution_count": 5,
   "metadata": {},
   "outputs": [
    {
     "name": "stdout",
     "output_type": "stream",
     "text": [
      "[0, 0, 0, 0, 0, 1, 1, 0, 0, 1, 1, 0, 0, 0, 0, 0]\n"
     ]
    }
   ],
   "source": [
    "# Example BIP0037 Bloom Filter\n",
    "\n",
    "from helper import murmur3\n",
    "from bloomfilter import BIP37_CONSTANT\n",
    "\n",
    "field_size = 2\n",
    "num_functions = 2\n",
    "tweak = 42\n",
    "\n",
    "bit_field_size = field_size * 8\n",
    "bit_field = [0] * bit_field_size\n",
    "\n",
    "for phrase in (b'hello world', b'goodbye'):\n",
    "    for i in range(num_functions):\n",
    "        seed = i * BIP37_CONSTANT + tweak\n",
    "        h = murmur3(phrase, seed=seed)\n",
    "        bit = h % bit_field_size\n",
    "        bit_field[bit] = 1\n",
    "print(bit_field)"
   ]
  },
  {
   "cell_type": "markdown",
   "metadata": {},
   "source": [
    "### Exercise 1\n",
    "\n",
    "#### 1.1 Given a Bloom Filter with these parameters: size=10, function count=5, tweak=99, which bits are set after adding these items? \n",
    "\n",
    " * `b'Hello World'`\n",
    " * `b'Goodbye!'`\n",
    "\n",
    "#### 1.2. Make [this test](/edit/session8/bloomfilter.py) pass."
   ]
  },
  {
   "cell_type": "code",
   "execution_count": 6,
   "metadata": {},
   "outputs": [
    {
     "name": "stdout",
     "output_type": "stream",
     "text": [
      "4000600a080000010940\n"
     ]
    }
   ],
   "source": [
    "# Exercise 1.1\n",
    "from bloomfilter import BloomFilter, BIP37_CONSTANT\n",
    "from helper import bit_field_to_bytes, murmur3\n",
    "\n",
    "field_size = 10\n",
    "function_count = 5\n",
    "tweak = 99\n",
    "items = (b'Hello World',  b'Goodbye!')\n",
    "\n",
    "# bit_field_size is 8 * field_size\n",
    "bit_field_size = field_size * 8\n",
    "# create a bit field with the appropriate size\n",
    "bit_field = [0] * bit_field_size\n",
    "\n",
    "# for each item you want to add to the filter\n",
    "for item in items:\n",
    "    # iterate function_count number of times\n",
    "    for i in range(function_count):\n",
    "        # BIP0037 spec seed is i*BIP37_CONSTANT + tweak\n",
    "        seed = i * BIP37_CONSTANT + tweak\n",
    "        # get the murmur3 hash given that seed\n",
    "        h = murmur3(item, seed=seed)\n",
    "        # set the bit to be h mod the bit_field_size\n",
    "        bit = h % bit_field_size\n",
    "        # set the bit_field at the index bit to be 1\n",
    "        bit_field[bit] = 1\n",
    "# print the bit field converted to bytes using bit_field_to_bytes in hex\n",
    "print(bit_field_to_bytes(bit_field).hex())"
   ]
  },
  {
   "cell_type": "code",
   "execution_count": 7,
   "metadata": {},
   "outputs": [
    {
     "name": "stderr",
     "output_type": "stream",
     "text": [
      ".\n",
      "----------------------------------------------------------------------\n",
      "Ran 1 test in 0.001s\n",
      "\n",
      "OK\n"
     ]
    }
   ],
   "source": [
    "# Exercise 1.2\n",
    "\n",
    "reload(bloomfilter)\n",
    "run_test(bloomfilter.BloomFilterTest('test_add'))"
   ]
  },
  {
   "cell_type": "markdown",
   "metadata": {},
   "source": [
    "### Exercise 2\n",
    "\n",
    "#### 2.1. Make [this test](/edit/session8/bloomfilter.py) pass.\n",
    "\n",
    "#### 2.2. Do the following:\n",
    "\n",
    "* Connect to a testnet node\n",
    "* Load a filter for your testnet address\n",
    "* Send a request for transactions from the block which had your previous testnet transaction\n",
    "* Receive the merkleblock and tx messages."
   ]
  },
  {
   "cell_type": "code",
   "execution_count": 8,
   "metadata": {},
   "outputs": [
    {
     "name": "stderr",
     "output_type": "stream",
     "text": [
      ".\n",
      "----------------------------------------------------------------------\n",
      "Ran 1 test in 0.001s\n",
      "\n",
      "OK\n"
     ]
    }
   ],
   "source": [
    "# Exercise 2.1\n",
    "\n",
    "reload(bloomfilter)\n",
    "run_test(bloomfilter.BloomFilterTest('test_filterload'))"
   ]
  },
  {
   "cell_type": "code",
   "execution_count": 9,
   "metadata": {},
   "outputs": [
    {
     "name": "stdout",
     "output_type": "stream",
     "text": [
      "mqYz6JpuKukHzPg94y4XNDdPCEJrNkLQcv\n",
      "sending: version: 7f11010000000000000000000dc0bf5b00000000000000000000000000000000000000000000ffff000000008d20000000000000000000000000000000000000ffff000000008d208d07ece835fe28291b2f70726f6772616d6d696e67626c6f636b636861696e3a302e312f0000000001\n",
      "receiving: version: 7f1101000d040000000000000ec0bf5b00000000000000000000000000000000000000000000ffff4830fd33cf700d04000000000000000000000000000000000000000000000000f555f8496387e698102f5361746f7368693a302e31372e302f79e9150001\n",
      "sending: verack: \n",
      "receiving: verack: \n",
      "sending: filterload: 1e000000000000008800000002000000000000000000200000000100000000050000006260010001\n",
      "sending: getdata: 0103000000f94f9dbeb59aaf899130199372baf9b223c052624386e916fd01000000000000\n",
      "receiving: sendheaders: \n",
      "receiving: sendcmpct: 000200000000000000\n",
      "receiving: sendcmpct: 000100000000000000\n",
      "receiving: ping: 48215b048bb8daf4\n",
      "sending: pong: 48215b048bb8daf4\n",
      "receiving: addr: 010ec0bf5b0d0400000000000000000000000000000000ffffa2d49eac479d\n",
      "receiving: feefilter: e803000000000000\n",
      "receiving: merkleblock: 000000209a15e96aba5be083882794afdf0ac713ddc3b8476b9929858e0b00000000000067e3904c263490a6c04cfb852849e7572a167e4c94eaa5edd80e62500e92651776babf5bf0ff0f1a17704058070000000429ee37c882a4aaef18bf55b4842139f4b26b6f38c7b543ad49a8f58eb33b436e5899e696093b685f5426932df3393683b4d18892dc2aedd4a9273512eef83244ccbe518d11e77a1cb65b57ec0dc291e0749d60956b092eee9ad06e281c936b814aec3d1ad72ffdf43e42d08c0e0efab2bfd74ba5ffee1d45ca47c73bde6febe4011d\n",
      "merkleblock: 000000209a15e96aba5be083882794afdf0ac713ddc3b8476b9929858e0b00000000000067e3904c263490a6c04cfb852849e7572a167e4c94eaa5edd80e62500e92651776babf5bf0ff0f1a17704058070000000429ee37c882a4aaef18bf55b4842139f4b26b6f38c7b543ad49a8f58eb33b436e5899e696093b685f5426932df3393683b4d18892dc2aedd4a9273512eef83244ccbe518d11e77a1cb65b57ec0dc291e0749d60956b092eee9ad06e281c936b814aec3d1ad72ffdf43e42d08c0e0efab2bfd74ba5ffee1d45ca47c73bde6febe4011d\n",
      "receiving: tx: 02000000017556362f68c62760de4bb3d89cecfd1a8dcd0cf84d5eb12716120f6eb91b87c001000000171600140b93f828f96efe70b85006b51a6874c562d0cd73feffffff023b8d23e10300000017a91461cd953151a023c0746a57dacef36a35b06dc5ae87207e7500000000001976a9146e13971913b9aa89659a9f53d327baa8826f2d7588ac6fe91500\n",
      "tx: 02000000017556362f68c62760de4bb3d89cecfd1a8dcd0cf84d5eb12716120f6eb91b87c001000000171600140b93f828f96efe70b85006b51a6874c562d0cd73feffffff023b8d23e10300000017a91461cd953151a023c0746a57dacef36a35b06dc5ae87207e7500000000001976a9146e13971913b9aa89659a9f53d327baa8826f2d7588ac6fe91500\n"
     ]
    }
   ],
   "source": [
    "# Exercise 2.2\n",
    "\n",
    "from bloomfilter import BloomFilter\n",
    "from ecc import PrivateKey\n",
    "from helper import decode_base58, double_sha256, little_endian_to_int\n",
    "from merkleblock import MerkleBlock\n",
    "from network import (\n",
    "    FILTERED_BLOCK_DATA_TYPE, \n",
    "    GetDataMessage,\n",
    "    SimpleNode,\n",
    ")\n",
    "\n",
    "block_hash = bytes.fromhex('00000000000001fd16e986436252c023b2f9ba729319309189af9ab5be9d4ff9')\n",
    "passphrase = b'jimmy@programmingblockchain.com secret passphrase'  # FILL THIS IN\n",
    "secret = little_endian_to_int(double_sha256(passphrase))\n",
    "private_key = PrivateKey(secret=secret)\n",
    "addr = private_key.point.address(testnet=True)\n",
    "print(addr)\n",
    "filter_size = 30\n",
    "filter_num_functions = 5\n",
    "filter_tweak = 90210  # FILL THIS IN\n",
    "\n",
    "# get the hash160 of the address, which is what we need to add to our filter\n",
    "h160 = decode_base58(addr)\n",
    "# create a bloom filter of size 30 and 5 functions. Add a tweak that you like\n",
    "bf = BloomFilter(filter_size, filter_num_functions, filter_tweak)\n",
    "# add the h160 to the bloom filter\n",
    "bf.add(h160)\n",
    "\n",
    "# connect to tbtc.programmingblockchain.com in testnet mode, logging True\n",
    "node = SimpleNode('tbtc.programmingblockchain.com', testnet=True, logging=True)\n",
    "# complete the handshake\n",
    "node.handshake()\n",
    "# load the bloom filter with the filterload command\n",
    "node.send(b'filterload', bf.filterload())\n",
    "# create a getdata message\n",
    "getdata = GetDataMessage()\n",
    "# add a FILTERED_BLOCK_DATA_TYPE for the block hash above\n",
    "getdata.add_data(FILTERED_BLOCK_DATA_TYPE, block_hash)\n",
    "# send a getdata message for a FILTERED_BLOCK_DATA_TYPE\n",
    "node.send(getdata.command, getdata.serialize())\n",
    "# wait for the merkleblock command\n",
    "envelope = node.wait_for_commands([b'merkleblock'])\n",
    "print(envelope)\n",
    "# wait for the tx command\n",
    "envelope = node.wait_for_commands([b'tx'])\n",
    "print(envelope)"
   ]
  },
  {
   "cell_type": "markdown",
   "metadata": {},
   "source": [
    "### Exercise 3\n",
    "\n",
    "#### 3.1. Make [this test](/edit/session8/merkleblock.py) pass."
   ]
  },
  {
   "cell_type": "code",
   "execution_count": 10,
   "metadata": {},
   "outputs": [
    {
     "name": "stderr",
     "output_type": "stream",
     "text": [
      ".\n",
      "----------------------------------------------------------------------\n",
      "Ran 1 test in 0.003s\n",
      "\n",
      "OK\n"
     ]
    }
   ],
   "source": [
    "# Exercise 3.1\n",
    "\n",
    "reload(merkleblock)\n",
    "run_test(merkleblock.MerkleBlockTest('test_is_valid'))"
   ]
  },
  {
   "cell_type": "markdown",
   "metadata": {},
   "source": [
    "### Exercise 4\n",
    "\n",
    "#### 4.1. You have been sent some unknown amount of testnet bitcoins to your address. \n",
    "\n",
    "Send all of it back (minus fees) to `mwJn1YPMq7y5F8J3LkC5Hxg9PHyZ5K4cFv` using only the networking protocol."
   ]
  },
  {
   "cell_type": "code",
   "execution_count": 12,
   "metadata": {},
   "outputs": [
    {
     "name": "stdout",
     "output_type": "stream",
     "text": [
      "mqYz6JpuKukHzPg94y4XNDdPCEJrNkLQcv\n",
      "sending: version: 7f110100000000000000000018c0bf5b00000000000000000000000000000000000000000000ffff000000008d20000000000000000000000000000000000000ffff000000008d20c728f0203ebb2bd31b2f70726f6772616d6d696e67626c6f636b636861696e3a302e312f0000000001\n",
      "receiving: version: 7f1101000d0400000000000019c0bf5b00000000000000000000000000000000000000000000ffff4830fd33cf800d04000000000000000000000000000000000000000000000000177d83cab5388f1e102f5361746f7368693a302e31372e302f79e9150001\n",
      "sending: verack: \n",
      "receiving: verack: \n",
      "sending: filterload: 1e000000000000008800000002000000000000000000200000000100000000050000006260010001\n",
      "sending: getheaders: 7f110100019a15e96aba5be083882794afdf0ac713ddc3b8476b9929858e0b0000000000000000000000000000000000000000000000000000000000000000000000000000\n",
      "receiving: sendheaders: \n",
      "receiving: sendcmpct: 000200000000000000\n",
      "receiving: sendcmpct: 000100000000000000\n",
      "receiving: ping: efcaa67263a33e3a\n",
      "sending: pong: efcaa67263a33e3a\n",
      "receiving: addr: 0119c0bf5b0d0400000000000000000000000000000000ffffa2d49eac479d\n",
      "receiving: feefilter: e803000000000000\n",
      "receiving: headers: 09000000209a15e96aba5be083882794afdf0ac713ddc3b8476b9929858e0b00000000000067e3904c263490a6c04cfb852849e7572a167e4c94eaa5edd80e62500e92651776babf5bf0ff0f1a177040580000e0ff3ff94f9dbeb59aaf899130199372baf9b223c052624386e916fd01000000000000730f79408529937a29752cba8f90f5380dae9d350f62cf9e813858ae8c43f1dc8ababf5bf0ff0f1aa97e6cea0000000020596b51e62d304cd938c4ee00aa32a70202608a50f73c076cc00b00000000000019acde278fa6337932938fcf0178316ad384d525111f9a1e22c23caf6bf4cc6cc0bcbf5bf0ff0f1ac67213950000e000203cf93d0183ec3b9f235129fa867fa56ef94cedda3c0a68b1cf01000000000000520015ffd6be3518a8a6e3d50aaf27b8e7f31a738569ddbfb4a6d143d6989caaeebdbf5bf0ff0f1ad9fe54840000000020056d03fab8de200baa4e058e473c71568fe0c7f53473d2c4d70f0000000000004d3bfe1992410286d769ca033b8f166e8c5a1ddb111fe688ca256bdf2793c76578bebf5bf0ff0f1a7ed0de8d00000000201b0e96bc8d475745912e46e461282b3106f543f46b31afc1ca0d000000000000058c7bf15c4b1b400197ece71fae10c0f1485926167044c244c6197afbca82e482bebf5bf0ff0f1a418da9330000000020a94ffe354ee189bf4edd47faa215d3c73e7c1cbef557c710cf06000000000000d381e4320b118ac3698bf880f9b475efaef987bbadb6031c1af375e53a102beaa5bfbf5bf0ff0f1a1261e69100000000201c263b55eaf289ac6e6cfda37b642ca69ae1312343613c0f350a000000000000c1687c882dc78d826aaf5f14f41450e81db113534991da7a47d7173352a235b8babfbf5bf0ff0f1aff2f11cb00000000206c24a6e05eec7b65a2fbe2efdf736ee0c0171f177bcca62fb1060000000000008790f57549ab87aaf22b2e5be02a211e57d441c3079c127aadf5cf6827b24888b8bfbf5bf0ff0f1a72e470a600\n",
      "sending: getdata: 0903000000f94f9dbeb59aaf899130199372baf9b223c052624386e916fd0100000000000003000000596b51e62d304cd938c4ee00aa32a70202608a50f73c076cc00b000000000000030000003cf93d0183ec3b9f235129fa867fa56ef94cedda3c0a68b1cf0100000000000003000000056d03fab8de200baa4e058e473c71568fe0c7f53473d2c4d70f000000000000030000001b0e96bc8d475745912e46e461282b3106f543f46b31afc1ca0d00000000000003000000a94ffe354ee189bf4edd47faa215d3c73e7c1cbef557c710cf06000000000000030000001c263b55eaf289ac6e6cfda37b642ca69ae1312343613c0f350a000000000000030000006c24a6e05eec7b65a2fbe2efdf736ee0c0171f177bcca62fb106000000000000030000009eede06a7f74d5cb22a4b7193d7c7ec0070d1c08756d8d839105000000000000\n",
      "receiving: merkleblock: 000000209a15e96aba5be083882794afdf0ac713ddc3b8476b9929858e0b00000000000067e3904c263490a6c04cfb852849e7572a167e4c94eaa5edd80e62500e92651776babf5bf0ff0f1a17704058070000000429ee37c882a4aaef18bf55b4842139f4b26b6f38c7b543ad49a8f58eb33b436e5899e696093b685f5426932df3393683b4d18892dc2aedd4a9273512eef83244ccbe518d11e77a1cb65b57ec0dc291e0749d60956b092eee9ad06e281c936b814aec3d1ad72ffdf43e42d08c0e0efab2bfd74ba5ffee1d45ca47c73bde6febe4011d\n",
      "receiving: tx: 02000000017556362f68c62760de4bb3d89cecfd1a8dcd0cf84d5eb12716120f6eb91b87c001000000171600140b93f828f96efe70b85006b51a6874c562d0cd73feffffff023b8d23e10300000017a91461cd953151a023c0746a57dacef36a35b06dc5ae87207e7500000000001976a9146e13971913b9aa89659a9f53d327baa8826f2d7588ac6fe91500\n",
      "16662105403:OP_HASH160 61cd953151a023c0746a57dacef36a35b06dc5ae OP_EQUAL \n",
      "7700000:OP_DUP OP_HASH160 6e13971913b9aa89659a9f53d327baa8826f2d75 OP_EQUALVERIFY OP_CHECKSIG \n",
      "01000000015899e696093b685f5426932df3393683b4d18892dc2aedd4a9273512eef83244010000006b4830450221008deea10e0e58d69eb784c441c76f560d0a1c9679c6d236b548028b3a3053f398022073dc088f18df4ee9613a7a3e36a214d1f0a8ca4e2f0c055db0c5b6ebe53970800121031dbe3aff7b9ad64e2612b8b15e9f5e4a3130663a526df91abfb7b1bd16de5d6effffffff01986a7500000000001976a914ad346f8eb57dee9a37981716e498120ae80e44f788ac00000000\n",
      "sending: tx: 01000000015899e696093b685f5426932df3393683b4d18892dc2aedd4a9273512eef83244010000006b4830450221008deea10e0e58d69eb784c441c76f560d0a1c9679c6d236b548028b3a3053f398022073dc088f18df4ee9613a7a3e36a214d1f0a8ca4e2f0c055db0c5b6ebe53970800121031dbe3aff7b9ad64e2612b8b15e9f5e4a3130663a526df91abfb7b1bd16de5d6effffffff01986a7500000000001976a914ad346f8eb57dee9a37981716e498120ae80e44f788ac00000000\n",
      "sending: getdata: 01010000003ac4f66eda84d80aebc61507a393923029647618b434ac502994c2f91c99fd87\n",
      "receiving: merkleblock: 00e0ff3ff94f9dbeb59aaf899130199372baf9b223c052624386e916fd01000000000000730f79408529937a29752cba8f90f5380dae9d350f62cf9e813858ae8c43f1dc8ababf5bf0ff0f1aa97e6cea0200000001730f79408529937a29752cba8f90f5380dae9d350f62cf9e813858ae8c43f1dc0100\n",
      "receiving: merkleblock: 00000020596b51e62d304cd938c4ee00aa32a70202608a50f73c076cc00b00000000000019acde278fa6337932938fcf0178316ad384d525111f9a1e22c23caf6bf4cc6cc0bcbf5bf0ff0f1ac67213951c0000000119acde278fa6337932938fcf0178316ad384d525111f9a1e22c23caf6bf4cc6c0100\n",
      "receiving: merkleblock: 00e000203cf93d0183ec3b9f235129fa867fa56ef94cedda3c0a68b1cf01000000000000520015ffd6be3518a8a6e3d50aaf27b8e7f31a738569ddbfb4a6d143d6989caaeebdbf5bf0ff0f1ad9fe54840e00000001520015ffd6be3518a8a6e3d50aaf27b8e7f31a738569ddbfb4a6d143d6989caa0100\n",
      "receiving: merkleblock: 00000020056d03fab8de200baa4e058e473c71568fe0c7f53473d2c4d70f0000000000004d3bfe1992410286d769ca033b8f166e8c5a1ddb111fe688ca256bdf2793c76578bebf5bf0ff0f1a7ed0de8d08000000014d3bfe1992410286d769ca033b8f166e8c5a1ddb111fe688ca256bdf2793c7650100\n",
      "receiving: merkleblock: 000000201b0e96bc8d475745912e46e461282b3106f543f46b31afc1ca0d000000000000058c7bf15c4b1b400197ece71fae10c0f1485926167044c244c6197afbca82e482bebf5bf0ff0f1a418da9330200000001058c7bf15c4b1b400197ece71fae10c0f1485926167044c244c6197afbca82e40100\n",
      "receiving: merkleblock: 00000020a94ffe354ee189bf4edd47faa215d3c73e7c1cbef557c710cf06000000000000d381e4320b118ac3698bf880f9b475efaef987bbadb6031c1af375e53a102beaa5bfbf5bf0ff0f1a1261e6910900000001d381e4320b118ac3698bf880f9b475efaef987bbadb6031c1af375e53a102bea0100\n",
      "receiving: merkleblock: 000000201c263b55eaf289ac6e6cfda37b642ca69ae1312343613c0f350a000000000000c1687c882dc78d826aaf5f14f41450e81db113534991da7a47d7173352a235b8babfbf5bf0ff0f1aff2f11cb0100000001c1687c882dc78d826aaf5f14f41450e81db113534991da7a47d7173352a235b80100\n",
      "receiving: merkleblock: 000000206c24a6e05eec7b65a2fbe2efdf736ee0c0171f177bcca62fb1060000000000008790f57549ab87aaf22b2e5be02a211e57d441c3079c127aadf5cf6827b24888b8bfbf5bf0ff0f1a72e470a601000000018790f57549ab87aaf22b2e5be02a211e57d441c3079c127aadf5cf6827b248880100\n",
      "receiving: tx: 01000000015899e696093b685f5426932df3393683b4d18892dc2aedd4a9273512eef83244010000006b4830450221008deea10e0e58d69eb784c441c76f560d0a1c9679c6d236b548028b3a3053f398022073dc088f18df4ee9613a7a3e36a214d1f0a8ca4e2f0c055db0c5b6ebe53970800121031dbe3aff7b9ad64e2612b8b15e9f5e4a3130663a526df91abfb7b1bd16de5d6effffffff01986a7500000000001976a914ad346f8eb57dee9a37981716e498120ae80e44f788ac00000000\n",
      "01000000015899e696093b685f5426932df3393683b4d18892dc2aedd4a9273512eef83244010000006b4830450221008deea10e0e58d69eb784c441c76f560d0a1c9679c6d236b548028b3a3053f398022073dc088f18df4ee9613a7a3e36a214d1f0a8ca4e2f0c055db0c5b6ebe53970800121031dbe3aff7b9ad64e2612b8b15e9f5e4a3130663a526df91abfb7b1bd16de5d6effffffff01986a7500000000001976a914ad346f8eb57dee9a37981716e498120ae80e44f788ac00000000\n",
      "87fd991cf9c2942950ac34b418766429309293a30715c6eb0ad884da6ef6c43a\n"
     ]
    }
   ],
   "source": [
    "# Exercise 4.1\n",
    "\n",
    "import time\n",
    "\n",
    "from block import Block\n",
    "from bloomfilter import BloomFilter\n",
    "from ecc import PrivateKey\n",
    "from helper import (\n",
    "    decode_base58,\n",
    "    double_sha256,\n",
    "    encode_varint,\n",
    "    little_endian_to_int, \n",
    "    read_varint,\n",
    "    SIGHASH_ALL,\n",
    ")\n",
    "from merkleblock import MerkleBlock\n",
    "from network import (\n",
    "    GetDataMessage,\n",
    "    GetHeadersMessage,\n",
    "    HeadersMessage,\n",
    "    NetworkEnvelope,\n",
    "    SimpleNode,\n",
    "    TX_DATA_TYPE,\n",
    "    FILTERED_BLOCK_DATA_TYPE,\n",
    ")\n",
    "from script import p2pkh_script\n",
    "from tx import Tx, TxIn, TxOut\n",
    "\n",
    "last_block_hex = '0000000000000b8e8529996b47b8c3dd13c70adfaf94278883e05bba6ae9159a'\n",
    "passphrase = b'jimmy@programmingblockchain.com secret passphrase'  # FILL THIS IN\n",
    "secret = little_endian_to_int(double_sha256(passphrase))\n",
    "private_key = PrivateKey(secret=secret)\n",
    "addr = private_key.point.address(testnet=True)\n",
    "print(addr)\n",
    "filter_size = 30\n",
    "filter_num_functions = 5\n",
    "filter_tweak = 90210  # FILL THIS IN\n",
    "\n",
    "target_address = 'mwJn1YPMq7y5F8J3LkC5Hxg9PHyZ5K4cFv'\n",
    "target_h160 = decode_base58(target_address)\n",
    "target_script = p2pkh_script(target_h160)\n",
    "fee = 5000  # fee in satoshis\n",
    "\n",
    "# get the hash160 of the address, which is what we need to add to our filter\n",
    "h160 = decode_base58(addr)\n",
    "# create a bloom filter of size 30 and 5 functions. Add a tweak that you like\n",
    "bf = BloomFilter(filter_size, filter_num_functions, filter_tweak)\n",
    "# add the h160 to the bloom filter\n",
    "bf.add(h160)\n",
    "\n",
    "# connect to tbtc.programmingblockchain.com in testnet mode, logging True\n",
    "node = SimpleNode('tbtc.programmingblockchain.com', testnet=True, logging=True)\n",
    "# complete the handshake\n",
    "node.handshake()\n",
    "# load the bloom filter with the filterload command\n",
    "node.send(b'filterload', bf.filterload())\n",
    "\n",
    "# set start block to last_block from above\n",
    "start_block = bytes.fromhex(last_block_hex)\n",
    "# create GetHeadersMessage with this start block\n",
    "ghm = GetHeadersMessage(start_block=start_block)\n",
    "# send a getheaders message with the start block\n",
    "node.send(ghm.command, ghm.serialize())\n",
    "\n",
    "# wait for the headers message\n",
    "envelope = node.wait_for_commands([HeadersMessage.command])\n",
    "\n",
    "# get the stream from the headers\n",
    "s = envelope.stream()\n",
    "# parse the headers message\n",
    "headers_message = HeadersMessage.parse(s)\n",
    "# store the last block as None\n",
    "last_block = None\n",
    "# initialize the GetDataMessage\n",
    "getdata = GetDataMessage()\n",
    "# loop through the blocks in the headers\n",
    "for block in headers_message.blocks:\n",
    "    # check that the proof of work on the block is valid\n",
    "    if not block.check_pow():\n",
    "        raise RuntimeError\n",
    "    # check that this block's prev_block is the last block\n",
    "    if last_block is not None and block.prev_block != last_block:\n",
    "        raise RuntimeError\n",
    "    # add FILTERED_BLOCK_DATA_TYPE block.hash() to GetDataMessage\n",
    "    getdata.add_data(FILTERED_BLOCK_DATA_TYPE, block.hash())\n",
    "    # set the last block to the current hash\n",
    "    last_block = block.hash()\n",
    "# send the getdata message\n",
    "node.send(getdata.command, getdata.serialize())\n",
    "\n",
    "# initialize prev_tx and prev_index to None\n",
    "prev_tx, prev_index = None, None\n",
    "# initialize prev_amount to None\n",
    "prev_amount = None\n",
    "# while prev_tx is None \n",
    "while prev_tx is None:\n",
    "    # wait for the merkleblock or tx commands\n",
    "    envelope = node.wait_for_commands([b'tx', b'merkleblock'])\n",
    "    # initialize the stream from the envelope\n",
    "    s = envelope.stream()\n",
    "    # if we have the merkleblock command\n",
    "    if envelope.command == b'merkleblock':\n",
    "        # parse the MerkleBlock\n",
    "        mb = MerkleBlock.parse(s)\n",
    "        # check that the MerkleBlock is valid\n",
    "        if not mb.is_valid():\n",
    "            raise RuntimeError\n",
    "    # else we have the tx command\n",
    "    else:\n",
    "        # parse the tx\n",
    "        t = Tx.parse(s)\n",
    "        # loop through the enumerated tx outs (enumerate(t.tx_outs))\n",
    "        for i, tx_out in enumerate(t.tx_outs):\n",
    "            print(tx_out)\n",
    "            # if our output has the same address as our address (addr) we found it\n",
    "            if tx_out.script_pubkey.address(testnet=True) == addr:\n",
    "                # we found our utxo. set prev_tx, prev_index, prev_amount\n",
    "                prev_tx = t.hash()\n",
    "                prev_index = i\n",
    "                prev_amount = tx_out.amount\n",
    "                # set the cache so we don't look up the tx in a block explorer\n",
    "                # Use: TxIn.set_cache(prev_tx, t.serialize())\n",
    "                TxIn.set_cache(prev_tx, t.serialize())\n",
    "# create tx_in\n",
    "tx_in = TxIn(prev_tx, i, b'', 0xffffffff)\n",
    "# calculate the output amount (prev_amount - fee)\n",
    "output_amount = prev_amount - fee\n",
    "# create a new TxOut to target_script.serialize() with the output amount\n",
    "tx_out = TxOut(output_amount, target_script)\n",
    "# create a new transaction (testnet=True)\n",
    "t = Tx(1, [tx_in], [tx_out], 0, testnet=True)\n",
    "# sign the transaction at input 0 with your private key and SIGHASH_ALL\n",
    "t.sign_input(0, private_key, SIGHASH_ALL)\n",
    "# serialize and hex to see what it looks like\n",
    "print(t.serialize().hex())\n",
    "# send this signed transaction on the network\n",
    "node.send(b'tx', t.serialize())\n",
    "# wait a sec so this message goes through to the other node time.sleep(1) \n",
    "time.sleep(1)\n",
    "# now ask for this transaction from the other node\n",
    "# create a GetDataMessage\n",
    "getdata = GetDataMessage()\n",
    "# ask for our transaction by adding its hash and TX_DATATYPE to the message\n",
    "getdata.add_data(TX_DATA_TYPE, t.hash())\n",
    "# send the message\n",
    "node.send(getdata.command, getdata.serialize())\n",
    "# now wait for a response\n",
    "envelope = node.wait_for_commands({b'tx', b'reject'})\n",
    "if envelope.command == b'tx':\n",
    "    print(envelope.payload.hex())\n",
    "    print(t.hash().hex())\n",
    "else:\n",
    "    print(envelope.payload)"
   ]
  }
 ],
 "metadata": {
  "kernelspec": {
   "display_name": "Python 3",
   "language": "python",
   "name": "python3"
  },
  "language_info": {
   "codemirror_mode": {
    "name": "ipython",
    "version": 3
   },
   "file_extension": ".py",
   "mimetype": "text/x-python",
   "name": "python",
   "nbconvert_exporter": "python",
   "pygments_lexer": "ipython3",
   "version": "3.6.5"
  }
 },
 "nbformat": 4,
 "nbformat_minor": 2
}
