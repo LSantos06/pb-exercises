{
 "cells": [
  {
   "cell_type": "code",
   "execution_count": 1,
   "metadata": {},
   "outputs": [],
   "source": [
    "# import everything and define a test runner function\n",
    "from importlib import reload\n",
    "from helper import run\n",
    "\n",
    "import bloomfilter\n",
    "import block\n",
    "import ecc\n",
    "import helper\n",
    "import merkleblock\n",
    "import network\n",
    "import script\n",
    "import tx"
   ]
  },
  {
   "cell_type": "code",
   "execution_count": 2,
   "metadata": {},
   "outputs": [
    {
     "name": "stdout",
     "output_type": "stream",
     "text": [
      "[0, 0, 0, 0, 0, 0, 0, 0, 0, 1]\n"
     ]
    }
   ],
   "source": [
    "# Example Bloom Filter\n",
    "\n",
    "from helper import hash256\n",
    "\n",
    "bit_field_size = 10\n",
    "bit_field = [0] * bit_field_size\n",
    "\n",
    "h256 = hash256(b'hello world')\n",
    "bit = int.from_bytes(h256, 'big') % bit_field_size\n",
    "bit_field[bit] = 1\n",
    "print(bit_field)"
   ]
  },
  {
   "cell_type": "code",
   "execution_count": 3,
   "metadata": {},
   "outputs": [
    {
     "name": "stdout",
     "output_type": "stream",
     "text": [
      "[0, 0, 1, 0, 0, 0, 0, 0, 0, 1]\n"
     ]
    }
   ],
   "source": [
    "# Example Bloom Filter 2\n",
    "\n",
    "from helper import hash256\n",
    "\n",
    "bit_field_size = 10\n",
    "bit_field = [0] * bit_field_size\n",
    "\n",
    "h = hash256(b'hello world')\n",
    "bit = int.from_bytes(h, 'big') % bit_field_size\n",
    "bit_field[bit] = 1\n",
    "h = hash256(b'goodbye')\n",
    "bit = int.from_bytes(h, 'big') % bit_field_size\n",
    "bit_field[bit] = 1\n",
    "print(bit_field)"
   ]
  },
  {
   "cell_type": "code",
   "execution_count": 4,
   "metadata": {},
   "outputs": [
    {
     "name": "stdout",
     "output_type": "stream",
     "text": [
      "[1, 1, 1, 0, 0, 0, 0, 0, 0, 1]\n"
     ]
    }
   ],
   "source": [
    "# Example Bloom Filter 3\n",
    "\n",
    "from helper import hash160, hash256\n",
    "\n",
    "bit_field_size = 10\n",
    "bit_field = [0] * bit_field_size\n",
    "\n",
    "phrase1 = b'hello world'\n",
    "h1 = hash256(phrase1)\n",
    "bit1 = int.from_bytes(h1, 'big') % bit_field_size\n",
    "bit_field[bit1] = 1\n",
    "h2 = hash160(phrase1)\n",
    "bit2 = int.from_bytes(h2, 'big') % bit_field_size\n",
    "bit_field[bit2] = 1\n",
    "phrase2 = b'goodbye'\n",
    "h1 = hash256(phrase2)\n",
    "bit1 = int.from_bytes(h1, 'big') % bit_field_size\n",
    "bit_field[bit1] = 1\n",
    "h2 = hash160(phrase2)\n",
    "bit2 = int.from_bytes(h2, 'big') % bit_field_size\n",
    "bit_field[bit2] = 1\n",
    "print(bit_field)"
   ]
  },
  {
   "cell_type": "code",
   "execution_count": 5,
   "metadata": {},
   "outputs": [
    {
     "name": "stdout",
     "output_type": "stream",
     "text": [
      "[0, 0, 0, 0, 0, 1, 1, 0, 0, 1, 1, 0, 0, 0, 0, 0]\n"
     ]
    }
   ],
   "source": [
    "# Example BIP0037 Bloom Filter\n",
    "\n",
    "from helper import murmur3\n",
    "from bloomfilter import BIP37_CONSTANT\n",
    "\n",
    "field_size = 2\n",
    "num_functions = 2\n",
    "tweak = 42\n",
    "\n",
    "bit_field_size = field_size * 8\n",
    "bit_field = [0] * bit_field_size\n",
    "\n",
    "for phrase in (b'hello world', b'goodbye'):\n",
    "    for i in range(num_functions):\n",
    "        seed = i * BIP37_CONSTANT + tweak\n",
    "        h = murmur3(phrase, seed=seed)\n",
    "        bit = h % bit_field_size\n",
    "        bit_field[bit] = 1\n",
    "print(bit_field)"
   ]
  },
  {
   "cell_type": "markdown",
   "metadata": {},
   "source": [
    "### Exercise 1\n",
    "\n",
    "#### 1.1 Given a Bloom Filter with these parameters: size=10, function count=5, tweak=99, which bits are set after adding these items? \n",
    "\n",
    " * `b'Hello World'`\n",
    " * `b'Goodbye!'`\n",
    "\n",
    "#### 1.2. Make [this test](/edit/session8/bloomfilter.py) pass."
   ]
  },
  {
   "cell_type": "code",
   "execution_count": 6,
   "metadata": {},
   "outputs": [
    {
     "name": "stdout",
     "output_type": "stream",
     "text": [
      "4000600a080000010940\n"
     ]
    }
   ],
   "source": [
    "# Exercise 1.1\n",
    "from bloomfilter import BloomFilter, BIP37_CONSTANT\n",
    "from helper import bit_field_to_bytes, murmur3\n",
    "\n",
    "field_size = 10\n",
    "function_count = 5\n",
    "tweak = 99\n",
    "items = (b'Hello World',  b'Goodbye!')\n",
    "\n",
    "# bit_field_size is 8 * field_size\n",
    "bit_field_size = field_size * 8\n",
    "# create a bit field with the appropriate size\n",
    "bit_field = [0] * bit_field_size\n",
    "\n",
    "# for each item you want to add to the filter\n",
    "for item in items:\n",
    "    # iterate function_count number of times\n",
    "    for i in range(function_count):\n",
    "        # BIP0037 spec seed is i*BIP37_CONSTANT + tweak\n",
    "        seed = i * BIP37_CONSTANT + tweak\n",
    "        # get the murmur3 hash given that seed\n",
    "        h = murmur3(item, seed=seed)\n",
    "        # set the bit to be h mod the bit_field_size\n",
    "        bit = h % bit_field_size\n",
    "        # set the bit_field at the index bit to be 1\n",
    "        bit_field[bit] = 1\n",
    "# print the bit field converted to bytes using bit_field_to_bytes in hex\n",
    "print(bit_field_to_bytes(bit_field).hex())"
   ]
  },
  {
   "cell_type": "code",
   "execution_count": 7,
   "metadata": {},
   "outputs": [
    {
     "name": "stderr",
     "output_type": "stream",
     "text": [
      ".\n",
      "----------------------------------------------------------------------\n",
      "Ran 1 test in 0.001s\n",
      "\n",
      "OK\n"
     ]
    }
   ],
   "source": [
    "# Exercise 1.2\n",
    "\n",
    "reload(bloomfilter)\n",
    "run(bloomfilter.BloomFilterTest('test_add'))"
   ]
  },
  {
   "cell_type": "markdown",
   "metadata": {},
   "source": [
    "### Exercise 2\n",
    "\n",
    "#### 2.1. Make [this test](/edit/session8/bloomfilter.py) pass.\n",
    "\n",
    "#### 2.2. Do the following:\n",
    "\n",
    "* Connect to a testnet node\n",
    "* Load a filter for your testnet address\n",
    "* Send a request for transactions from the block which had your previous testnet transaction\n",
    "* Receive the merkleblock and tx messages."
   ]
  },
  {
   "cell_type": "code",
   "execution_count": 8,
   "metadata": {},
   "outputs": [
    {
     "name": "stderr",
     "output_type": "stream",
     "text": [
      ".\n",
      "----------------------------------------------------------------------\n",
      "Ran 1 test in 0.001s\n",
      "\n",
      "OK\n"
     ]
    }
   ],
   "source": [
    "# Exercise 2.1\n",
    "\n",
    "reload(bloomfilter)\n",
    "run(bloomfilter.BloomFilterTest('test_filterload'))"
   ]
  },
  {
   "cell_type": "code",
   "execution_count": 1,
   "metadata": {},
   "outputs": [
    {
     "name": "stdout",
     "output_type": "stream",
     "text": [
      "mwJn1YPMq7y5F8J3LkC5Hxg9PHyZ5K4cFv\n",
      "sending: version: 7f11010000000000000000006c32e75b00000000000000000000000000000000000000000000ffff000000008d20000000000000000000000000000000000000ffff000000008d20971f1fc2910434e91b2f70726f6772616d6d696e67626c6f636b636861696e3a302e312f0000000001\n",
      "receiving: version: 7f1101000d040000000000006c32e75b00000000000000000000000000000000000000000000ffff4830fd33edc50d040000000000000000000000000000000000000000000000004e8b12f161af9e0a102f5361746f7368693a302e31372e302f2904160001\n",
      "sending: verack: \n",
      "receiving: verack: \n",
      "sending: filterload: 1e000000000448000000000004000000000200000000000000000000000000050000006260010001\n",
      "sending: getdata: 0103000000e98ce8fa31abc4bd31dc9105ecb84aafa9a0d029c0d89ded1478785300000000\n",
      "receiving: sendheaders: \n",
      "receiving: sendcmpct: 000200000000000000\n",
      "receiving: sendcmpct: 000100000000000000\n",
      "receiving: ping: 90b0154b6fd9e31d\n",
      "sending: pong: 90b0154b6fd9e31d\n",
      "receiving: addr: 016c32e75b0d0400000000000000000000000000000000ffffa2d49eac479d\n",
      "receiving: feefilter: e803000000000000\n",
      "receiving: merkleblock: 00000020f980dd16049ad370b9f47cd834b7c913477067ed733df05a0b61650d00000000f77782adc2f061d14c804a1f555d13105452a39ce7bd871afc571fca350f565c3216e75bffff001da04e6e197200000008bef47547638f77d1890fa382e45706ab43e30fde6428d63cbbcee8cbdba3358894e631abb9e1079ec72a1616a3aa0111c614e65b96a6a4420e2cc6af9e6cc96e8374eb69e45152a0743f50926d8702e3594d33f488b826e772b24b2ae6beee6026c734eb5b3c05683e29fe4f3b58a156e2abe0af2ad69c3e30ba117c701bee8ff10a32e1ac3641c029f02f044bb2364233b77739bbf230b662db118aac19a440fa146e12029eba033575c125d5a8533c3ddf34e3044c7d334d0fcc41c4c186fbd184d300999e65ba67295a8b85ef2eea75177452816858ef7aa59b3a0d40a7ccc0a80bc2b5749751808e378bef0e713173291e207068e29dd716169dfb00abc702bf01\n",
      "receiving: tx: 0100000002a663815ab2b2ba5f53e442f9a2ea6cc11bbcd98fb1585e48a134bd870dbfbd6a000000006a47304402202151107dc2367cf5a9e2429cde0641c252374501214ce52069fbca1320180aa602201a43b5d4f91e48514c00c01521dc04f02c57f15305adc4eaad01c418f6e7a1180121031dbe3aff7b9ad64e2612b8b15e9f5e4a3130663a526df91abfb7b1bd16de5d6effffffff618b00a343488bd62751cf21f368ce3be76e3a0323fdc594a0d24f27a1155cd2000000006a473044022024c4dd043ab8637c019528b549e0b10333b2dfa83e7ca66776e401ad3fc31b6702207d4d1d73ac8940c59c57c0b7daf084953324154811c10d06d0563947a88f99b20121031dbe3aff7b9ad64e2612b8b15e9f5e4a3130663a526df91abfb7b1bd16de5d6effffffff0280969800000000001976a914ad346f8eb57dee9a37981716e498120ae80e44f788aca0ce6594000000001976a9146e13971913b9aa89659a9f53d327baa8826f2d7588ac00000000\n",
      "0100000002a663815ab2b2ba5f53e442f9a2ea6cc11bbcd98fb1585e48a134bd870dbfbd6a000000006a47304402202151107dc2367cf5a9e2429cde0641c252374501214ce52069fbca1320180aa602201a43b5d4f91e48514c00c01521dc04f02c57f15305adc4eaad01c418f6e7a1180121031dbe3aff7b9ad64e2612b8b15e9f5e4a3130663a526df91abfb7b1bd16de5d6effffffff618b00a343488bd62751cf21f368ce3be76e3a0323fdc594a0d24f27a1155cd2000000006a473044022024c4dd043ab8637c019528b549e0b10333b2dfa83e7ca66776e401ad3fc31b6702207d4d1d73ac8940c59c57c0b7daf084953324154811c10d06d0563947a88f99b20121031dbe3aff7b9ad64e2612b8b15e9f5e4a3130663a526df91abfb7b1bd16de5d6effffffff0280969800000000001976a914ad346f8eb57dee9a37981716e498120ae80e44f788aca0ce6594000000001976a9146e13971913b9aa89659a9f53d327baa8826f2d7588ac00000000\n"
     ]
    }
   ],
   "source": [
    "# Exercise 2.2\n",
    "\n",
    "from bloomfilter import BloomFilter\n",
    "from ecc import PrivateKey\n",
    "from helper import decode_base58, hash256, little_endian_to_int\n",
    "from merkleblock import MerkleBlock\n",
    "from network import (\n",
    "    FILTERED_BLOCK_DATA_TYPE, \n",
    "    GetDataMessage,\n",
    "    SimpleNode,\n",
    ")\n",
    "\n",
    "block_hash = bytes.fromhex('0000000053787814ed9dd8c029d0a0a9af4ab8ec0591dc31bdc4ab31fae88ce9')\n",
    "passphrase = b'Jimmy Song Programming Blockchain'  # FILL THIS IN\n",
    "secret = little_endian_to_int(hash256(passphrase))\n",
    "private_key = PrivateKey(secret=secret)\n",
    "addr = private_key.point.address(testnet=True)\n",
    "print(addr)\n",
    "filter_size = 30\n",
    "filter_num_functions = 5\n",
    "filter_tweak = 90210  # FILL THIS IN\n",
    "\n",
    "# get the hash160 of the address, which is what we need to add to our filter\n",
    "h160 = decode_base58(addr)\n",
    "# create a bloom filter of size 30 and 5 functions. Add a tweak that you like\n",
    "bf = BloomFilter(filter_size, filter_num_functions, filter_tweak)\n",
    "# add the h160 to the bloom filter\n",
    "bf.add(h160)\n",
    "\n",
    "# connect to tbtc.programmingblockchain.com in testnet mode, logging True\n",
    "node = SimpleNode('tbtc.programmingblockchain.com', testnet=True, logging=True)\n",
    "# complete the handshake\n",
    "node.handshake()\n",
    "# load the bloom filter with the filterload command\n",
    "node.send(b'filterload', bf.filterload())\n",
    "# create a getdata message\n",
    "getdata = GetDataMessage()\n",
    "# add a FILTERED_BLOCK_DATA_TYPE for the block hash above\n",
    "getdata.add_data(FILTERED_BLOCK_DATA_TYPE, block_hash)\n",
    "# send a getdata message for a FILTERED_BLOCK_DATA_TYPE\n",
    "node.send(getdata.command, getdata.serialize())\n",
    "# wait for the merkleblock command\n",
    "envelope = node.wait_for_commands([b'merkleblock'])\n",
    "# wait for the tx command\n",
    "envelope = node.wait_for_commands([b'tx'])\n",
    "# print the payload in hex\n",
    "print(envelope.payload.hex())"
   ]
  },
  {
   "cell_type": "markdown",
   "metadata": {},
   "source": [
    "### Exercise 3\n",
    "\n",
    "#### 3.1. Make [this test](/edit/session8/merkleblock.py) pass."
   ]
  },
  {
   "cell_type": "code",
   "execution_count": 10,
   "metadata": {},
   "outputs": [
    {
     "name": "stderr",
     "output_type": "stream",
     "text": [
      ".\n",
      "----------------------------------------------------------------------\n",
      "Ran 1 test in 0.001s\n",
      "\n",
      "OK\n"
     ]
    }
   ],
   "source": [
    "# Exercise 3.1\n",
    "\n",
    "reload(merkleblock)\n",
    "run(merkleblock.MerkleBlockTest('test_is_valid'))"
   ]
  },
  {
   "cell_type": "markdown",
   "metadata": {},
   "source": [
    "### Exercise 4\n",
    "\n",
    "#### 4.1. You have been sent some unknown amount of testnet bitcoins to your address. \n",
    "\n",
    "Send all of it back (minus fees) to `mwJn1YPMq7y5F8J3LkC5Hxg9PHyZ5K4cFv` using only the networking protocol."
   ]
  },
  {
   "cell_type": "code",
   "execution_count": 7,
   "metadata": {},
   "outputs": [
    {
     "name": "stdout",
     "output_type": "stream",
     "text": [
      "mwJn1YPMq7y5F8J3LkC5Hxg9PHyZ5K4cFv\n",
      "sending: version: 7f1101000000000000000000a033e75b00000000000000000000000000000000000000000000ffff000000008d20000000000000000000000000000000000000ffff000000008d205d00bcb04b57ed531b2f70726f6772616d6d696e67626c6f636b636861696e3a302e312f0000000001\n",
      "receiving: version: 7f1101000d04000000000000a033e75b00000000000000000000000000000000000000000000ffff4830fd33ef120d0400000000000000000000000000000000000000000000000082724e1c7ab66342102f5361746f7368693a302e31372e302f2a04160001\n",
      "sending: verack: \n",
      "receiving: verack: \n",
      "sending: filterload: 1e000000000448000000000004000000000200000000000000000000000000050000006260010001\n",
      "sending: getheaders: 7f11010001f980dd16049ad370b9f47cd834b7c913477067ed733df05a0b61650d000000000000000000000000000000000000000000000000000000000000000000000000\n",
      "receiving: sendheaders: \n",
      "receiving: sendcmpct: 000200000000000000\n",
      "receiving: sendcmpct: 000100000000000000\n",
      "receiving: ping: 47555836c9402e81\n",
      "sending: pong: 47555836c9402e81\n",
      "receiving: addr: 01a033e75b0d0400000000000000000000000000000000ffffa2d49eac479d\n",
      "receiving: feefilter: e803000000000000\n",
      "receiving: headers: 0c00000020f980dd16049ad370b9f47cd834b7c913477067ed733df05a0b61650d00000000f77782adc2f061d14c804a1f555d13105452a39ce7bd871afc571fca350f565c3216e75bffff001da04e6e190000000020e98ce8fa31abc4bd31dc9105ecb84aafa9a0d029c0d89ded14787853000000000c71c1a8ce1436d96c1218b7b7fdb0d6b9d81aa27316a39d3f8043274b2f79f2d917e75ba866011ac931ca8700000000206be7c0851406293fc26ec4acf8f9a5580af95ccc6bff501f30000000000000002f0a1b2892cdf765dc38f34a5e42dbd6fc13ed04e51d9d08a34ce5362cf141e54418e75ba866011a2a0b94e20000000020fb5c62b943c07c69350865d9f737729c9061e5ce8dbb357f9e000000000000008b8df44c86e99460df5dca3f011982025c15ddb5e5032c7b5b6a5a413e664d49a818e75ba866011a9e8be9440000000020feac3e340fe30bdf2e62c8982f847f8f9824b7548d7f52bfe3000000000000006333a0242879efbd9ee5c5c532b07870db1bbd3a0c3f0f21579de6e3a9d11d4e5c1de75bffff001dfa2ac9080000e0ff3f894c54a332359a576ab51fb4559f7534d7502bcdb6342cb1007201000000000051c78b0b903e860cc8981a341ac6323812f6e1e86300978c091cd2491c6b5b6b3820e75ba866011aa095575d0000000020411960d59f5b2b41b395df0e80f217e8b3ca859b39d4c5605e01000000000000a0d7db083f949752cbd04fef8c5f72e961ddbc28d4fb6113fb6a2c74637cc27be423e75ba866011acee449d20000000020a52e37981553cc4ca229f8fc1cc72ef2bb40dc1dab377bb53d0000000000000065d73fd555133c858cbdfafd9d21cc4a44767706de7154fb5a3e6ec25d28ba2f1425e75ba866011a404741ab00000000201cbf560a780968e2b1764d10e32c844718e6a3501f1c7eaeb300000000000000542838dc04ca00e27eb742a03ec4161c8c5852caf25ead61e709f25281a2b47bc529e75bffff001da87a53650000000020f9e9269fd18bc2f9d0709e4953cb2c5a1c3ecad8e6db376d7f6491c60000000086caae08f5dabd5a603bfd93c8235803f74e1f48aed12329d841deea25d96b67792ee75bffff001d5b8bd7c70000000020cdf1f924c05a926347ca596975763cc24c716bdff0e0735f75cf130000000000a110bcb2ef80c3414fb82c9f6faddda0087795350277db5acfac398d8a54bf312231e75ba866011a2042796600000000203e28485166b4aeab1ff2ea8827ac42d8cf526742d81afc854c00000000000000b1387c24ff1b8f69b7e17b621286a6f47508ee822635ff428ee5d6db5fe2bcd97233e75ba866011a3547f19b00\n",
      "sending: getdata: 0c03000000e98ce8fa31abc4bd31dc9105ecb84aafa9a0d029c0d89ded1478785300000000030000006be7c0851406293fc26ec4acf8f9a5580af95ccc6bff501f300000000000000003000000fb5c62b943c07c69350865d9f737729c9061e5ce8dbb357f9e0000000000000003000000feac3e340fe30bdf2e62c8982f847f8f9824b7548d7f52bfe30000000000000003000000894c54a332359a576ab51fb4559f7534d7502bcdb6342cb1007201000000000003000000411960d59f5b2b41b395df0e80f217e8b3ca859b39d4c5605e0100000000000003000000a52e37981553cc4ca229f8fc1cc72ef2bb40dc1dab377bb53d00000000000000030000001cbf560a780968e2b1764d10e32c844718e6a3501f1c7eaeb30000000000000003000000f9e9269fd18bc2f9d0709e4953cb2c5a1c3ecad8e6db376d7f6491c60000000003000000cdf1f924c05a926347ca596975763cc24c716bdff0e0735f75cf130000000000030000003e28485166b4aeab1ff2ea8827ac42d8cf526742d81afc854c0000000000000003000000e2489b9be2e4b8f64414e3705145b12a66de99ecb20041d8e000000000000000\n",
      "receiving: merkleblock: 00000020f980dd16049ad370b9f47cd834b7c913477067ed733df05a0b61650d00000000f77782adc2f061d14c804a1f555d13105452a39ce7bd871afc571fca350f565c3216e75bffff001da04e6e197200000008bef47547638f77d1890fa382e45706ab43e30fde6428d63cbbcee8cbdba3358894e631abb9e1079ec72a1616a3aa0111c614e65b96a6a4420e2cc6af9e6cc96e8374eb69e45152a0743f50926d8702e3594d33f488b826e772b24b2ae6beee6026c734eb5b3c05683e29fe4f3b58a156e2abe0af2ad69c3e30ba117c701bee8ff10a32e1ac3641c029f02f044bb2364233b77739bbf230b662db118aac19a440fa146e12029eba033575c125d5a8533c3ddf34e3044c7d334d0fcc41c4c186fbd184d300999e65ba67295a8b85ef2eea75177452816858ef7aa59b3a0d40a7ccc0a80bc2b5749751808e378bef0e713173291e207068e29dd716169dfb00abc702bf01\n",
      "receiving: tx: 0100000002a663815ab2b2ba5f53e442f9a2ea6cc11bbcd98fb1585e48a134bd870dbfbd6a000000006a47304402202151107dc2367cf5a9e2429cde0641c252374501214ce52069fbca1320180aa602201a43b5d4f91e48514c00c01521dc04f02c57f15305adc4eaad01c418f6e7a1180121031dbe3aff7b9ad64e2612b8b15e9f5e4a3130663a526df91abfb7b1bd16de5d6effffffff618b00a343488bd62751cf21f368ce3be76e3a0323fdc594a0d24f27a1155cd2000000006a473044022024c4dd043ab8637c019528b549e0b10333b2dfa83e7ca66776e401ad3fc31b6702207d4d1d73ac8940c59c57c0b7daf084953324154811c10d06d0563947a88f99b20121031dbe3aff7b9ad64e2612b8b15e9f5e4a3130663a526df91abfb7b1bd16de5d6effffffff0280969800000000001976a914ad346f8eb57dee9a37981716e498120ae80e44f788aca0ce6594000000001976a9146e13971913b9aa89659a9f53d327baa8826f2d7588ac00000000\n",
      "0 10000000:OP_DUP OP_HASH160 ad346f8eb57dee9a37981716e498120ae80e44f7 OP_EQUALVERIFY OP_CHECKSIG \n",
      "010000000194e631abb9e1079ec72a1616a3aa0111c614e65b96a6a4420e2cc6af9e6cc96e000000006a47304402203cc8c56abe1c0dd043afa9eb125dafbebdde2dd4cd7abf0fb1aae0667a22006e02203c95b74d0f0735bbf1b261d36e077515b6939fc088b9d7c1b7030a5e494596330121021cdd761c7eb1c90c0af0a5963e94bf0203176b4662778d32bd6d7ab5d8628b32ffffffff01f8829800000000001976a914ad346f8eb57dee9a37981716e498120ae80e44f788ac00000000\n",
      "sending: tx: 010000000194e631abb9e1079ec72a1616a3aa0111c614e65b96a6a4420e2cc6af9e6cc96e000000006a47304402203cc8c56abe1c0dd043afa9eb125dafbebdde2dd4cd7abf0fb1aae0667a22006e02203c95b74d0f0735bbf1b261d36e077515b6939fc088b9d7c1b7030a5e494596330121021cdd761c7eb1c90c0af0a5963e94bf0203176b4662778d32bd6d7ab5d8628b32ffffffff01f8829800000000001976a914ad346f8eb57dee9a37981716e498120ae80e44f788ac00000000\n",
      "sending: getdata: 0101000000fb587d34ba83d588654aafc584af815b3aee643e962ab75f8b3346e5cbf1fca8\n",
      "receiving: merkleblock: 00000020e98ce8fa31abc4bd31dc9105ecb84aafa9a0d029c0d89ded14787853000000000c71c1a8ce1436d96c1218b7b7fdb0d6b9d81aa27316a39d3f8043274b2f79f2d917e75ba866011ac931ca871d000000010c71c1a8ce1436d96c1218b7b7fdb0d6b9d81aa27316a39d3f8043274b2f79f20100\n",
      "receiving: merkleblock: 000000206be7c0851406293fc26ec4acf8f9a5580af95ccc6bff501f30000000000000002f0a1b2892cdf765dc38f34a5e42dbd6fc13ed04e51d9d08a34ce5362cf141e54418e75ba866011a2a0b94e207000000012f0a1b2892cdf765dc38f34a5e42dbd6fc13ed04e51d9d08a34ce5362cf141e50100\n",
      "receiving: merkleblock: 00000020fb5c62b943c07c69350865d9f737729c9061e5ce8dbb357f9e000000000000008b8df44c86e99460df5dca3f011982025c15ddb5e5032c7b5b6a5a413e664d49a818e75ba866011a9e8be94408000000018b8df44c86e99460df5dca3f011982025c15ddb5e5032c7b5b6a5a413e664d490100\n",
      "receiving: merkleblock: 00000020feac3e340fe30bdf2e62c8982f847f8f9824b7548d7f52bfe3000000000000006333a0242879efbd9ee5c5c532b07870db1bbd3a0c3f0f21579de6e3a9d11d4e5c1de75bffff001dfa2ac9081b000000016333a0242879efbd9ee5c5c532b07870db1bbd3a0c3f0f21579de6e3a9d11d4e0100\n",
      "receiving: merkleblock: 00e0ff3f894c54a332359a576ab51fb4559f7534d7502bcdb6342cb1007201000000000051c78b0b903e860cc8981a341ac6323812f6e1e86300978c091cd2491c6b5b6b3820e75ba866011aa095575d0f0000000151c78b0b903e860cc8981a341ac6323812f6e1e86300978c091cd2491c6b5b6b0100\n",
      "receiving: merkleblock: 00000020411960d59f5b2b41b395df0e80f217e8b3ca859b39d4c5605e01000000000000a0d7db083f949752cbd04fef8c5f72e961ddbc28d4fb6113fb6a2c74637cc27be423e75ba866011acee449d21000000001a0d7db083f949752cbd04fef8c5f72e961ddbc28d4fb6113fb6a2c74637cc27b0100\n",
      "receiving: merkleblock: 00000020a52e37981553cc4ca229f8fc1cc72ef2bb40dc1dab377bb53d0000000000000065d73fd555133c858cbdfafd9d21cc4a44767706de7154fb5a3e6ec25d28ba2f1425e75ba866011a404741ab0b0000000165d73fd555133c858cbdfafd9d21cc4a44767706de7154fb5a3e6ec25d28ba2f0100\n",
      "receiving: merkleblock: 000000201cbf560a780968e2b1764d10e32c844718e6a3501f1c7eaeb300000000000000542838dc04ca00e27eb742a03ec4161c8c5852caf25ead61e709f25281a2b47bc529e75bffff001da87a53651300000001542838dc04ca00e27eb742a03ec4161c8c5852caf25ead61e709f25281a2b47b0100\n",
      "receiving: merkleblock: 00000020f9e9269fd18bc2f9d0709e4953cb2c5a1c3ecad8e6db376d7f6491c60000000086caae08f5dabd5a603bfd93c8235803f74e1f48aed12329d841deea25d96b67792ee75bffff001d5b8bd7c7240000000186caae08f5dabd5a603bfd93c8235803f74e1f48aed12329d841deea25d96b670100\n",
      "receiving: merkleblock: 00000020cdf1f924c05a926347ca596975763cc24c716bdff0e0735f75cf130000000000a110bcb2ef80c3414fb82c9f6faddda0087795350277db5acfac398d8a54bf312231e75ba866011a204279661900000001a110bcb2ef80c3414fb82c9f6faddda0087795350277db5acfac398d8a54bf310100\n",
      "receiving: merkleblock: 000000203e28485166b4aeab1ff2ea8827ac42d8cf526742d81afc854c00000000000000b1387c24ff1b8f69b7e17b621286a6f47508ee822635ff428ee5d6db5fe2bcd97233e75ba866011a3547f19b1100000001b1387c24ff1b8f69b7e17b621286a6f47508ee822635ff428ee5d6db5fe2bcd90100\n",
      "receiving: tx: 010000000194e631abb9e1079ec72a1616a3aa0111c614e65b96a6a4420e2cc6af9e6cc96e000000006a47304402203cc8c56abe1c0dd043afa9eb125dafbebdde2dd4cd7abf0fb1aae0667a22006e02203c95b74d0f0735bbf1b261d36e077515b6939fc088b9d7c1b7030a5e494596330121021cdd761c7eb1c90c0af0a5963e94bf0203176b4662778d32bd6d7ab5d8628b32ffffffff01f8829800000000001976a914ad346f8eb57dee9a37981716e498120ae80e44f788ac00000000\n",
      "success!\n",
      "010000000194e631abb9e1079ec72a1616a3aa0111c614e65b96a6a4420e2cc6af9e6cc96e000000006a47304402203cc8c56abe1c0dd043afa9eb125dafbebdde2dd4cd7abf0fb1aae0667a22006e02203c95b74d0f0735bbf1b261d36e077515b6939fc088b9d7c1b7030a5e494596330121021cdd761c7eb1c90c0af0a5963e94bf0203176b4662778d32bd6d7ab5d8628b32ffffffff01f8829800000000001976a914ad346f8eb57dee9a37981716e498120ae80e44f788ac00000000\n",
      "010000000194e631abb9e1079ec72a1616a3aa0111c614e65b96a6a4420e2cc6af9e6cc96e000000006a47304402203cc8c56abe1c0dd043afa9eb125dafbebdde2dd4cd7abf0fb1aae0667a22006e02203c95b74d0f0735bbf1b261d36e077515b6939fc088b9d7c1b7030a5e494596330121021cdd761c7eb1c90c0af0a5963e94bf0203176b4662778d32bd6d7ab5d8628b32ffffffff01f8829800000000001976a914ad346f8eb57dee9a37981716e498120ae80e44f788ac00000000\n",
      "a8fcf1cbe546338b5fb72a963e64ee3a5b81af84c5af4a6588d583ba347d58fb\n"
     ]
    }
   ],
   "source": [
    "# Exercise 4.1\n",
    "\n",
    "import time\n",
    "\n",
    "from block import Block\n",
    "from bloomfilter import BloomFilter\n",
    "from ecc import PrivateKey\n",
    "from helper import (\n",
    "    decode_base58,\n",
    "    hash256,\n",
    "    encode_varint,\n",
    "    little_endian_to_int, \n",
    "    read_varint,\n",
    "    SIGHASH_ALL,\n",
    ")\n",
    "from merkleblock import MerkleBlock\n",
    "from network import (\n",
    "    GetDataMessage,\n",
    "    GetHeadersMessage,\n",
    "    HeadersMessage,\n",
    "    NetworkEnvelope,\n",
    "    SimpleNode,\n",
    "    TX_DATA_TYPE,\n",
    "    FILTERED_BLOCK_DATA_TYPE,\n",
    ")\n",
    "from script import p2pkh_script\n",
    "from tx import Tx, TxIn, TxOut\n",
    "\n",
    "last_block_hex = '000000000d65610b5af03d73ed67704713c9b734d87cf4b970d39a0416dd80f9'\n",
    "passphrase = b'Jimmy Song Programming Blockchain'  # FILL THIS IN\n",
    "secret = little_endian_to_int(hash256(passphrase))\n",
    "private_key = PrivateKey(secret=secret)\n",
    "addr = private_key.point.address(testnet=True)\n",
    "print(addr)\n",
    "h160 = decode_base58(addr)\n",
    "target_address = 'mwJn1YPMq7y5F8J3LkC5Hxg9PHyZ5K4cFv'\n",
    "filter_size = 30\n",
    "filter_num_functions = 5\n",
    "filter_tweak = 90210  # FILL THIS IN\n",
    "target_h160 = decode_base58(target_address)\n",
    "target_script = p2pkh_script(target_h160)\n",
    "fee = 5000  # fee in satoshis\n",
    "\n",
    "# connect to tbtc.programmingblockchain.com in testnet mode, logging True\n",
    "node = SimpleNode('tbtc.programmingblockchain.com', testnet=True, logging=True)\n",
    "# create a bloom filter of size 30 and 5 functions. Add a tweak that you like\n",
    "bf = BloomFilter(filter_size, filter_num_functions, filter_tweak)\n",
    "# add the h160 to the bloom filter\n",
    "bf.add(h160)\n",
    "# complete the handshake\n",
    "node.handshake()\n",
    "# load the bloom filter with the filterload command\n",
    "node.send(b'filterload', bf.filterload())\n",
    "\n",
    "# set start block to last_block from above\n",
    "start_block = bytes.fromhex(last_block_hex)\n",
    "# create GetHeadersMessage with this start block\n",
    "getheaders_message = GetHeadersMessage(start_block=start_block)\n",
    "# send a getheaders message with the start block\n",
    "node.send(getheaders_message.command, getheaders_message.serialize())\n",
    "\n",
    "# wait for the headers message\n",
    "headers_envelope = node.wait_for_commands({HeadersMessage.command})\n",
    "# get the stream from the headers\n",
    "stream = headers_envelope.stream()\n",
    "# parse the headers message\n",
    "headers = HeadersMessage.parse(stream)\n",
    "\n",
    "# store the last block as None\n",
    "last_block = None\n",
    "# initialize the GetDataMessage\n",
    "get_data_message = GetDataMessage()\n",
    "# loop through the blocks in the headers\n",
    "for block in headers.blocks:\n",
    "    # check that the proof of work on the block is valid\n",
    "    if not block.check_pow():\n",
    "        raise RuntimeError\n",
    "    # check that this block's prev_block is the last block\n",
    "    if last_block is not None and block.prev_block != last_block:\n",
    "        raise RuntimeError\n",
    "    # set the last block to the current hash\n",
    "    last_block = block.hash()\n",
    "    # add FILTERED_BLOCK_DATA_TYPE last_block to GetDataMessage\n",
    "    get_data_message.add_data(FILTERED_BLOCK_DATA_TYPE, last_block)\n",
    "# send the get_data_message\n",
    "node.send(get_data_message.command, get_data_message.serialize())\n",
    "\n",
    "# initialize prev_tx, prev_index and prev_tx_obj to None\n",
    "prev_tx, prev_index, prev_tx_obj = None, None, None\n",
    "# while prev_tx is None \n",
    "while prev_tx is None:\n",
    "    # wait for the merkleblock or tx commands\n",
    "    envelope = node.wait_for_commands([b'merkleblock', b'tx'])\n",
    "    # initialize the stream from the envelope\n",
    "    stream = envelope.stream()\n",
    "    # if we have the merkleblock command\n",
    "    if envelope.command == b'merkleblock':\n",
    "        # parse the MerkleBlock\n",
    "        mb = MerkleBlock.parse(stream)\n",
    "        # check that the MerkleBlock is valid\n",
    "        if not mb.is_valid():\n",
    "            raise RuntimeError\n",
    "    # else we have the tx command\n",
    "    else:\n",
    "        # parse the tx\n",
    "        prev_tx_obj = Tx.parse(stream, testnet=True)\n",
    "        # loop through the enumerated tx outs (enumerate(t.tx_outs))\n",
    "        for i, tx_out in enumerate(prev_tx_obj.tx_outs):\n",
    "            print(i, tx_out)\n",
    "            # if our output has the same address as our address (addr) we found it\n",
    "            if tx_out.script_pubkey.address(testnet=True) == addr:\n",
    "                # we found our utxo. set prev_tx, prev_index, prev_amount\n",
    "                prev_tx = prev_tx_obj.hash()\n",
    "                prev_index = i\n",
    "                prev_amount = tx_out.amount\n",
    "                break\n",
    "# create tx_in\n",
    "tx_in = TxIn(prev_tx, i)\n",
    "# get the previous amount from prev_tx_obj\n",
    "prev_amount = prev_tx_obj.tx_outs[prev_index].amount\n",
    "# calculate the output amount (prev_amount - fee)\n",
    "output_amount = prev_amount - fee\n",
    "# create tx_out\n",
    "tx_out = TxOut(output_amount, target_script)\n",
    "# create transaction on testnet\n",
    "tx_obj = Tx(1, [tx_in], [tx_out], 0, testnet=True)\n",
    "# sign the one input we have\n",
    "tx_obj.sign_input(0, private_key)\n",
    "# serialize and hex to see what it looks like\n",
    "print(tx_obj.serialize().hex())\n",
    "# send this signed transaction on the network\n",
    "node.send(b'tx', tx_obj.serialize())\n",
    "# wait a sec so this message goes through to the other node time.sleep(1) \n",
    "time.sleep(1)\n",
    "# now ask for this transaction from the other node\n",
    "# create a GetDataMessage\n",
    "getdata = GetDataMessage()\n",
    "# ask for our transaction by adding its hash and TX_DATATYPE to the message\n",
    "getdata.add_data(TX_DATA_TYPE, tx_obj.hash())\n",
    "# send the message\n",
    "node.send(getdata.command, getdata.serialize())\n",
    "# now wait for a response\n",
    "envelope = node.wait_for_commands({b'tx', b'reject'})\n",
    "if envelope.command == b'tx':\n",
    "    print('success!')\n",
    "    print(tx_obj.serialize().hex())\n",
    "    print(envelope.payload.hex())\n",
    "    print(tx_obj.hash().hex())\n",
    "else:\n",
    "    print(envelope.payload)"
   ]
  }
 ],
 "metadata": {
  "kernelspec": {
   "display_name": "Python 3",
   "language": "python",
   "name": "python3"
  },
  "language_info": {
   "codemirror_mode": {
    "name": "ipython",
    "version": 3
   },
   "file_extension": ".py",
   "mimetype": "text/x-python",
   "name": "python",
   "nbconvert_exporter": "python",
   "pygments_lexer": "ipython3",
   "version": "3.6.5"
  }
 },
 "nbformat": 4,
 "nbformat_minor": 2
}
