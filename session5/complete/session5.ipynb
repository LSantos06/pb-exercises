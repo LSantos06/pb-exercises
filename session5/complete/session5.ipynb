{
 "cells": [
  {
   "cell_type": "code",
   "execution_count": 1,
   "metadata": {},
   "outputs": [],
   "source": [
    "# import everything and define a test runner function\n",
    "from importlib import reload\n",
    "from io import BytesIO\n",
    "\n",
    "import helper, op, script, tx\n",
    "\n",
    "from ecc import (\n",
    "    PrivateKey,\n",
    "    S256Point,\n",
    "    Signature,\n",
    ")\n",
    "from helper import (\n",
    "    decode_base58,\n",
    "    encode_base58_checksum,\n",
    "    hash160,\n",
    "    hash256,\n",
    "    int_to_little_endian,\n",
    "    run,\n",
    "    SIGHASH_ALL,\n",
    ")\n",
    "from script import (\n",
    "    p2pkh_script,\n",
    "    Script,\n",
    ")\n",
    "from tx import (\n",
    "    Tx,\n",
    "    TxIn,\n",
    "    TxOut,\n",
    ")"
   ]
  },
  {
   "cell_type": "markdown",
   "metadata": {},
   "source": [
    "### Exercise 1\n",
    "\n",
    "#### 1.1. Make [this test](/edit/session5/tx.py) pass\n",
    "```\n",
    "tx.py:TxTest::test_verify_p2pkh\n",
    "```"
   ]
  },
  {
   "cell_type": "code",
   "execution_count": 2,
   "metadata": {},
   "outputs": [
    {
     "name": "stderr",
     "output_type": "stream",
     "text": [
      ".\n",
      "----------------------------------------------------------------------\n",
      "Ran 1 test in 0.727s\n",
      "\n",
      "OK\n"
     ]
    }
   ],
   "source": [
    "# Exercise 1.1\n",
    "\n",
    "reload(tx)\n",
    "run(tx.TxTest('test_verify_p2pkh'))"
   ]
  },
  {
   "cell_type": "code",
   "execution_count": 3,
   "metadata": {},
   "outputs": [
    {
     "name": "stdout",
     "output_type": "stream",
     "text": [
      "0100000001494127dba8aea354ebae1de80c2d7a2a223eed27666a85bce371de3790f6e28b040000006b483045022100fa3032607b50e8cb05bedc9d43f986f19dedc22e61320b9765061c5cd9c66946022072d514ef637988515bfa59a660596206de68f0ed4090d0a398e70f4d81370dfb012103935581e52c354cd2f484fe8ed83af7a3097005b2f9c60bff71d35bd795f54b67ffffffff0280d54302000000001976a914d52ad7ca9b3d096a38e752c2018e6fbc40cdf26f88ac80969800000000001976a914507b27411ccf7f16f10297de6cef3f291623eddf88ac00000000\n"
     ]
    }
   ],
   "source": [
    "# Transaction Construction Example\n",
    "\n",
    "# Step 1\n",
    "tx_ins = []\n",
    "prev_tx = bytes.fromhex('8be2f69037de71e3bc856a6627ed3e222a7a2d0ce81daeeb54a3aea8db274149')\n",
    "prev_index = 4\n",
    "tx_ins.append(TxIn(prev_tx, prev_index))\n",
    "\n",
    "# Step 2\n",
    "tx_outs = []\n",
    "h160 = decode_base58('mzx5YhAH9kNHtcN481u6WkjeHjYtVeKVh2')\n",
    "tx_outs.append(TxOut(\n",
    "    amount=int(0.38*100000000),\n",
    "    script_pubkey=p2pkh_script(h160),\n",
    "))\n",
    "h160 = decode_base58('mnrVtF8DWjMu839VW3rBfgYaAfKk8983Xf')\n",
    "tx_outs.append(TxOut(\n",
    "    amount=int(0.1*100000000),\n",
    "    script_pubkey=p2pkh_script(h160),\n",
    "))\n",
    "tx_obj = Tx(1, tx_ins, tx_outs, 0, testnet=True)\n",
    "\n",
    "# Step 3\n",
    "z = tx_obj.sig_hash(0)\n",
    "pk = PrivateKey(secret=8675309)\n",
    "der = pk.sign(z).der()\n",
    "sig = der + SIGHASH_ALL.to_bytes(1, 'big')\n",
    "sec = pk.point.sec()\n",
    "tx_obj.tx_ins[0].script_sig = Script([sig, sec])\n",
    "print(tx_obj.serialize().hex())"
   ]
  },
  {
   "cell_type": "markdown",
   "metadata": {},
   "source": [
    "### Exercise 2\n",
    "\n",
    "#### 2.1. Make [this test](/edit/session5/tx.py) pass\n",
    "```\n",
    "tx.py:TxTest:test_sign_input\n",
    "```"
   ]
  },
  {
   "cell_type": "code",
   "execution_count": 4,
   "metadata": {},
   "outputs": [
    {
     "name": "stderr",
     "output_type": "stream",
     "text": [
      ".\n",
      "----------------------------------------------------------------------\n",
      "Ran 1 test in 0.251s\n",
      "\n",
      "OK\n"
     ]
    }
   ],
   "source": [
    "# Exercise 2.1\n",
    "\n",
    "reload(tx)\n",
    "run(tx.TxTest('test_sign_input'))"
   ]
  },
  {
   "cell_type": "markdown",
   "metadata": {},
   "source": [
    "### Exercise 3\n",
    "\n",
    "#### 3.1. Send 0.04 TBTC to this address \n",
    "\n",
    "`mwJn1YPMq7y5F8J3LkC5Hxg9PHyZ5K4cFv`\n",
    "\n",
    "#### Go here to send your transaction: https://testnet.blockchain.info/pushtx\n",
    "\n",
    "#### Bonus. Get some testnet coins and spend both outputs (one from your change address and one from the testnet faucet) to \n",
    "\n",
    "`mwJn1YPMq7y5F8J3LkC5Hxg9PHyZ5K4cFv`\n",
    "\n",
    "#### You can get some free testnet coins at: https://testnet.coinfaucet.eu/en/"
   ]
  },
  {
   "cell_type": "code",
   "execution_count": 5,
   "metadata": {},
   "outputs": [
    {
     "name": "stdout",
     "output_type": "stream",
     "text": [
      "01000000017a88f91ce1bc653a69da037ca013ba986657f4a628aaaafebed6dba4531758eb010000006a47304402204ce6e3877ed2e18d2165276cbdba241507ce72b44d8df640eb6cb4d415eaaea002207dffd162da35593d86188ce87a1cbc9d3a5b26391870f19bf1764ca05b315ad9012103935581e52c354cd2f484fe8ed83af7a3097005b2f9c60bff71d35bd795f54b67ffffffff0200093d00000000001976a914ad346f8eb57dee9a37981716e498120ae80e44f788ac7077e401000000001976a914d52ad7ca9b3d096a38e752c2018e6fbc40cdf26f88ac00000000\n"
     ]
    }
   ],
   "source": [
    "# Exercise 3.1\n",
    "\n",
    "from tx import Tx\n",
    "\n",
    "prev_tx = bytes.fromhex('eb581753a4dbd6befeaaaa28a6f4576698ba13a07c03da693a65bce11cf9887a')\n",
    "prev_index = 1\n",
    "target_address = 'mwJn1YPMq7y5F8J3LkC5Hxg9PHyZ5K4cFv'\n",
    "target_amount = 0.04\n",
    "change_address = 'mzx5YhAH9kNHtcN481u6WkjeHjYtVeKVh2'\n",
    "fee = 50000\n",
    "secret = 8675309\n",
    "private_key = PrivateKey(secret=secret)\n",
    "\n",
    "# initialize inputs\n",
    "tx_ins = []\n",
    "# create a new tx input with prev_tx, prev_index\n",
    "tx_ins.append(TxIn(prev_tx, prev_index))\n",
    "\n",
    "# initialize outputs\n",
    "tx_outs = []\n",
    "# decode the hash160 from the target address\n",
    "h160 = decode_base58(target_address)\n",
    "# convert hash160 to p2pkh script\n",
    "script_pubkey = p2pkh_script(h160)\n",
    "# convert target amount to satoshis (multiply by 100 million)\n",
    "target_satoshis = int(target_amount*100000000)\n",
    "# create a new tx output for target with amount and script_pubkey\n",
    "tx_outs.append(TxOut(target_satoshis, script_pubkey))\n",
    "# decode the hash160 from the change address\n",
    "h160 = decode_base58(change_address)\n",
    "# convert hash160 to p2pkh script\n",
    "script_pubkey = p2pkh_script(h160)\n",
    "# get the value for the transaction input (remember testnet=True)\n",
    "prev_amount = tx_ins[0].value(testnet=True)\n",
    "# calculate change_satoshis based on previous amount, target_satoshis & fee\n",
    "change_satoshis = prev_amount - target_satoshis - fee\n",
    "# create a new tx output for target with amount and script_pubkey\n",
    "tx_outs.append(TxOut(change_satoshis, script_pubkey))\n",
    "\n",
    "# create the transaction (name it tx_obj to not conflict)\n",
    "tx_obj = Tx(1, tx_ins, tx_outs, 0, testnet=True)\n",
    "\n",
    "# now sign the 0th input with the private_key using sign_input\n",
    "tx_obj.sign_input(0, private_key)\n",
    "\n",
    "# SANITY CHECK: change address corresponds to private key\n",
    "if private_key.point.address(testnet=True) != change_address:\n",
    "    raise RuntimeError('Private Key does not correspond to Change Address, check priv_key and change_address')\n",
    "\n",
    "# SANITY CHECK: output's script_pubkey is the same one as your address\n",
    "if tx_ins[0].script_pubkey(testnet=True).instructions[2] != decode_base58(change_address):\n",
    "    raise RuntimeError('Output is not something you can spend with this private key. Check that the prev_tx and prev_index are correct')\n",
    "\n",
    "# SANITY CHECK: fee is reasonable\n",
    "if tx_obj.fee() > 0.05*100000000 or tx_obj.fee() <= 0:\n",
    "    raise RuntimeError('Check that the change amount is reasonable. Fee is {}'.format(tx_obj.fee()))\n",
    "\n",
    "# serialize and hex()\n",
    "print(tx_obj.serialize().hex())"
   ]
  },
  {
   "cell_type": "code",
   "execution_count": 6,
   "metadata": {},
   "outputs": [
    {
     "name": "stdout",
     "output_type": "stream",
     "text": [
      "0100000002f48a065c1236ddf8033d2a1bc0ada4bca9da6adf4a5c1fb11edfaddd2efecb89000000006a47304402204b9ee431a2f5deaefb5282a34d7dcfdb47d55b1e3ce00cac4c6b6e6f0f0e8d58022062710e84786d2c6c89ddda5a149b45088b15230c6b825f0f21490f99bd74c81d012103f96f3a1efd31e1a8d7078118ee56bff7355d58907ce0f865f5f0b3dbe34e55befffffffff45ca5fc10cdf70aa347fcec838e97e021e88ed5d91133e0705fd904139e0619000000006a473044022073d7217b2d582e55978284c2628015a14e3490e835c76488eb29b63de15d17920220384e4b5282c911273efd4d98170e7092e10a729d142db17f4725c15364fa4ecc012103f96f3a1efd31e1a8d7078118ee56bff7355d58907ce0f865f5f0b3dbe34e55beffffffff01021f320a000000001976a914ad346f8eb57dee9a37981716e498120ae80e44f788ac00000000\n"
     ]
    }
   ],
   "source": [
    "# Bonus\n",
    "\n",
    "prev_tx_1 = bytes.fromhex('89cbfe2eddaddf1eb11f5c4adf6adaa9bca4adc01b2a3d03f8dd36125c068af4')\n",
    "prev_index_1 = 0\n",
    "prev_tx_2 = bytes.fromhex('19069e1304d95f70e03311d9d58ee821e0978e83ecfc47a30af7cd10fca55cf4')\n",
    "prev_index_2 = 0\n",
    "target_address = 'mwJn1YPMq7y5F8J3LkC5Hxg9PHyZ5K4cFv'\n",
    "fee = 50000\n",
    "secret = 61740721216174072121\n",
    "private_key = PrivateKey(secret=secret)\n",
    "\n",
    "# initialize inputs\n",
    "tx_ins = []\n",
    "# create the first tx input with prev_tx_1, prev_index_1\n",
    "tx_ins.append(TxIn(prev_tx_1, prev_index_1))\n",
    "# create the second tx input with prev_tx_2, prev_index_2\n",
    "tx_ins.append(TxIn(prev_tx_2, prev_index_2))\n",
    "\n",
    "# initialize outputs\n",
    "tx_outs = []\n",
    "# decode the hash160 from the target address\n",
    "h160 = decode_base58(target_address)\n",
    "# convert hash160 to p2pkh script\n",
    "script_pubkey = p2pkh_script(h160)\n",
    "# calculate target amount by adding the input values and subtracting the fee\n",
    "target_satoshis = tx_ins[0].value(True) + tx_ins[1].value(True) - fee\n",
    "# create a single tx output for target with amount and script_pubkey\n",
    "tx_outs.append(TxOut(target_satoshis, script_pubkey))\n",
    "\n",
    "# create the transaction\n",
    "tx_obj = Tx(1, tx_ins, tx_outs, 0, testnet=True)\n",
    "\n",
    "# sign both inputs with the private key using sign_input\n",
    "tx_obj.sign_input(0, private_key)\n",
    "tx_obj.sign_input(1, private_key)\n",
    "\n",
    "# SANITY CHECK: output's script_pubkey is the same one as your address\n",
    "if tx_ins[0].script_pubkey(testnet=True).instructions[2] != decode_base58(private_key.point.address(testnet=True)):\n",
    "    raise RuntimeError('Output is not something you can spend with this private key. Check that the prev_tx and prev_index are correct')\n",
    "\n",
    "# SANITY CHECK: fee is reasonable\n",
    "if tx_obj.fee() > 0.05*100000000 or tx_obj.fee() <= 0:\n",
    "    raise RuntimeError('Check that the change amount is reasonable. Fee is {}'.format(tx_obj.fee()))\n",
    "\n",
    "# serialize and hex()\n",
    "print(tx_obj.serialize().hex())"
   ]
  },
  {
   "cell_type": "code",
   "execution_count": 7,
   "metadata": {},
   "outputs": [],
   "source": [
    "# op_checkmultisig\n",
    "def op_checkmultisig(stack, z):\n",
    "    if len(stack) < 1:\n",
    "        return False\n",
    "    n = decode_num(stack.pop())\n",
    "    if len(stack) < n + 1:\n",
    "        return False\n",
    "    sec_pubkeys = []\n",
    "    for _ in range(n):\n",
    "        sec_pubkeys.append(stack.pop())\n",
    "    m = decode_num(stack.pop())\n",
    "    if len(stack) < m + 1:\n",
    "        return False\n",
    "    der_signatures = []\n",
    "    for _ in range(m):\n",
    "        # signature is assumed to be using SIGHASH_ALL\n",
    "        der_signatures.append(stack.pop()[:-1])\n",
    "    # OP_CHECKMULTISIG bug\n",
    "    stack.pop()\n",
    "    try:\n",
    "        raise NotImplementedError\n",
    "    except (ValueError, SyntaxError):\n",
    "        return False\n",
    "    return True"
   ]
  },
  {
   "cell_type": "markdown",
   "metadata": {},
   "source": [
    "### Exercise 4\n",
    "\n",
    "#### 4.1. Make [this test](/edit/session5/op.py) pass\n",
    "```\n",
    "op.py:OpTest:test_op_checkmultisig\n",
    "```"
   ]
  },
  {
   "cell_type": "code",
   "execution_count": 8,
   "metadata": {},
   "outputs": [
    {
     "name": "stderr",
     "output_type": "stream",
     "text": [
      ".\n",
      "----------------------------------------------------------------------\n",
      "Ran 1 test in 0.212s\n",
      "\n",
      "OK\n"
     ]
    }
   ],
   "source": [
    "# Exercise 4.1\n",
    "\n",
    "reload(op)\n",
    "run(op.OpTest('test_op_checkmultisig'))"
   ]
  },
  {
   "cell_type": "markdown",
   "metadata": {},
   "source": [
    "### Exercise 5\n",
    "\n",
    "#### 5.1. Find the hash160 of the RedeemScript\n",
    "```\n",
    "5221022626e955ea6ea6d98850c994f9107b036b1334f18ca8830bfff1295d21cfdb702103b287eaf122eea69030a0e9feed096bed8045c8b98bec453e1ffac7fbdbd4bb7152ae\n",
    "```"
   ]
  },
  {
   "cell_type": "code",
   "execution_count": 9,
   "metadata": {},
   "outputs": [
    {
     "name": "stdout",
     "output_type": "stream",
     "text": [
      "74d691da1574e6b3c192ecfb52cc8984ee7b6c56\n"
     ]
    }
   ],
   "source": [
    "# Exercise 5.1\n",
    "\n",
    "hex_redeem_script = '5221022626e955ea6ea6d98850c994f9107b036b1334f18ca8830bfff1295d21cfdb702103b287eaf122eea69030a0e9feed096bed8045c8b98bec453e1ffac7fbdbd4bb7152ae'\n",
    "\n",
    "# bytes.fromhex script\n",
    "redeem_script = bytes.fromhex(hex_redeem_script)\n",
    "# hash160 result\n",
    "h160 = hash160(redeem_script)\n",
    "# hex() to display\n",
    "print(h160.hex())"
   ]
  },
  {
   "cell_type": "code",
   "execution_count": 10,
   "metadata": {},
   "outputs": [
    {
     "name": "stdout",
     "output_type": "stream",
     "text": [
      "3CLoMMyuoDQTPRD3XYZtCvgvkadrAdvdXh\n"
     ]
    }
   ],
   "source": [
    "# P2SH address construction example\n",
    "print(encode_base58_checksum(b'\\x05'+bytes.fromhex('74d691da1574e6b3c192ecfb52cc8984ee7b6c56')))"
   ]
  },
  {
   "cell_type": "markdown",
   "metadata": {},
   "source": [
    "### Exercise 6\n",
    "\n",
    "#### 6.1. Make [these tests](/edit/session5/helper.py) pass\n",
    "```\n",
    "helper.py:HelperTest:test_p2pkh_address\n",
    "helper.py:HelperTest:test_p2sh_address\n",
    "```\n",
    "\n",
    "#### 6.2. Make [this test](/edit/session5/script.py) pass\n",
    "```\n",
    "script.py:ScriptTest:test_address\n",
    "```"
   ]
  },
  {
   "cell_type": "code",
   "execution_count": 11,
   "metadata": {},
   "outputs": [
    {
     "name": "stderr",
     "output_type": "stream",
     "text": [
      ".\n",
      "----------------------------------------------------------------------\n",
      "Ran 1 test in 0.001s\n",
      "\n",
      "OK\n",
      ".\n",
      "----------------------------------------------------------------------\n",
      "Ran 1 test in 0.001s\n",
      "\n",
      "OK\n"
     ]
    }
   ],
   "source": [
    "# Exercise 6.1\n",
    "\n",
    "reload(helper)\n",
    "run(helper.HelperTest('test_p2pkh_address'))\n",
    "run(helper.HelperTest('test_p2sh_address'))"
   ]
  },
  {
   "cell_type": "code",
   "execution_count": 12,
   "metadata": {},
   "outputs": [
    {
     "name": "stderr",
     "output_type": "stream",
     "text": [
      ".\n",
      "----------------------------------------------------------------------\n",
      "Ran 1 test in 0.001s\n",
      "\n",
      "OK\n"
     ]
    }
   ],
   "source": [
    "# Exercise 6.2\n",
    "\n",
    "reload(script)\n",
    "run(script.ScriptTest('test_address'))"
   ]
  },
  {
   "cell_type": "code",
   "execution_count": 13,
   "metadata": {},
   "outputs": [
    {
     "name": "stdout",
     "output_type": "stream",
     "text": [
      "0xe71bfa115715d6fd33796948126f40a8cdd39f187e4afb03896795189fe1423c\n"
     ]
    }
   ],
   "source": [
    "# z for p2sh example\n",
    "h256 = hash256(bytes.fromhex('0100000001868278ed6ddfb6c1ed3ad5f8181eb0c7a385aa0836f01d5e4789e6bd304d87221a000000475221022626e955ea6ea6d98850c994f9107b036b1334f18ca8830bfff1295d21cfdb702103b287eaf122eea69030a0e9feed096bed8045c8b98bec453e1ffac7fbdbd4bb7152aeffffffff04d3b11400000000001976a914904a49878c0adfc3aa05de7afad2cc15f483a56a88ac7f400900000000001976a914418327e3f3dda4cf5b9089325a4b95abdfa0334088ac722c0c00000000001976a914ba35042cfe9fc66fd35ac2224eebdafd1028ad2788acdc4ace020000000017a91474d691da1574e6b3c192ecfb52cc8984ee7b6c56870000000001000000'))\n",
    "z = int.from_bytes(h256, 'big')\n",
    "                    \n",
    "print(hex(z))"
   ]
  },
  {
   "cell_type": "code",
   "execution_count": 14,
   "metadata": {},
   "outputs": [
    {
     "name": "stdout",
     "output_type": "stream",
     "text": [
      "True\n"
     ]
    }
   ],
   "source": [
    "# p2sh verification example\n",
    "h256 = hash256(bytes.fromhex('0100000001868278ed6ddfb6c1ed3ad5f8181eb0c7a385aa0836f01d5e4789e6bd304d87221a000000475221022626e955ea6ea6d98850c994f9107b036b1334f18ca8830bfff1295d21cfdb702103b287eaf122eea69030a0e9feed096bed8045c8b98bec453e1ffac7fbdbd4bb7152aeffffffff04d3b11400000000001976a914904a49878c0adfc3aa05de7afad2cc15f483a56a88ac7f400900000000001976a914418327e3f3dda4cf5b9089325a4b95abdfa0334088ac722c0c00000000001976a914ba35042cfe9fc66fd35ac2224eebdafd1028ad2788acdc4ace020000000017a91474d691da1574e6b3c192ecfb52cc8984ee7b6c56870000000001000000'))\n",
    "z = int.from_bytes(h256, 'big')\n",
    "point = S256Point.parse(bytes.fromhex('022626e955ea6ea6d98850c994f9107b036b1334f18ca8830bfff1295d21cfdb70'))\n",
    "sig = Signature.parse(bytes.fromhex('3045022100dc92655fe37036f47756db8102e0d7d5e28b3beb83a8fef4f5dc0559bddfb94e02205a36d4e4e6c7fcd16658c50783e00c341609977aed3ad00937bf4ee942a89937'))\n",
    "print(point.verify(z, sig))"
   ]
  },
  {
   "cell_type": "markdown",
   "metadata": {},
   "source": [
    "### Exercise 7\n",
    "\n",
    "#### 7.1. Validate the second signature of the first input\n",
    "\n",
    "```\n",
    "0100000001868278ed6ddfb6c1ed3ad5f8181eb0c7a385aa0836f01d5e4789e6bd304d87221a000000db00483045022100dc92655fe37036f47756db8102e0d7d5e28b3beb83a8fef4f5dc0559bddfb94e02205a36d4e4e6c7fcd16658c50783e00c341609977aed3ad00937bf4ee942a8993701483045022100da6bee3c93766232079a01639d07fa869598749729ae323eab8eef53577d611b02207bef15429dcadce2121ea07f233115c6f09034c0be68db99980b9a6c5e75402201475221022626e955ea6ea6d98850c994f9107b036b1334f18ca8830bfff1295d21cfdb702103b287eaf122eea69030a0e9feed096bed8045c8b98bec453e1ffac7fbdbd4bb7152aeffffffff04d3b11400000000001976a914904a49878c0adfc3aa05de7afad2cc15f483a56a88ac7f400900000000001976a914418327e3f3dda4cf5b9089325a4b95abdfa0334088ac722c0c00000000001976a914ba35042cfe9fc66fd35ac2224eebdafd1028ad2788acdc4ace020000000017a91474d691da1574e6b3c192ecfb52cc8984ee7b6c568700000000\n",
    "```\n",
    "\n",
    "The sec pubkey of the second signature is:\n",
    "```\n",
    "03b287eaf122eea69030a0e9feed096bed8045c8b98bec453e1ffac7fbdbd4bb71\n",
    "```\n",
    "\n",
    "The der signature of the second signature is:\n",
    "```\n",
    "3045022100da6bee3c93766232079a01639d07fa869598749729ae323eab8eef53577d611b02207bef15429dcadce2121ea07f233115c6f09034c0be68db99980b9a6c5e75402201475221022\n",
    "```\n",
    "\n",
    "The redeemScript is:\n",
    "```\n",
    "475221022626e955ea6ea6d98850c994f9107b036b1334f18ca8830bfff1295d21cfdb702103b287eaf122eea69030a0e9feed096bed8045c8b98bec453e1ffac7fbdbd4bb7152ae\n",
    "```"
   ]
  },
  {
   "cell_type": "code",
   "execution_count": 15,
   "metadata": {},
   "outputs": [
    {
     "name": "stdout",
     "output_type": "stream",
     "text": [
      "True\n"
     ]
    }
   ],
   "source": [
    "# Exercise 7.1\n",
    "hex_sec = '03b287eaf122eea69030a0e9feed096bed8045c8b98bec453e1ffac7fbdbd4bb71'\n",
    "hex_der = '3045022100da6bee3c93766232079a01639d07fa869598749729ae323eab8eef53577d611b02207bef15429dcadce2121ea07f233115c6f09034c0be68db99980b9a6c5e754022'\n",
    "hex_redeem_script = '475221022626e955ea6ea6d98850c994f9107b036b1334f18ca8830bfff1295d21cfdb702103b287eaf122eea69030a0e9feed096bed8045c8b98bec453e1ffac7fbdbd4bb7152ae'\n",
    "sec = bytes.fromhex(hex_sec)\n",
    "der = bytes.fromhex(hex_der)\n",
    "redeem_script_stream = BytesIO(bytes.fromhex(hex_redeem_script))\n",
    "\n",
    "hex_tx = '0100000001868278ed6ddfb6c1ed3ad5f8181eb0c7a385aa0836f01d5e4789e6bd304d87221a000000db00483045022100dc92655fe37036f47756db8102e0d7d5e28b3beb83a8fef4f5dc0559bddfb94e02205a36d4e4e6c7fcd16658c50783e00c341609977aed3ad00937bf4ee942a8993701483045022100da6bee3c93766232079a01639d07fa869598749729ae323eab8eef53577d611b02207bef15429dcadce2121ea07f233115c6f09034c0be68db99980b9a6c5e75402201475221022626e955ea6ea6d98850c994f9107b036b1334f18ca8830bfff1295d21cfdb702103b287eaf122eea69030a0e9feed096bed8045c8b98bec453e1ffac7fbdbd4bb7152aeffffffff04d3b11400000000001976a914904a49878c0adfc3aa05de7afad2cc15f483a56a88ac7f400900000000001976a914418327e3f3dda4cf5b9089325a4b95abdfa0334088ac722c0c00000000001976a914ba35042cfe9fc66fd35ac2224eebdafd1028ad2788acdc4ace020000000017a91474d691da1574e6b3c192ecfb52cc8984ee7b6c568700000000'\n",
    "stream = BytesIO(bytes.fromhex(hex_tx))\n",
    "\n",
    "# parse the S256Point and Signature\n",
    "point = S256Point.parse(sec)\n",
    "sig = Signature.parse(der)\n",
    "# parse the Tx\n",
    "t = Tx.parse(stream)\n",
    "# change the first input's scriptSig to redeemScript\n",
    "# use Script.parse on the redeem_script_stream\n",
    "t.tx_ins[0].script_sig = Script.parse(redeem_script_stream)\n",
    "# get the serialization\n",
    "ser = t.serialize()\n",
    "# add the sighash (4 bytes, little-endian of SIGHASH_ALL)\n",
    "ser += int_to_little_endian(SIGHASH_ALL, 4)\n",
    "# hash256 the result\n",
    "h256 = hash256(ser)\n",
    "# this interpreted is a big-endian number is your z\n",
    "z = int.from_bytes(h256, 'big')\n",
    "# now verify the signature using point.verify\n",
    "print(point.verify(z, sig))"
   ]
  }
 ],
 "metadata": {
  "kernelspec": {
   "display_name": "Python 3",
   "language": "python",
   "name": "python3"
  },
  "language_info": {
   "codemirror_mode": {
    "name": "ipython",
    "version": 3
   },
   "file_extension": ".py",
   "mimetype": "text/x-python",
   "name": "python",
   "nbconvert_exporter": "python",
   "pygments_lexer": "ipython3",
   "version": "3.6.5"
  }
 },
 "nbformat": 4,
 "nbformat_minor": 2
}
