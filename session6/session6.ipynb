{
 "cells": [
  {
   "cell_type": "code",
   "execution_count": null,
   "metadata": {},
   "outputs": [],
   "source": [
    "# import everything and define a test runner function\n",
    "from importlib import reload\n",
    "from helper import run\n",
    "\n",
    "import block\n",
    "import ecc\n",
    "import helper\n",
    "import script\n",
    "import tx"
   ]
  },
  {
   "cell_type": "markdown",
   "metadata": {},
   "source": [
    "### Exercise 1\n",
    "\n",
    "#### 1.1. Make [this test](/edit/session6/tx.py) pass\n",
    "```\n",
    "tx.py:TxTest:test_is_coinbase\n",
    "```"
   ]
  },
  {
   "cell_type": "code",
   "execution_count": null,
   "metadata": {},
   "outputs": [],
   "source": [
    "# Exercise 1.1\n",
    "\n",
    "reload(tx)\n",
    "run(tx.TxTest('test_is_coinbase'))"
   ]
  },
  {
   "cell_type": "markdown",
   "metadata": {},
   "source": [
    "### Exercise 2\n",
    "\n",
    "#### 2.1. Parse the Genesis Block Coinbase Transaction and print out the scriptSig's third item\n",
    "\n",
    "```\n",
    "01000000010000000000000000000000000000000000000000000000000000000000000000ffffffff4d04ffff001d0104455468652054696d65732030332f4a616e2f32303039204368616e63656c6c6f72206f6e206272696e6b206f66207365636f6e64206261696c6f757420666f722062616e6b73ffffffff0100f2052a01000000434104678afdb0fe5548271967f1a67130b7105cd6a828e03909a67962e0ea1f61deb649f6bc3f4cef38c4f35504e51ec112de5c384df7ba0b8d578a4c702b6bf11d5fac00000000\n",
    "```\n",
    "\n",
    "#### 2.2. Make [this test](/edit/session6/tx.py) pass\n",
    "```\n",
    "tx.py:TxTest:test_coinbase_height\n",
    "```"
   ]
  },
  {
   "cell_type": "code",
   "execution_count": null,
   "metadata": {},
   "outputs": [],
   "source": [
    "# Exercise 2.1\n",
    "\n",
    "from io import BytesIO\n",
    "\n",
    "from tx import Tx\n",
    "\n",
    "hex_tx = '01000000010000000000000000000000000000000000000000000000000000000000000000ffffffff4d04ffff001d0104455468652054696d65732030332f4a616e2f32303039204368616e63656c6c6f72206f6e206272696e6b206f66207365636f6e64206261696c6f757420666f722062616e6b73ffffffff0100f2052a01000000434104678afdb0fe5548271967f1a67130b7105cd6a828e03909a67962e0ea1f61deb649f6bc3f4cef38c4f35504e51ec112de5c384df7ba0b8d578a4c702b6bf11d5fac00000000'\n",
    "\n",
    "# create stream with BytesIO and bytes.fromhex\n",
    "# parse the coinbase transaction\n",
    "# print the first input's script_sig's third item"
   ]
  },
  {
   "cell_type": "code",
   "execution_count": null,
   "metadata": {},
   "outputs": [],
   "source": [
    "# Exercise 2.2\n",
    "\n",
    "reload(tx)\n",
    "run(tx.TxTest('test_coinbase_height'))"
   ]
  },
  {
   "cell_type": "markdown",
   "metadata": {},
   "source": [
    "### Exercise 3\n",
    "\n",
    "#### 3.1. Find the output address corresponding to this ScriptPubKey\n",
    "```\n",
    "1976a914338c84849423992471bffb1a54a8d9b1d69dc28a88ac\n",
    "```\n",
    "\n",
    "Remember the structure of pay-to-pubkey-hash (p2pkh) which has `OP_DUP OP_HASH160 <hash> OP_EQUALVERIFY OP_CHECKSIG`.\n",
    "\n",
    "You need to grab the hash160 and turn that into an address.\n"
   ]
  },
  {
   "cell_type": "code",
   "execution_count": null,
   "metadata": {},
   "outputs": [],
   "source": [
    "# Exercise 3.1\n",
    "\n",
    "from io import BytesIO\n",
    "\n",
    "from helper import h160_to_p2pkh_address\n",
    "from script import Script\n",
    "\n",
    "hex_script_pubkey = '1976a914338c84849423992471bffb1a54a8d9b1d69dc28a88ac'\n",
    "\n",
    "# BytesIO(bytes.fromhex) to get the stream\n",
    "# parse with Script\n",
    "# get the address using address() on the script_pubkey"
   ]
  },
  {
   "cell_type": "markdown",
   "metadata": {},
   "source": [
    "### Exercise 4\n",
    "\n",
    "#### 4.1. What is the hash256 of this block? Notice anything?\n",
    "```\n",
    "020000208ec39428b17323fa0ddec8e887b4a7c53b8c0a0a220cfd0000000000000000005b0750fce0a889502d40508d39576821155e9c9e3f5c3157f961db38fd8b25be1e77a759e93c0118a4ffd71d\n",
    "```\n",
    "\n",
    "#### 4.2. Make [these tests](/edit/session6/block.py) pass.\n",
    "```\n",
    "block.py:BlockTest:test_parse\n",
    "block.py:BlockTest:test_serialize\n",
    "block.py:BlockTest:test_hash\n",
    "```"
   ]
  },
  {
   "cell_type": "code",
   "execution_count": null,
   "metadata": {},
   "outputs": [],
   "source": [
    "# Exercise 4.1\n",
    "\n",
    "from helper import hash256\n",
    "\n",
    "hex_block = '020000208ec39428b17323fa0ddec8e887b4a7c53b8c0a0a220cfd0000000000000000005b0750fce0a889502d40508d39576821155e9c9e3f5c3157f961db38fd8b25be1e77a759e93c0118a4ffd71d'\n",
    "\n",
    "# bytes.fromhex to get the binary\n",
    "# hash256 the result\n",
    "# hex() to see what it looks like"
   ]
  },
  {
   "cell_type": "code",
   "execution_count": null,
   "metadata": {
    "scrolled": true
   },
   "outputs": [],
   "source": [
    "# Exercise 4.2\n",
    "\n",
    "reload(block)\n",
    "run(block.BlockTest('test_parse'))\n",
    "run(block.BlockTest('test_serialize'))\n",
    "run(block.BlockTest('test_hash'))"
   ]
  },
  {
   "cell_type": "code",
   "execution_count": null,
   "metadata": {},
   "outputs": [],
   "source": [
    "# Version Signaling Example\n",
    "\n",
    "from io import BytesIO\n",
    "from block import Block\n",
    "\n",
    "hex_block = '020000208ec39428b17323fa0ddec8e887b4a7c53b8c0a0a220cfd0000000000000000005b0750fce0a889502d40508d39576821155e9c9e3f5c3157f961db38fd8b25be1e77a759e93c0118a4ffd71d'\n",
    "\n",
    "# bytes.fromhex to get the binary block\n",
    "bin_block = bytes.fromhex(hex_block)\n",
    "# create a stream using BytesIO\n",
    "stream = BytesIO(bin_block)\n",
    "# parse the block\n",
    "b = Block.parse(stream)\n",
    "# get the version\n",
    "version = b.version\n",
    "# rightshift 29 (version >> 29) and see if it's equal to 0b001 for BIP9\n",
    "print('BIP9: {}'.format(version >> 29 == 0b001))\n",
    "# see if bit 4 (version >> 4) from the right is set ( & 1) for BIP91\n",
    "print('BIP91: {}'.format(version >> 4 & 1 == 1))\n",
    "# see if bit 1 (version >> 1) from the right is set ( & 1) for BIP141\n",
    "print('BIP141: {}'.format(version >> 1 & 1 == 1))"
   ]
  },
  {
   "cell_type": "markdown",
   "metadata": {},
   "source": [
    "### Exercise 5\n",
    "\n",
    "#### 5.1. Make [these tests](/edit/session6/block.py) pass.\n",
    "```\n",
    "block.py:BlockTest:test_bip9\n",
    "block.py:BlockTest:test_bip91\n",
    "block.py:BlockTest:test_bip141\n",
    "```"
   ]
  },
  {
   "cell_type": "code",
   "execution_count": null,
   "metadata": {},
   "outputs": [],
   "source": [
    "# Exercise 5.1\n",
    "\n",
    "reload(block)\n",
    "run(block.BlockTest('test_bip9'))\n",
    "run(block.BlockTest('test_bip91'))\n",
    "run(block.BlockTest('test_bip141'))"
   ]
  },
  {
   "cell_type": "code",
   "execution_count": null,
   "metadata": {},
   "outputs": [],
   "source": [
    "# Calculating Target from Bits Example\n",
    "\n",
    "from helper import little_endian_to_int\n",
    "\n",
    "bits = bytes.fromhex('e93c0118')\n",
    "exponent = bits[-1]\n",
    "coefficient = little_endian_to_int(bits[:-1])\n",
    "target = coefficient*256**(exponent-3)\n",
    "print('{:x}'.format(target).zfill(64))"
   ]
  },
  {
   "cell_type": "code",
   "execution_count": null,
   "metadata": {},
   "outputs": [],
   "source": [
    "# Calculating Difficulty from Target Example\n",
    "\n",
    "from helper import little_endian_to_int\n",
    "\n",
    "bits = bytes.fromhex('e93c0118')\n",
    "exponent = bits[-1]\n",
    "coefficient = little_endian_to_int(bits[:-1])\n",
    "target = coefficient * 256**(exponent - 3)\n",
    "\n",
    "min_target = 0xffff * 256**(0x1d - 3)\n",
    "difficulty = min_target // target\n",
    "print(difficulty)"
   ]
  },
  {
   "cell_type": "markdown",
   "metadata": {},
   "source": [
    "### Exercise 6\n",
    "\n",
    "#### 6.1. Calculate the target and difficulty for these bits:\n",
    "```\n",
    "f2881718\n",
    "```\n",
    "\n",
    "Bits to target formula is \n",
    "\n",
    "\\\\(\\texttt{coefficient}\\cdot256^{(\\texttt{exponent}-3)}\\\\) \n",
    "\n",
    "where coefficient is the first three bytes in little endian and exponent is the last byte.\n",
    "\n",
    "Target to Difficulty formula is \n",
    "\n",
    "\\\\(\\texttt{difficulty} = \\texttt{min} / \\texttt{target}\\\\)\n",
    "\n",
    "where \\\\(\\texttt{min} = \\texttt{0xffff}\\cdot256^{(\\texttt{0x1d}-3)}\\\\)\n",
    "\n",
    "#### 6.2. Make [this test](/edit/session6/block.py) pass.\n",
    "```\n",
    "block.py:BlockTest:test_target\n",
    "```"
   ]
  },
  {
   "cell_type": "code",
   "execution_count": null,
   "metadata": {},
   "outputs": [],
   "source": [
    "# Exercise 6.1\n",
    "\n",
    "from helper import little_endian_to_int\n",
    "\n",
    "hex_bits = 'f2881718'\n",
    "\n",
    "# bytes.fromhex to get the bits\n",
    "# last byte is exponent\n",
    "# first three bytes are the coefficient in little endian\n",
    "# plug into formula coefficient * 2^(8*(exponent-3)) to get the target\n",
    "# print target using print('{:x}'.format(target).zfill(64))\n",
    "\n",
    "# difficulty formula is 0xffff * 256**(0x1d - 3) / target\n",
    "# print the difficulty"
   ]
  },
  {
   "cell_type": "code",
   "execution_count": null,
   "metadata": {},
   "outputs": [],
   "source": [
    "# Exercise 6.2\n",
    "\n",
    "reload(block)\n",
    "run(block.BlockTest('test_target'))"
   ]
  },
  {
   "cell_type": "markdown",
   "metadata": {},
   "source": [
    "### Exercise 7\n",
    "\n",
    "#### 7.1.Validate the proof-of-work for this block\n",
    "```\n",
    "04000000fbedbbf0cfdaf278c094f187f2eb987c86a199da22bbb20400000000000000007b7697b29129648fa08b4bcd13c9d5e60abb973a1efac9c8d573c71c807c56c3d6213557faa80518c3737ec1\n",
    "```\n",
    "\n",
    "Check that the proof-of-work (hash256 interpreted as a little-endian number) is lower than the target.\n",
    "\n",
    "#### 7.2. Make [this test](/edit/session6/block.py) pass.\n",
    "```\n",
    "block.py:BlockTest:test_check_pow\n",
    "```"
   ]
  },
  {
   "cell_type": "code",
   "execution_count": null,
   "metadata": {},
   "outputs": [],
   "source": [
    "# Exercise 7.1\n",
    "\n",
    "from io import BytesIO\n",
    "from helper import hash256, little_endian_to_int\n",
    "from block import Block\n",
    "\n",
    "hex_block = '04000000fbedbbf0cfdaf278c094f187f2eb987c86a199da22bbb20400000000000000007b7697b29129648fa08b4bcd13c9d5e60abb973a1efac9c8d573c71c807c56c3d6213557faa80518c3737ec1'\n",
    "\n",
    "# bytes.fromhex to get the binary block\n",
    "# make a stream using BytesIO\n",
    "# parse the Block\n",
    "\n",
    "# hash256 the serialization\n",
    "# interpret the result as a number in little endian\n",
    "# get the target\n",
    "# check proof of work < target"
   ]
  },
  {
   "cell_type": "code",
   "execution_count": null,
   "metadata": {},
   "outputs": [],
   "source": [
    "# Exercise 7.2\n",
    "\n",
    "reload(block)\n",
    "run(block.BlockTest('test_check_pow'))"
   ]
  }
 ],
 "metadata": {
  "kernelspec": {
   "display_name": "Python 3",
   "language": "python",
   "name": "python3"
  },
  "language_info": {
   "codemirror_mode": {
    "name": "ipython",
    "version": 3
   },
   "file_extension": ".py",
   "mimetype": "text/x-python",
   "name": "python",
   "nbconvert_exporter": "python",
   "pygments_lexer": "ipython3",
   "version": "3.6.5"
  }
 },
 "nbformat": 4,
 "nbformat_minor": 2
}
